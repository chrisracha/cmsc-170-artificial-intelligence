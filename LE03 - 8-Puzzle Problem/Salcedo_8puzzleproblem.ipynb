{
 "cells": [
  {
   "cell_type": "markdown",
   "id": "6fa63b4f-21fc-4e4d-85bb-b6613f24bd7c",
   "metadata": {},
   "source": [
    "### CMSC 170: Laboratory Exercise 2\n",
    "##### Missionaries and Cannibals\n",
    "Salcedo, Chris Samuel\n",
    "\n",
    "2022-05055"
   ]
  },
  {
   "cell_type": "markdown",
   "id": "30de86b1-9ecd-41af-a24b-e925d14d2860",
   "metadata": {},
   "source": [
    "#### Task 1.A: Define the Problem\n",
    "\n",
    "##### 1. What is the problemt that needs a solution?\n",
    "\n",
    "The 8-puzzle problem is a sliding puzzle that consists of 8-numbered tiles, labeled 1-8, and an empty space in a 3x3 grid. The challenge is rearranging the tiles through that empty space to achieve a specific goal state.\n",
    "\n",
    "##### 2. What is the initial state?\n",
    "\n",
    "The initial state is any valid state/configuration of the problem, serving as the starting point to where the problem-solving begins.\n",
    "\n",
    "##### 3. What is the goal state?\n",
    "\n",
    "The goal state is the desired state/configuration that is to be achieved. The most common goal state is the numerically arranged state [[1,2,3],[4,5,6],[7,8,0]].\n",
    "\n",
    "##### 4. What are the valid actions?\n",
    "The valid actions consist of four moves, representing the moves of the tiles into the empty space.\n",
    "\n",
    "* UP: Move the tile below the empty space upward.\n",
    "* DOWN: Move the tile above the empty space doenward\n",
    "* LEFT: Move the tile on the right of the empty space to the left\n",
    "* RIGHT: Move the tile on the left of the empty space to the right\n",
    "\n",
    "Of course, the validity of a move or an action relies on the current condition of the empty space. If the empty space is located in a side or corner of the grid then there will not be enough tiles arround it to fullfill the allowability of the four listed moves.\n",
    "\n",
    "##### 5. Whatis/are the functions that validate whether a state is valid?\n",
    "\n",
    "State validation check include constraints where,\n",
    "1. The board should only contain exactly 8 numbered tiles and one empty space\n",
    "2. All tiles are within the 3x3 boundaries\n",
    "3. No duplicate numbers exist, and\n",
    "4. The state is reachable from the initial state\n",
    "\n",
    "#### References:\n",
    "* https://www.geeksforgeeks.org/dsa/8-puzzle-problem-using-branch-and-bound/"
   ]
  },
  {
   "cell_type": "markdown",
   "id": "a900d3c3-108f-404b-b5b1-d869fe1ac78b",
   "metadata": {},
   "source": [
    "#### Task 1.B: Define the Breadth-First Search\n",
    "\n",
    "##### 1. What is the main idea behind the breadth-first search (BFS) algorithm, and how does it explore a graph or tree?\n",
    "\n",
    "The Breadth-First Search (BFS) is a search algorithm that explores nodes by level, starting from the root note, visiting all nodes at depth `d` before exploring nodes `d+1`. In the current puzzle, the algorithm explores all possible moves from the current state before moving to states that require more moves. This way, the shortest possible path is guaranteed to be outputted.\n",
    "\n",
    "##### 2. What data structure does BFS use, and why is it important? How does BFS differ from depth-first search (DFS)?\n",
    "\n",
    "BFS uses a queue (FIFO) data structure to ensure that nodes are processed in the order they were discovered and therefore guaranteeing level-by-level exploration. On the other hand, DFS uses stack (LIFO) and explores more depth-wise (hence the name), which although may find a solution that is not the most optimized, it is better memory-wise. BFS is used mostly on problems such as bipartite graphs and shortest paths, while DFS shows its strengths on problems such as acyclic graphs and finding strongly connected components. \n",
    "\n",
    "#### 3. What is the time complexity of BFS for a graph with V vertices and E edges?\n",
    "\n",
    "The time complexity of BFS is O(V+E) while its space complexity is O(V) for storing the queue and visited states.\n",
    "\n",
    "#### References:\n",
    "* https://www.geeksforgeeks.org/dsa/breadth-first-search-or-bfs-for-a-graph/\n",
    "* https://www.geeksforgeeks.org/dsa/difference-between-bfs-and-dfs/\n"
   ]
  },
  {
   "cell_type": "markdown",
   "id": "f668bf62-855b-4c71-a117-8ac8bae94185",
   "metadata": {},
   "source": [
    "#### Task 2: 8-Puzzle Game in Python"
   ]
  },
  {
   "cell_type": "code",
   "execution_count": 27,
   "id": "b6c73317-9603-439e-bf52-09cdb0fffde6",
   "metadata": {},
   "outputs": [],
   "source": [
    "import numpy as np\n",
    "from collections import deque\n",
    "import copy\n",
    "\n",
    "class EightPuzzleProblem:\n",
    "\n",
    "    def __init__(self):\n",
    "        self.board = None\n",
    "        self.goal_state = [[1,2,3], [4,5,6], [7,8,0]]\n",
    "\n",
    "        self.empty_pos = None\n",
    "\n",
    "    def display_instructions(self):\n",
    "        print()\n",
    "        print(\"\\nThe 8-puzzle problem is a 3x3 board with 8 tiles numbered from 1 to 8\")\n",
    "        print(\"and one empty space (represented by 0).\")\n",
    "        print(\"\\nThe objective is to begin with an arbitrary configuration of tiles,\")\n",
    "        print(\"and move them to place the numbered tiles to match the final configuration.\")\n",
    "        print(\"\\n📋 RULES:\")\n",
    "        print(\"1. Input the initial state of the puzzle using this format:\")\n",
    "        print(\"   ➢ [1,2,3,4,0,8,5,6,7] (where 0 represents the empty space)\")\n",
    "        print(\"\\n2. Use the following keys to move tiles into the empty space:\")\n",
    "        print(\"   'W' or 'w' → Move tile UP into empty space\")\n",
    "        print(\"   'S' or 's' → Move tile DOWN into empty space\") \n",
    "        print(\"   'A' or 'a' → Move tile LEFT into empty space\")\n",
    "        print(\"   'D' or 'd' → Move tile RIGHT into empty space\")\n",
    "        print(\"   'Q' or 'q' → Quit the game\")\n",
    "        print()\n",
    "\n",
    "    def initial_state(self):\n",
    "        while True:\n",
    "            try:\n",
    "                print(\"Enter initial state of the puzzle: \")\n",
    "                user_input = input(\"Format: [1,2,3,4,0,8,5,6,7]: \")\n",
    "\n",
    "                numbers = eval(user_input)\n",
    "                if len(numbers) != 9:\n",
    "                    raise ValueError(\"Please input 9 numbers (0-8).\")\n",
    "\n",
    "                self.board = [numbers[i:i+3] for i in range(0, 9, 3)]\n",
    "\n",
    "                if self.validate_state(self.board):\n",
    "                    self.find_empty()\n",
    "                    self.display_board()\n",
    "                    return True\n",
    "                else:\n",
    "                    print(\"Invalid state! Please ensure that the input aligns with the rules of the problem\")\n",
    "            except Exception as e:\n",
    "                print(f\"Invalid input format | Error: {e}\")\n",
    "                print(\"Please use the format: [1,2,3,4,0,8,5,6,7]\")\n",
    "\n",
    "    def validate_state(self, board):\n",
    "        flat = [num for row in board for num in row]\n",
    "        return sorted(flat) == list(range(9))\n",
    "\n",
    "    def find_empty(self):\n",
    "        # position of empty space\n",
    "        for i in range(3):\n",
    "            for j in range(3):\n",
    "                if self.board[i][j] == 0:\n",
    "                    self.empty_pos = (i, j)\n",
    "                    return\n",
    "\n",
    "    def display_board(self):\n",
    "        print()\n",
    "        print(\"┌─────┬─────┬─────┐\")\n",
    "        for i, row in enumerate(self.board):\n",
    "            row_str = \"│\"\n",
    "            for num in row:\n",
    "                if num == 0:\n",
    "                    row_str += \"     │\"\n",
    "                else:\n",
    "                    row_str +=  f\"  {num}  │\"\n",
    "            print(row_str)\n",
    "            if i < 2:\n",
    "                print(\"├─────┼─────┼─────┤\")\n",
    "        print(\"└─────┴─────┴─────┘\")\n",
    "\n",
    "    def get_valid(self):\n",
    "        row, col = self.empty_pos\n",
    "        valid_moves = []\n",
    "\n",
    "        directions = {\n",
    "            'UP': (1, 0, 'W'),\n",
    "            'DOWN': (-1, 0, 'S'),\n",
    "            'LEFT': (0, 1, 'A'),\n",
    "            'RIGHT': (0, -1, 'D')\n",
    "        }\n",
    "\n",
    "        for direction, (dr, dc, key) in directions.items():\n",
    "            new_row, new_col = row + dr, col + dc\n",
    "            if 0 <= new_row < 3 and 0 <= new_col < 3:\n",
    "                valid_moves.append((direction, key, new_row, new_col))\n",
    "\n",
    "        return valid_moves\n",
    "\n",
    "    def make_move(self, direction):\n",
    "        valid_moves = self.get_valid()\n",
    "        move_map = {move[1].lower(): move for move in valid_moves}\n",
    "\n",
    "        if direction.lower() in move_map:\n",
    "            _, _, tile_row, tile_col = move_map[direction.lower()]\n",
    "            empty_row, empty_col = self.empty_pos\n",
    "\n",
    "            self.board[empty_row][empty_col] = self.board[tile_row][tile_col]\n",
    "            self.board[tile_row][tile_col] = 0\n",
    "            self.empty_pos = (tile_row, tile_col)\n",
    "\n",
    "            return True\n",
    "        return False\n",
    "\n",
    "    def is_goal(self):\n",
    "        return self.board == self.goal_state\n",
    "\n",
    "    def play(self):\n",
    "\n",
    "        self.display_instructions()\n",
    "\n",
    "        if not self.initial_state():\n",
    "            return\n",
    "\n",
    "        moves_count = 0\n",
    "\n",
    "        while not self.is_goal():\n",
    "            move = input(\"\\nEnter your move: \").strip()\n",
    "            \n",
    "            if move.lower() == 'q':\n",
    "                print(\"Thanks for playing!\")\n",
    "                break\n",
    "\n",
    "            if self.make_move(move):\n",
    "                moves_count += 1\n",
    "                print(f\"\\nMove {moves_count}\")\n",
    "\n",
    "                self.display_board()\n",
    "\n",
    "                if self.is_goal():\n",
    "                    print(\"CONGRATULATIONS!\")\n",
    "                    print(f\"You solved the puzzle in {moves_count} moves!\")\n",
    "                    break\n",
    "            else:\n",
    "                print(\"Invalid move, try again.\")"
   ]
  },
  {
   "cell_type": "code",
   "execution_count": 28,
   "id": "c10a2a83-b280-488f-9215-d6c4ca657db5",
   "metadata": {},
   "outputs": [
    {
     "name": "stdout",
     "output_type": "stream",
     "text": [
      "\n",
      "\n",
      "The 8-puzzle problem is a 3x3 board with 8 tiles numbered from 1 to 8\n",
      "and one empty space (represented by 0).\n",
      "\n",
      "The objective is to begin with an arbitrary configuration of tiles,\n",
      "and move them to place the numbered tiles to match the final configuration.\n",
      "\n",
      "📋 RULES:\n",
      "1. Input the initial state of the puzzle using this format:\n",
      "   ➢ [1,2,3,4,0,8,5,6,7] (where 0 represents the empty space)\n",
      "\n",
      "2. Use the following keys to move tiles into the empty space:\n",
      "   'W' or 'w' → Move tile UP into empty space\n",
      "   'S' or 's' → Move tile DOWN into empty space\n",
      "   'A' or 'a' → Move tile LEFT into empty space\n",
      "   'D' or 'd' → Move tile RIGHT into empty space\n",
      "   'Q' or 'q' → Quit the game\n",
      "\n",
      "Enter initial state of the puzzle: \n"
     ]
    },
    {
     "name": "stdin",
     "output_type": "stream",
     "text": [
      "Format: [1,2,3,4,0,8,5,6,7]:  [1,2,3,4,0,8,5,6,7]\n"
     ]
    },
    {
     "name": "stdout",
     "output_type": "stream",
     "text": [
      "\n",
      "┌─────┬─────┬─────┐\n",
      "│  1  │  2  │  3  │\n",
      "├─────┼─────┼─────┤\n",
      "│  4  │     │  8  │\n",
      "├─────┼─────┼─────┤\n",
      "│  5  │  6  │  7  │\n",
      "└─────┴─────┴─────┘\n"
     ]
    },
    {
     "name": "stdin",
     "output_type": "stream",
     "text": [
      "\n",
      "Enter your move:  w\n"
     ]
    },
    {
     "name": "stdout",
     "output_type": "stream",
     "text": [
      "\n",
      "Move 1\n",
      "\n",
      "┌─────┬─────┬─────┐\n",
      "│  1  │  2  │  3  │\n",
      "├─────┼─────┼─────┤\n",
      "│  4  │  6  │  8  │\n",
      "├─────┼─────┼─────┤\n",
      "│  5  │     │  7  │\n",
      "└─────┴─────┴─────┘\n"
     ]
    },
    {
     "name": "stdin",
     "output_type": "stream",
     "text": [
      "\n",
      "Enter your move:  s\n"
     ]
    },
    {
     "name": "stdout",
     "output_type": "stream",
     "text": [
      "\n",
      "Move 2\n",
      "\n",
      "┌─────┬─────┬─────┐\n",
      "│  1  │  2  │  3  │\n",
      "├─────┼─────┼─────┤\n",
      "│  4  │     │  8  │\n",
      "├─────┼─────┼─────┤\n",
      "│  5  │  6  │  7  │\n",
      "└─────┴─────┴─────┘\n"
     ]
    },
    {
     "name": "stdin",
     "output_type": "stream",
     "text": [
      "\n",
      "Enter your move:  a\n"
     ]
    },
    {
     "name": "stdout",
     "output_type": "stream",
     "text": [
      "\n",
      "Move 3\n",
      "\n",
      "┌─────┬─────┬─────┐\n",
      "│  1  │  2  │  3  │\n",
      "├─────┼─────┼─────┤\n",
      "│  4  │  8  │     │\n",
      "├─────┼─────┼─────┤\n",
      "│  5  │  6  │  7  │\n",
      "└─────┴─────┴─────┘\n"
     ]
    },
    {
     "name": "stdin",
     "output_type": "stream",
     "text": [
      "\n",
      "Enter your move:  w\n"
     ]
    },
    {
     "name": "stdout",
     "output_type": "stream",
     "text": [
      "\n",
      "Move 4\n",
      "\n",
      "┌─────┬─────┬─────┐\n",
      "│  1  │  2  │  3  │\n",
      "├─────┼─────┼─────┤\n",
      "│  4  │  8  │  7  │\n",
      "├─────┼─────┼─────┤\n",
      "│  5  │  6  │     │\n",
      "└─────┴─────┴─────┘\n"
     ]
    },
    {
     "name": "stdin",
     "output_type": "stream",
     "text": [
      "\n",
      "Enter your move:  d\n"
     ]
    },
    {
     "name": "stdout",
     "output_type": "stream",
     "text": [
      "\n",
      "Move 5\n",
      "\n",
      "┌─────┬─────┬─────┐\n",
      "│  1  │  2  │  3  │\n",
      "├─────┼─────┼─────┤\n",
      "│  4  │  8  │  7  │\n",
      "├─────┼─────┼─────┤\n",
      "│  5  │     │  6  │\n",
      "└─────┴─────┴─────┘\n"
     ]
    },
    {
     "name": "stdin",
     "output_type": "stream",
     "text": [
      "\n",
      "Enter your move:  s\n"
     ]
    },
    {
     "name": "stdout",
     "output_type": "stream",
     "text": [
      "\n",
      "Move 6\n",
      "\n",
      "┌─────┬─────┬─────┐\n",
      "│  1  │  2  │  3  │\n",
      "├─────┼─────┼─────┤\n",
      "│  4  │     │  7  │\n",
      "├─────┼─────┼─────┤\n",
      "│  5  │  8  │  6  │\n",
      "└─────┴─────┴─────┘\n"
     ]
    },
    {
     "name": "stdin",
     "output_type": "stream",
     "text": [
      "\n",
      "Enter your move:  a\n"
     ]
    },
    {
     "name": "stdout",
     "output_type": "stream",
     "text": [
      "\n",
      "Move 7\n",
      "\n",
      "┌─────┬─────┬─────┐\n",
      "│  1  │  2  │  3  │\n",
      "├─────┼─────┼─────┤\n",
      "│  4  │  7  │     │\n",
      "├─────┼─────┼─────┤\n",
      "│  5  │  8  │  6  │\n",
      "└─────┴─────┴─────┘\n"
     ]
    },
    {
     "name": "stdin",
     "output_type": "stream",
     "text": [
      "\n",
      "Enter your move:  w\n"
     ]
    },
    {
     "name": "stdout",
     "output_type": "stream",
     "text": [
      "\n",
      "Move 8\n",
      "\n",
      "┌─────┬─────┬─────┐\n",
      "│  1  │  2  │  3  │\n",
      "├─────┼─────┼─────┤\n",
      "│  4  │  7  │  6  │\n",
      "├─────┼─────┼─────┤\n",
      "│  5  │  8  │     │\n",
      "└─────┴─────┴─────┘\n"
     ]
    },
    {
     "name": "stdin",
     "output_type": "stream",
     "text": [
      "\n",
      "Enter your move:  d\n"
     ]
    },
    {
     "name": "stdout",
     "output_type": "stream",
     "text": [
      "\n",
      "Move 9\n",
      "\n",
      "┌─────┬─────┬─────┐\n",
      "│  1  │  2  │  3  │\n",
      "├─────┼─────┼─────┤\n",
      "│  4  │  7  │  6  │\n",
      "├─────┼─────┼─────┤\n",
      "│  5  │     │  8  │\n",
      "└─────┴─────┴─────┘\n"
     ]
    },
    {
     "name": "stdin",
     "output_type": "stream",
     "text": [
      "\n",
      "Enter your move:  s\n"
     ]
    },
    {
     "name": "stdout",
     "output_type": "stream",
     "text": [
      "\n",
      "Move 10\n",
      "\n",
      "┌─────┬─────┬─────┐\n",
      "│  1  │  2  │  3  │\n",
      "├─────┼─────┼─────┤\n",
      "│  4  │     │  6  │\n",
      "├─────┼─────┼─────┤\n",
      "│  5  │  7  │  8  │\n",
      "└─────┴─────┴─────┘\n"
     ]
    },
    {
     "name": "stdin",
     "output_type": "stream",
     "text": [
      "\n",
      "Enter your move:  w\n"
     ]
    },
    {
     "name": "stdout",
     "output_type": "stream",
     "text": [
      "\n",
      "Move 11\n",
      "\n",
      "┌─────┬─────┬─────┐\n",
      "│  1  │  2  │  3  │\n",
      "├─────┼─────┼─────┤\n",
      "│  4  │  7  │  6  │\n",
      "├─────┼─────┼─────┤\n",
      "│  5  │     │  8  │\n",
      "└─────┴─────┴─────┘\n"
     ]
    },
    {
     "name": "stdin",
     "output_type": "stream",
     "text": [
      "\n",
      "Enter your move:  d\n"
     ]
    },
    {
     "name": "stdout",
     "output_type": "stream",
     "text": [
      "\n",
      "Move 12\n",
      "\n",
      "┌─────┬─────┬─────┐\n",
      "│  1  │  2  │  3  │\n",
      "├─────┼─────┼─────┤\n",
      "│  4  │  7  │  6  │\n",
      "├─────┼─────┼─────┤\n",
      "│     │  5  │  8  │\n",
      "└─────┴─────┴─────┘\n"
     ]
    },
    {
     "name": "stdin",
     "output_type": "stream",
     "text": [
      "\n",
      "Enter your move:  s\n"
     ]
    },
    {
     "name": "stdout",
     "output_type": "stream",
     "text": [
      "\n",
      "Move 13\n",
      "\n",
      "┌─────┬─────┬─────┐\n",
      "│  1  │  2  │  3  │\n",
      "├─────┼─────┼─────┤\n",
      "│     │  7  │  6  │\n",
      "├─────┼─────┼─────┤\n",
      "│  4  │  5  │  8  │\n",
      "└─────┴─────┴─────┘\n"
     ]
    },
    {
     "name": "stdin",
     "output_type": "stream",
     "text": [
      "\n",
      "Enter your move:  a\n"
     ]
    },
    {
     "name": "stdout",
     "output_type": "stream",
     "text": [
      "\n",
      "Move 14\n",
      "\n",
      "┌─────┬─────┬─────┐\n",
      "│  1  │  2  │  3  │\n",
      "├─────┼─────┼─────┤\n",
      "│  7  │     │  6  │\n",
      "├─────┼─────┼─────┤\n",
      "│  4  │  5  │  8  │\n",
      "└─────┴─────┴─────┘\n"
     ]
    },
    {
     "name": "stdin",
     "output_type": "stream",
     "text": [
      "\n",
      "Enter your move:  w\n"
     ]
    },
    {
     "name": "stdout",
     "output_type": "stream",
     "text": [
      "\n",
      "Move 15\n",
      "\n",
      "┌─────┬─────┬─────┐\n",
      "│  1  │  2  │  3  │\n",
      "├─────┼─────┼─────┤\n",
      "│  7  │  5  │  6  │\n",
      "├─────┼─────┼─────┤\n",
      "│  4  │     │  8  │\n",
      "└─────┴─────┴─────┘\n"
     ]
    },
    {
     "name": "stdin",
     "output_type": "stream",
     "text": [
      "\n",
      "Enter your move:  d\n"
     ]
    },
    {
     "name": "stdout",
     "output_type": "stream",
     "text": [
      "\n",
      "Move 16\n",
      "\n",
      "┌─────┬─────┬─────┐\n",
      "│  1  │  2  │  3  │\n",
      "├─────┼─────┼─────┤\n",
      "│  7  │  5  │  6  │\n",
      "├─────┼─────┼─────┤\n",
      "│     │  4  │  8  │\n",
      "└─────┴─────┴─────┘\n"
     ]
    },
    {
     "name": "stdin",
     "output_type": "stream",
     "text": [
      "\n",
      "Enter your move:  s\n"
     ]
    },
    {
     "name": "stdout",
     "output_type": "stream",
     "text": [
      "\n",
      "Move 17\n",
      "\n",
      "┌─────┬─────┬─────┐\n",
      "│  1  │  2  │  3  │\n",
      "├─────┼─────┼─────┤\n",
      "│     │  5  │  6  │\n",
      "├─────┼─────┼─────┤\n",
      "│  7  │  4  │  8  │\n",
      "└─────┴─────┴─────┘\n"
     ]
    },
    {
     "name": "stdin",
     "output_type": "stream",
     "text": [
      "\n",
      "Enter your move:  a\n"
     ]
    },
    {
     "name": "stdout",
     "output_type": "stream",
     "text": [
      "\n",
      "Move 18\n",
      "\n",
      "┌─────┬─────┬─────┐\n",
      "│  1  │  2  │  3  │\n",
      "├─────┼─────┼─────┤\n",
      "│  5  │     │  6  │\n",
      "├─────┼─────┼─────┤\n",
      "│  7  │  4  │  8  │\n",
      "└─────┴─────┴─────┘\n"
     ]
    },
    {
     "name": "stdin",
     "output_type": "stream",
     "text": [
      "\n",
      "Enter your move:  w\n"
     ]
    },
    {
     "name": "stdout",
     "output_type": "stream",
     "text": [
      "\n",
      "Move 19\n",
      "\n",
      "┌─────┬─────┬─────┐\n",
      "│  1  │  2  │  3  │\n",
      "├─────┼─────┼─────┤\n",
      "│  5  │  4  │  6  │\n",
      "├─────┼─────┼─────┤\n",
      "│  7  │     │  8  │\n",
      "└─────┴─────┴─────┘\n"
     ]
    },
    {
     "name": "stdin",
     "output_type": "stream",
     "text": [
      "\n",
      "Enter your move:  a\n"
     ]
    },
    {
     "name": "stdout",
     "output_type": "stream",
     "text": [
      "\n",
      "Move 20\n",
      "\n",
      "┌─────┬─────┬─────┐\n",
      "│  1  │  2  │  3  │\n",
      "├─────┼─────┼─────┤\n",
      "│  5  │  4  │  6  │\n",
      "├─────┼─────┼─────┤\n",
      "│  7  │  8  │     │\n",
      "└─────┴─────┴─────┘\n"
     ]
    },
    {
     "name": "stdin",
     "output_type": "stream",
     "text": [
      "\n",
      "Enter your move:  s\n"
     ]
    },
    {
     "name": "stdout",
     "output_type": "stream",
     "text": [
      "\n",
      "Move 21\n",
      "\n",
      "┌─────┬─────┬─────┐\n",
      "│  1  │  2  │  3  │\n",
      "├─────┼─────┼─────┤\n",
      "│  5  │  4  │     │\n",
      "├─────┼─────┼─────┤\n",
      "│  7  │  8  │  6  │\n",
      "└─────┴─────┴─────┘\n"
     ]
    },
    {
     "name": "stdin",
     "output_type": "stream",
     "text": [
      "\n",
      "Enter your move:  d\n"
     ]
    },
    {
     "name": "stdout",
     "output_type": "stream",
     "text": [
      "\n",
      "Move 22\n",
      "\n",
      "┌─────┬─────┬─────┐\n",
      "│  1  │  2  │  3  │\n",
      "├─────┼─────┼─────┤\n",
      "│  5  │     │  4  │\n",
      "├─────┼─────┼─────┤\n",
      "│  7  │  8  │  6  │\n",
      "└─────┴─────┴─────┘\n"
     ]
    },
    {
     "name": "stdin",
     "output_type": "stream",
     "text": [
      "\n",
      "Enter your move:  d\n"
     ]
    },
    {
     "name": "stdout",
     "output_type": "stream",
     "text": [
      "\n",
      "Move 23\n",
      "\n",
      "┌─────┬─────┬─────┐\n",
      "│  1  │  2  │  3  │\n",
      "├─────┼─────┼─────┤\n",
      "│     │  5  │  4  │\n",
      "├─────┼─────┼─────┤\n",
      "│  7  │  8  │  6  │\n",
      "└─────┴─────┴─────┘\n"
     ]
    },
    {
     "name": "stdin",
     "output_type": "stream",
     "text": [
      "\n",
      "Enter your move:  w\n"
     ]
    },
    {
     "name": "stdout",
     "output_type": "stream",
     "text": [
      "\n",
      "Move 24\n",
      "\n",
      "┌─────┬─────┬─────┐\n",
      "│  1  │  2  │  3  │\n",
      "├─────┼─────┼─────┤\n",
      "│  7  │  5  │  4  │\n",
      "├─────┼─────┼─────┤\n",
      "│     │  8  │  6  │\n",
      "└─────┴─────┴─────┘\n"
     ]
    },
    {
     "name": "stdin",
     "output_type": "stream",
     "text": [
      "\n",
      "Enter your move:  a\n"
     ]
    },
    {
     "name": "stdout",
     "output_type": "stream",
     "text": [
      "\n",
      "Move 25\n",
      "\n",
      "┌─────┬─────┬─────┐\n",
      "│  1  │  2  │  3  │\n",
      "├─────┼─────┼─────┤\n",
      "│  7  │  5  │  4  │\n",
      "├─────┼─────┼─────┤\n",
      "│  8  │     │  6  │\n",
      "└─────┴─────┴─────┘\n"
     ]
    },
    {
     "name": "stdin",
     "output_type": "stream",
     "text": [
      "\n",
      "Enter your move:  a\n"
     ]
    },
    {
     "name": "stdout",
     "output_type": "stream",
     "text": [
      "\n",
      "Move 26\n",
      "\n",
      "┌─────┬─────┬─────┐\n",
      "│  1  │  2  │  3  │\n",
      "├─────┼─────┼─────┤\n",
      "│  7  │  5  │  4  │\n",
      "├─────┼─────┼─────┤\n",
      "│  8  │  6  │     │\n",
      "└─────┴─────┴─────┘\n"
     ]
    },
    {
     "name": "stdin",
     "output_type": "stream",
     "text": [
      "\n",
      "Enter your move:  s\n"
     ]
    },
    {
     "name": "stdout",
     "output_type": "stream",
     "text": [
      "\n",
      "Move 27\n",
      "\n",
      "┌─────┬─────┬─────┐\n",
      "│  1  │  2  │  3  │\n",
      "├─────┼─────┼─────┤\n",
      "│  7  │  5  │     │\n",
      "├─────┼─────┼─────┤\n",
      "│  8  │  6  │  4  │\n",
      "└─────┴─────┴─────┘\n"
     ]
    },
    {
     "name": "stdin",
     "output_type": "stream",
     "text": [
      "\n",
      "Enter your move:  d\n"
     ]
    },
    {
     "name": "stdout",
     "output_type": "stream",
     "text": [
      "\n",
      "Move 28\n",
      "\n",
      "┌─────┬─────┬─────┐\n",
      "│  1  │  2  │  3  │\n",
      "├─────┼─────┼─────┤\n",
      "│  7  │     │  5  │\n",
      "├─────┼─────┼─────┤\n",
      "│  8  │  6  │  4  │\n",
      "└─────┴─────┴─────┘\n"
     ]
    },
    {
     "name": "stdin",
     "output_type": "stream",
     "text": [
      "\n",
      "Enter your move:  w\n"
     ]
    },
    {
     "name": "stdout",
     "output_type": "stream",
     "text": [
      "\n",
      "Move 29\n",
      "\n",
      "┌─────┬─────┬─────┐\n",
      "│  1  │  2  │  3  │\n",
      "├─────┼─────┼─────┤\n",
      "│  7  │  6  │  5  │\n",
      "├─────┼─────┼─────┤\n",
      "│  8  │     │  4  │\n",
      "└─────┴─────┴─────┘\n"
     ]
    },
    {
     "name": "stdin",
     "output_type": "stream",
     "text": [
      "\n",
      "Enter your move:  d\n"
     ]
    },
    {
     "name": "stdout",
     "output_type": "stream",
     "text": [
      "\n",
      "Move 30\n",
      "\n",
      "┌─────┬─────┬─────┐\n",
      "│  1  │  2  │  3  │\n",
      "├─────┼─────┼─────┤\n",
      "│  7  │  6  │  5  │\n",
      "├─────┼─────┼─────┤\n",
      "│     │  8  │  4  │\n",
      "└─────┴─────┴─────┘\n"
     ]
    },
    {
     "name": "stdin",
     "output_type": "stream",
     "text": [
      "\n",
      "Enter your move:  s\n"
     ]
    },
    {
     "name": "stdout",
     "output_type": "stream",
     "text": [
      "\n",
      "Move 31\n",
      "\n",
      "┌─────┬─────┬─────┐\n",
      "│  1  │  2  │  3  │\n",
      "├─────┼─────┼─────┤\n",
      "│     │  6  │  5  │\n",
      "├─────┼─────┼─────┤\n",
      "│  7  │  8  │  4  │\n",
      "└─────┴─────┴─────┘\n"
     ]
    },
    {
     "name": "stdin",
     "output_type": "stream",
     "text": [
      "\n",
      "Enter your move:  a\n"
     ]
    },
    {
     "name": "stdout",
     "output_type": "stream",
     "text": [
      "\n",
      "Move 32\n",
      "\n",
      "┌─────┬─────┬─────┐\n",
      "│  1  │  2  │  3  │\n",
      "├─────┼─────┼─────┤\n",
      "│  6  │     │  5  │\n",
      "├─────┼─────┼─────┤\n",
      "│  7  │  8  │  4  │\n",
      "└─────┴─────┴─────┘\n"
     ]
    },
    {
     "name": "stdin",
     "output_type": "stream",
     "text": [
      "\n",
      "Enter your move:  w\n"
     ]
    },
    {
     "name": "stdout",
     "output_type": "stream",
     "text": [
      "\n",
      "Move 33\n",
      "\n",
      "┌─────┬─────┬─────┐\n",
      "│  1  │  2  │  3  │\n",
      "├─────┼─────┼─────┤\n",
      "│  6  │  8  │  5  │\n",
      "├─────┼─────┼─────┤\n",
      "│  7  │     │  4  │\n",
      "└─────┴─────┴─────┘\n"
     ]
    },
    {
     "name": "stdin",
     "output_type": "stream",
     "text": [
      "\n",
      "Enter your move:  a\n"
     ]
    },
    {
     "name": "stdout",
     "output_type": "stream",
     "text": [
      "\n",
      "Move 34\n",
      "\n",
      "┌─────┬─────┬─────┐\n",
      "│  1  │  2  │  3  │\n",
      "├─────┼─────┼─────┤\n",
      "│  6  │  8  │  5  │\n",
      "├─────┼─────┼─────┤\n",
      "│  7  │  4  │     │\n",
      "└─────┴─────┴─────┘\n"
     ]
    },
    {
     "name": "stdin",
     "output_type": "stream",
     "text": [
      "\n",
      "Enter your move:  s\n"
     ]
    },
    {
     "name": "stdout",
     "output_type": "stream",
     "text": [
      "\n",
      "Move 35\n",
      "\n",
      "┌─────┬─────┬─────┐\n",
      "│  1  │  2  │  3  │\n",
      "├─────┼─────┼─────┤\n",
      "│  6  │  8  │     │\n",
      "├─────┼─────┼─────┤\n",
      "│  7  │  4  │  5  │\n",
      "└─────┴─────┴─────┘\n"
     ]
    },
    {
     "name": "stdin",
     "output_type": "stream",
     "text": [
      "\n",
      "Enter your move:  wd\n"
     ]
    },
    {
     "name": "stdout",
     "output_type": "stream",
     "text": [
      "Invalid move, try again.\n"
     ]
    },
    {
     "name": "stdin",
     "output_type": "stream",
     "text": [
      "\n",
      "Enter your move:  d\n"
     ]
    },
    {
     "name": "stdout",
     "output_type": "stream",
     "text": [
      "\n",
      "Move 36\n",
      "\n",
      "┌─────┬─────┬─────┐\n",
      "│  1  │  2  │  3  │\n",
      "├─────┼─────┼─────┤\n",
      "│  6  │     │  8  │\n",
      "├─────┼─────┼─────┤\n",
      "│  7  │  4  │  5  │\n",
      "└─────┴─────┴─────┘\n"
     ]
    },
    {
     "name": "stdin",
     "output_type": "stream",
     "text": [
      "\n",
      "Enter your move:  w\n"
     ]
    },
    {
     "name": "stdout",
     "output_type": "stream",
     "text": [
      "\n",
      "Move 37\n",
      "\n",
      "┌─────┬─────┬─────┐\n",
      "│  1  │  2  │  3  │\n",
      "├─────┼─────┼─────┤\n",
      "│  6  │  4  │  8  │\n",
      "├─────┼─────┼─────┤\n",
      "│  7  │     │  5  │\n",
      "└─────┴─────┴─────┘\n"
     ]
    },
    {
     "name": "stdin",
     "output_type": "stream",
     "text": [
      "\n",
      "Enter your move:  d\n"
     ]
    },
    {
     "name": "stdout",
     "output_type": "stream",
     "text": [
      "\n",
      "Move 38\n",
      "\n",
      "┌─────┬─────┬─────┐\n",
      "│  1  │  2  │  3  │\n",
      "├─────┼─────┼─────┤\n",
      "│  6  │  4  │  8  │\n",
      "├─────┼─────┼─────┤\n",
      "│     │  7  │  5  │\n",
      "└─────┴─────┴─────┘\n"
     ]
    },
    {
     "name": "stdin",
     "output_type": "stream",
     "text": [
      "\n",
      "Enter your move:  s\n"
     ]
    },
    {
     "name": "stdout",
     "output_type": "stream",
     "text": [
      "\n",
      "Move 39\n",
      "\n",
      "┌─────┬─────┬─────┐\n",
      "│  1  │  2  │  3  │\n",
      "├─────┼─────┼─────┤\n",
      "│     │  4  │  8  │\n",
      "├─────┼─────┼─────┤\n",
      "│  6  │  7  │  5  │\n",
      "└─────┴─────┴─────┘\n"
     ]
    },
    {
     "name": "stdin",
     "output_type": "stream",
     "text": [
      "\n",
      "Enter your move:  a\n"
     ]
    },
    {
     "name": "stdout",
     "output_type": "stream",
     "text": [
      "\n",
      "Move 40\n",
      "\n",
      "┌─────┬─────┬─────┐\n",
      "│  1  │  2  │  3  │\n",
      "├─────┼─────┼─────┤\n",
      "│  4  │     │  8  │\n",
      "├─────┼─────┼─────┤\n",
      "│  6  │  7  │  5  │\n",
      "└─────┴─────┴─────┘\n"
     ]
    },
    {
     "name": "stdin",
     "output_type": "stream",
     "text": [
      "\n",
      "Enter your move:  w\n"
     ]
    },
    {
     "name": "stdout",
     "output_type": "stream",
     "text": [
      "\n",
      "Move 41\n",
      "\n",
      "┌─────┬─────┬─────┐\n",
      "│  1  │  2  │  3  │\n",
      "├─────┼─────┼─────┤\n",
      "│  4  │  7  │  8  │\n",
      "├─────┼─────┼─────┤\n",
      "│  6  │     │  5  │\n",
      "└─────┴─────┴─────┘\n"
     ]
    },
    {
     "name": "stdin",
     "output_type": "stream",
     "text": [
      "\n",
      "Enter your move:  a\n"
     ]
    },
    {
     "name": "stdout",
     "output_type": "stream",
     "text": [
      "\n",
      "Move 42\n",
      "\n",
      "┌─────┬─────┬─────┐\n",
      "│  1  │  2  │  3  │\n",
      "├─────┼─────┼─────┤\n",
      "│  4  │  7  │  8  │\n",
      "├─────┼─────┼─────┤\n",
      "│  6  │  5  │     │\n",
      "└─────┴─────┴─────┘\n"
     ]
    },
    {
     "name": "stdin",
     "output_type": "stream",
     "text": [
      "\n",
      "Enter your move:  s\n"
     ]
    },
    {
     "name": "stdout",
     "output_type": "stream",
     "text": [
      "\n",
      "Move 43\n",
      "\n",
      "┌─────┬─────┬─────┐\n",
      "│  1  │  2  │  3  │\n",
      "├─────┼─────┼─────┤\n",
      "│  4  │  7  │     │\n",
      "├─────┼─────┼─────┤\n",
      "│  6  │  5  │  8  │\n",
      "└─────┴─────┴─────┘\n"
     ]
    },
    {
     "name": "stdin",
     "output_type": "stream",
     "text": [
      "\n",
      "Enter your move:  d\n"
     ]
    },
    {
     "name": "stdout",
     "output_type": "stream",
     "text": [
      "\n",
      "Move 44\n",
      "\n",
      "┌─────┬─────┬─────┐\n",
      "│  1  │  2  │  3  │\n",
      "├─────┼─────┼─────┤\n",
      "│  4  │     │  7  │\n",
      "├─────┼─────┼─────┤\n",
      "│  6  │  5  │  8  │\n",
      "└─────┴─────┴─────┘\n"
     ]
    },
    {
     "name": "stdin",
     "output_type": "stream",
     "text": [
      "\n",
      "Enter your move:  w\n"
     ]
    },
    {
     "name": "stdout",
     "output_type": "stream",
     "text": [
      "\n",
      "Move 45\n",
      "\n",
      "┌─────┬─────┬─────┐\n",
      "│  1  │  2  │  3  │\n",
      "├─────┼─────┼─────┤\n",
      "│  4  │  5  │  7  │\n",
      "├─────┼─────┼─────┤\n",
      "│  6  │     │  8  │\n",
      "└─────┴─────┴─────┘\n"
     ]
    },
    {
     "name": "stdin",
     "output_type": "stream",
     "text": [
      "\n",
      "Enter your move:  d\n"
     ]
    },
    {
     "name": "stdout",
     "output_type": "stream",
     "text": [
      "\n",
      "Move 46\n",
      "\n",
      "┌─────┬─────┬─────┐\n",
      "│  1  │  2  │  3  │\n",
      "├─────┼─────┼─────┤\n",
      "│  4  │  5  │  7  │\n",
      "├─────┼─────┼─────┤\n",
      "│     │  6  │  8  │\n",
      "└─────┴─────┴─────┘\n"
     ]
    },
    {
     "name": "stdin",
     "output_type": "stream",
     "text": [
      "\n",
      "Enter your move:  s\n"
     ]
    },
    {
     "name": "stdout",
     "output_type": "stream",
     "text": [
      "\n",
      "Move 47\n",
      "\n",
      "┌─────┬─────┬─────┐\n",
      "│  1  │  2  │  3  │\n",
      "├─────┼─────┼─────┤\n",
      "│     │  5  │  7  │\n",
      "├─────┼─────┼─────┤\n",
      "│  4  │  6  │  8  │\n",
      "└─────┴─────┴─────┘\n"
     ]
    },
    {
     "name": "stdin",
     "output_type": "stream",
     "text": [
      "\n",
      "Enter your move:  a\n"
     ]
    },
    {
     "name": "stdout",
     "output_type": "stream",
     "text": [
      "\n",
      "Move 48\n",
      "\n",
      "┌─────┬─────┬─────┐\n",
      "│  1  │  2  │  3  │\n",
      "├─────┼─────┼─────┤\n",
      "│  5  │     │  7  │\n",
      "├─────┼─────┼─────┤\n",
      "│  4  │  6  │  8  │\n",
      "└─────┴─────┴─────┘\n"
     ]
    },
    {
     "name": "stdin",
     "output_type": "stream",
     "text": [
      "\n",
      "Enter your move:  w\n"
     ]
    },
    {
     "name": "stdout",
     "output_type": "stream",
     "text": [
      "\n",
      "Move 49\n",
      "\n",
      "┌─────┬─────┬─────┐\n",
      "│  1  │  2  │  3  │\n",
      "├─────┼─────┼─────┤\n",
      "│  5  │  6  │  7  │\n",
      "├─────┼─────┼─────┤\n",
      "│  4  │     │  8  │\n",
      "└─────┴─────┴─────┘\n"
     ]
    },
    {
     "name": "stdin",
     "output_type": "stream",
     "text": [
      "\n",
      "Enter your move:  a\n"
     ]
    },
    {
     "name": "stdout",
     "output_type": "stream",
     "text": [
      "\n",
      "Move 50\n",
      "\n",
      "┌─────┬─────┬─────┐\n",
      "│  1  │  2  │  3  │\n",
      "├─────┼─────┼─────┤\n",
      "│  5  │  6  │  7  │\n",
      "├─────┼─────┼─────┤\n",
      "│  4  │  8  │     │\n",
      "└─────┴─────┴─────┘\n"
     ]
    },
    {
     "name": "stdin",
     "output_type": "stream",
     "text": [
      "\n",
      "Enter your move:  s\n"
     ]
    },
    {
     "name": "stdout",
     "output_type": "stream",
     "text": [
      "\n",
      "Move 51\n",
      "\n",
      "┌─────┬─────┬─────┐\n",
      "│  1  │  2  │  3  │\n",
      "├─────┼─────┼─────┤\n",
      "│  5  │  6  │     │\n",
      "├─────┼─────┼─────┤\n",
      "│  4  │  8  │  7  │\n",
      "└─────┴─────┴─────┘\n"
     ]
    },
    {
     "name": "stdin",
     "output_type": "stream",
     "text": [
      "\n",
      "Enter your move:  d\n"
     ]
    },
    {
     "name": "stdout",
     "output_type": "stream",
     "text": [
      "\n",
      "Move 52\n",
      "\n",
      "┌─────┬─────┬─────┐\n",
      "│  1  │  2  │  3  │\n",
      "├─────┼─────┼─────┤\n",
      "│  5  │     │  6  │\n",
      "├─────┼─────┼─────┤\n",
      "│  4  │  8  │  7  │\n",
      "└─────┴─────┴─────┘\n"
     ]
    },
    {
     "name": "stdin",
     "output_type": "stream",
     "text": [
      "\n",
      "Enter your move:  d\n"
     ]
    },
    {
     "name": "stdout",
     "output_type": "stream",
     "text": [
      "\n",
      "Move 53\n",
      "\n",
      "┌─────┬─────┬─────┐\n",
      "│  1  │  2  │  3  │\n",
      "├─────┼─────┼─────┤\n",
      "│     │  5  │  6  │\n",
      "├─────┼─────┼─────┤\n",
      "│  4  │  8  │  7  │\n",
      "└─────┴─────┴─────┘\n"
     ]
    },
    {
     "name": "stdin",
     "output_type": "stream",
     "text": [
      "\n",
      "Enter your move:  w\n"
     ]
    },
    {
     "name": "stdout",
     "output_type": "stream",
     "text": [
      "\n",
      "Move 54\n",
      "\n",
      "┌─────┬─────┬─────┐\n",
      "│  1  │  2  │  3  │\n",
      "├─────┼─────┼─────┤\n",
      "│  4  │  5  │  6  │\n",
      "├─────┼─────┼─────┤\n",
      "│     │  8  │  7  │\n",
      "└─────┴─────┴─────┘\n"
     ]
    },
    {
     "name": "stdin",
     "output_type": "stream",
     "text": [
      "\n",
      "Enter your move:  s\n"
     ]
    },
    {
     "name": "stdout",
     "output_type": "stream",
     "text": [
      "\n",
      "Move 55\n",
      "\n",
      "┌─────┬─────┬─────┐\n",
      "│  1  │  2  │  3  │\n",
      "├─────┼─────┼─────┤\n",
      "│     │  5  │  6  │\n",
      "├─────┼─────┼─────┤\n",
      "│  4  │  8  │  7  │\n",
      "└─────┴─────┴─────┘\n"
     ]
    },
    {
     "name": "stdin",
     "output_type": "stream",
     "text": [
      "\n",
      "Enter your move:  a\n"
     ]
    },
    {
     "name": "stdout",
     "output_type": "stream",
     "text": [
      "\n",
      "Move 56\n",
      "\n",
      "┌─────┬─────┬─────┐\n",
      "│  1  │  2  │  3  │\n",
      "├─────┼─────┼─────┤\n",
      "│  5  │     │  6  │\n",
      "├─────┼─────┼─────┤\n",
      "│  4  │  8  │  7  │\n",
      "└─────┴─────┴─────┘\n"
     ]
    },
    {
     "name": "stdin",
     "output_type": "stream",
     "text": [
      "\n",
      "Enter your move:  w\n"
     ]
    },
    {
     "name": "stdout",
     "output_type": "stream",
     "text": [
      "\n",
      "Move 57\n",
      "\n",
      "┌─────┬─────┬─────┐\n",
      "│  1  │  2  │  3  │\n",
      "├─────┼─────┼─────┤\n",
      "│  5  │  8  │  6  │\n",
      "├─────┼─────┼─────┤\n",
      "│  4  │     │  7  │\n",
      "└─────┴─────┴─────┘\n"
     ]
    },
    {
     "name": "stdin",
     "output_type": "stream",
     "text": [
      "\n",
      "Enter your move:  a\n"
     ]
    },
    {
     "name": "stdout",
     "output_type": "stream",
     "text": [
      "\n",
      "Move 58\n",
      "\n",
      "┌─────┬─────┬─────┐\n",
      "│  1  │  2  │  3  │\n",
      "├─────┼─────┼─────┤\n",
      "│  5  │  8  │  6  │\n",
      "├─────┼─────┼─────┤\n",
      "│  4  │  7  │     │\n",
      "└─────┴─────┴─────┘\n"
     ]
    },
    {
     "name": "stdin",
     "output_type": "stream",
     "text": [
      "\n",
      "Enter your move:  s\n"
     ]
    },
    {
     "name": "stdout",
     "output_type": "stream",
     "text": [
      "\n",
      "Move 59\n",
      "\n",
      "┌─────┬─────┬─────┐\n",
      "│  1  │  2  │  3  │\n",
      "├─────┼─────┼─────┤\n",
      "│  5  │  8  │     │\n",
      "├─────┼─────┼─────┤\n",
      "│  4  │  7  │  6  │\n",
      "└─────┴─────┴─────┘\n"
     ]
    },
    {
     "name": "stdin",
     "output_type": "stream",
     "text": [
      "\n",
      "Enter your move:  d\n"
     ]
    },
    {
     "name": "stdout",
     "output_type": "stream",
     "text": [
      "\n",
      "Move 60\n",
      "\n",
      "┌─────┬─────┬─────┐\n",
      "│  1  │  2  │  3  │\n",
      "├─────┼─────┼─────┤\n",
      "│  5  │     │  8  │\n",
      "├─────┼─────┼─────┤\n",
      "│  4  │  7  │  6  │\n",
      "└─────┴─────┴─────┘\n"
     ]
    },
    {
     "name": "stdin",
     "output_type": "stream",
     "text": [
      "\n",
      "Enter your move:  d\n"
     ]
    },
    {
     "name": "stdout",
     "output_type": "stream",
     "text": [
      "\n",
      "Move 61\n",
      "\n",
      "┌─────┬─────┬─────┐\n",
      "│  1  │  2  │  3  │\n",
      "├─────┼─────┼─────┤\n",
      "│     │  5  │  8  │\n",
      "├─────┼─────┼─────┤\n",
      "│  4  │  7  │  6  │\n",
      "└─────┴─────┴─────┘\n"
     ]
    },
    {
     "name": "stdin",
     "output_type": "stream",
     "text": [
      "\n",
      "Enter your move:  w\n"
     ]
    },
    {
     "name": "stdout",
     "output_type": "stream",
     "text": [
      "\n",
      "Move 62\n",
      "\n",
      "┌─────┬─────┬─────┐\n",
      "│  1  │  2  │  3  │\n",
      "├─────┼─────┼─────┤\n",
      "│  4  │  5  │  8  │\n",
      "├─────┼─────┼─────┤\n",
      "│     │  7  │  6  │\n",
      "└─────┴─────┴─────┘\n"
     ]
    },
    {
     "name": "stdin",
     "output_type": "stream",
     "text": [
      "\n",
      "Enter your move:  a\n"
     ]
    },
    {
     "name": "stdout",
     "output_type": "stream",
     "text": [
      "\n",
      "Move 63\n",
      "\n",
      "┌─────┬─────┬─────┐\n",
      "│  1  │  2  │  3  │\n",
      "├─────┼─────┼─────┤\n",
      "│  4  │  5  │  8  │\n",
      "├─────┼─────┼─────┤\n",
      "│  7  │     │  6  │\n",
      "└─────┴─────┴─────┘\n"
     ]
    },
    {
     "name": "stdin",
     "output_type": "stream",
     "text": [
      "\n",
      "Enter your move:  s\n"
     ]
    },
    {
     "name": "stdout",
     "output_type": "stream",
     "text": [
      "\n",
      "Move 64\n",
      "\n",
      "┌─────┬─────┬─────┐\n",
      "│  1  │  2  │  3  │\n",
      "├─────┼─────┼─────┤\n",
      "│  4  │     │  8  │\n",
      "├─────┼─────┼─────┤\n",
      "│  7  │  5  │  6  │\n",
      "└─────┴─────┴─────┘\n"
     ]
    },
    {
     "name": "stdin",
     "output_type": "stream",
     "text": [
      "\n",
      "Enter your move:  w\n"
     ]
    },
    {
     "name": "stdout",
     "output_type": "stream",
     "text": [
      "\n",
      "Move 65\n",
      "\n",
      "┌─────┬─────┬─────┐\n",
      "│  1  │  2  │  3  │\n",
      "├─────┼─────┼─────┤\n",
      "│  4  │  5  │  8  │\n",
      "├─────┼─────┼─────┤\n",
      "│  7  │     │  6  │\n",
      "└─────┴─────┴─────┘\n"
     ]
    },
    {
     "name": "stdin",
     "output_type": "stream",
     "text": [
      "\n",
      "Enter your move:  a\n"
     ]
    },
    {
     "name": "stdout",
     "output_type": "stream",
     "text": [
      "\n",
      "Move 66\n",
      "\n",
      "┌─────┬─────┬─────┐\n",
      "│  1  │  2  │  3  │\n",
      "├─────┼─────┼─────┤\n",
      "│  4  │  5  │  8  │\n",
      "├─────┼─────┼─────┤\n",
      "│  7  │  6  │     │\n",
      "└─────┴─────┴─────┘\n"
     ]
    },
    {
     "name": "stdin",
     "output_type": "stream",
     "text": [
      "\n",
      "Enter your move:  s\n"
     ]
    },
    {
     "name": "stdout",
     "output_type": "stream",
     "text": [
      "\n",
      "Move 67\n",
      "\n",
      "┌─────┬─────┬─────┐\n",
      "│  1  │  2  │  3  │\n",
      "├─────┼─────┼─────┤\n",
      "│  4  │  5  │     │\n",
      "├─────┼─────┼─────┤\n",
      "│  7  │  6  │  8  │\n",
      "└─────┴─────┴─────┘\n"
     ]
    },
    {
     "name": "stdin",
     "output_type": "stream",
     "text": [
      "\n",
      "Enter your move:  d\n"
     ]
    },
    {
     "name": "stdout",
     "output_type": "stream",
     "text": [
      "\n",
      "Move 68\n",
      "\n",
      "┌─────┬─────┬─────┐\n",
      "│  1  │  2  │  3  │\n",
      "├─────┼─────┼─────┤\n",
      "│  4  │     │  5  │\n",
      "├─────┼─────┼─────┤\n",
      "│  7  │  6  │  8  │\n",
      "└─────┴─────┴─────┘\n"
     ]
    },
    {
     "name": "stdin",
     "output_type": "stream",
     "text": [
      "\n",
      "Enter your move:  w\n"
     ]
    },
    {
     "name": "stdout",
     "output_type": "stream",
     "text": [
      "\n",
      "Move 69\n",
      "\n",
      "┌─────┬─────┬─────┐\n",
      "│  1  │  2  │  3  │\n",
      "├─────┼─────┼─────┤\n",
      "│  4  │  6  │  5  │\n",
      "├─────┼─────┼─────┤\n",
      "│  7  │     │  8  │\n",
      "└─────┴─────┴─────┘\n"
     ]
    },
    {
     "name": "stdin",
     "output_type": "stream",
     "text": [
      "\n",
      "Enter your move:  a\n"
     ]
    },
    {
     "name": "stdout",
     "output_type": "stream",
     "text": [
      "\n",
      "Move 70\n",
      "\n",
      "┌─────┬─────┬─────┐\n",
      "│  1  │  2  │  3  │\n",
      "├─────┼─────┼─────┤\n",
      "│  4  │  6  │  5  │\n",
      "├─────┼─────┼─────┤\n",
      "│  7  │  8  │     │\n",
      "└─────┴─────┴─────┘\n"
     ]
    },
    {
     "name": "stdin",
     "output_type": "stream",
     "text": [
      "\n",
      "Enter your move:  s\n"
     ]
    },
    {
     "name": "stdout",
     "output_type": "stream",
     "text": [
      "\n",
      "Move 71\n",
      "\n",
      "┌─────┬─────┬─────┐\n",
      "│  1  │  2  │  3  │\n",
      "├─────┼─────┼─────┤\n",
      "│  4  │  6  │     │\n",
      "├─────┼─────┼─────┤\n",
      "│  7  │  8  │  5  │\n",
      "└─────┴─────┴─────┘\n"
     ]
    },
    {
     "name": "stdin",
     "output_type": "stream",
     "text": [
      "\n",
      "Enter your move:  d\n"
     ]
    },
    {
     "name": "stdout",
     "output_type": "stream",
     "text": [
      "\n",
      "Move 72\n",
      "\n",
      "┌─────┬─────┬─────┐\n",
      "│  1  │  2  │  3  │\n",
      "├─────┼─────┼─────┤\n",
      "│  4  │     │  6  │\n",
      "├─────┼─────┼─────┤\n",
      "│  7  │  8  │  5  │\n",
      "└─────┴─────┴─────┘\n"
     ]
    },
    {
     "name": "stdin",
     "output_type": "stream",
     "text": [
      "\n",
      "Enter your move:  w\n"
     ]
    },
    {
     "name": "stdout",
     "output_type": "stream",
     "text": [
      "\n",
      "Move 73\n",
      "\n",
      "┌─────┬─────┬─────┐\n",
      "│  1  │  2  │  3  │\n",
      "├─────┼─────┼─────┤\n",
      "│  4  │  8  │  6  │\n",
      "├─────┼─────┼─────┤\n",
      "│  7  │     │  5  │\n",
      "└─────┴─────┴─────┘\n"
     ]
    },
    {
     "name": "stdin",
     "output_type": "stream",
     "text": [
      "\n",
      "Enter your move:  d\n"
     ]
    },
    {
     "name": "stdout",
     "output_type": "stream",
     "text": [
      "\n",
      "Move 74\n",
      "\n",
      "┌─────┬─────┬─────┐\n",
      "│  1  │  2  │  3  │\n",
      "├─────┼─────┼─────┤\n",
      "│  4  │  8  │  6  │\n",
      "├─────┼─────┼─────┤\n",
      "│     │  7  │  5  │\n",
      "└─────┴─────┴─────┘\n"
     ]
    },
    {
     "name": "stdin",
     "output_type": "stream",
     "text": [
      "\n",
      "Enter your move:  s\n"
     ]
    },
    {
     "name": "stdout",
     "output_type": "stream",
     "text": [
      "\n",
      "Move 75\n",
      "\n",
      "┌─────┬─────┬─────┐\n",
      "│  1  │  2  │  3  │\n",
      "├─────┼─────┼─────┤\n",
      "│     │  8  │  6  │\n",
      "├─────┼─────┼─────┤\n",
      "│  4  │  7  │  5  │\n",
      "└─────┴─────┴─────┘\n"
     ]
    },
    {
     "name": "stdin",
     "output_type": "stream",
     "text": [
      "\n",
      "Enter your move:  a\n"
     ]
    },
    {
     "name": "stdout",
     "output_type": "stream",
     "text": [
      "\n",
      "Move 76\n",
      "\n",
      "┌─────┬─────┬─────┐\n",
      "│  1  │  2  │  3  │\n",
      "├─────┼─────┼─────┤\n",
      "│  8  │     │  6  │\n",
      "├─────┼─────┼─────┤\n",
      "│  4  │  7  │  5  │\n",
      "└─────┴─────┴─────┘\n"
     ]
    },
    {
     "name": "stdin",
     "output_type": "stream",
     "text": [
      "\n",
      "Enter your move:  w\n"
     ]
    },
    {
     "name": "stdout",
     "output_type": "stream",
     "text": [
      "\n",
      "Move 77\n",
      "\n",
      "┌─────┬─────┬─────┐\n",
      "│  1  │  2  │  3  │\n",
      "├─────┼─────┼─────┤\n",
      "│  8  │  7  │  6  │\n",
      "├─────┼─────┼─────┤\n",
      "│  4  │     │  5  │\n",
      "└─────┴─────┴─────┘\n"
     ]
    },
    {
     "name": "stdin",
     "output_type": "stream",
     "text": [
      "\n",
      "Enter your move:  a\n"
     ]
    },
    {
     "name": "stdout",
     "output_type": "stream",
     "text": [
      "\n",
      "Move 78\n",
      "\n",
      "┌─────┬─────┬─────┐\n",
      "│  1  │  2  │  3  │\n",
      "├─────┼─────┼─────┤\n",
      "│  8  │  7  │  6  │\n",
      "├─────┼─────┼─────┤\n",
      "│  4  │  5  │     │\n",
      "└─────┴─────┴─────┘\n"
     ]
    },
    {
     "name": "stdin",
     "output_type": "stream",
     "text": [
      "\n",
      "Enter your move:  s\n"
     ]
    },
    {
     "name": "stdout",
     "output_type": "stream",
     "text": [
      "\n",
      "Move 79\n",
      "\n",
      "┌─────┬─────┬─────┐\n",
      "│  1  │  2  │  3  │\n",
      "├─────┼─────┼─────┤\n",
      "│  8  │  7  │     │\n",
      "├─────┼─────┼─────┤\n",
      "│  4  │  5  │  6  │\n",
      "└─────┴─────┴─────┘\n"
     ]
    },
    {
     "name": "stdin",
     "output_type": "stream",
     "text": [
      "\n",
      "Enter your move:  d\n"
     ]
    },
    {
     "name": "stdout",
     "output_type": "stream",
     "text": [
      "\n",
      "Move 80\n",
      "\n",
      "┌─────┬─────┬─────┐\n",
      "│  1  │  2  │  3  │\n",
      "├─────┼─────┼─────┤\n",
      "│  8  │     │  7  │\n",
      "├─────┼─────┼─────┤\n",
      "│  4  │  5  │  6  │\n",
      "└─────┴─────┴─────┘\n"
     ]
    },
    {
     "name": "stdin",
     "output_type": "stream",
     "text": [
      "\n",
      "Enter your move:  w\n"
     ]
    },
    {
     "name": "stdout",
     "output_type": "stream",
     "text": [
      "\n",
      "Move 81\n",
      "\n",
      "┌─────┬─────┬─────┐\n",
      "│  1  │  2  │  3  │\n",
      "├─────┼─────┼─────┤\n",
      "│  8  │  5  │  7  │\n",
      "├─────┼─────┼─────┤\n",
      "│  4  │     │  6  │\n",
      "└─────┴─────┴─────┘\n"
     ]
    },
    {
     "name": "stdin",
     "output_type": "stream",
     "text": [
      "\n",
      "Enter your move:  d\n"
     ]
    },
    {
     "name": "stdout",
     "output_type": "stream",
     "text": [
      "\n",
      "Move 82\n",
      "\n",
      "┌─────┬─────┬─────┐\n",
      "│  1  │  2  │  3  │\n",
      "├─────┼─────┼─────┤\n",
      "│  8  │  5  │  7  │\n",
      "├─────┼─────┼─────┤\n",
      "│     │  4  │  6  │\n",
      "└─────┴─────┴─────┘\n"
     ]
    },
    {
     "name": "stdin",
     "output_type": "stream",
     "text": [
      "\n",
      "Enter your move:  s\n"
     ]
    },
    {
     "name": "stdout",
     "output_type": "stream",
     "text": [
      "\n",
      "Move 83\n",
      "\n",
      "┌─────┬─────┬─────┐\n",
      "│  1  │  2  │  3  │\n",
      "├─────┼─────┼─────┤\n",
      "│     │  5  │  7  │\n",
      "├─────┼─────┼─────┤\n",
      "│  8  │  4  │  6  │\n",
      "└─────┴─────┴─────┘\n"
     ]
    },
    {
     "name": "stdin",
     "output_type": "stream",
     "text": [
      "\n",
      "Enter your move:  a\n"
     ]
    },
    {
     "name": "stdout",
     "output_type": "stream",
     "text": [
      "\n",
      "Move 84\n",
      "\n",
      "┌─────┬─────┬─────┐\n",
      "│  1  │  2  │  3  │\n",
      "├─────┼─────┼─────┤\n",
      "│  5  │     │  7  │\n",
      "├─────┼─────┼─────┤\n",
      "│  8  │  4  │  6  │\n",
      "└─────┴─────┴─────┘\n"
     ]
    },
    {
     "name": "stdin",
     "output_type": "stream",
     "text": [
      "\n",
      "Enter your move:  a\n"
     ]
    },
    {
     "name": "stdout",
     "output_type": "stream",
     "text": [
      "\n",
      "Move 85\n",
      "\n",
      "┌─────┬─────┬─────┐\n",
      "│  1  │  2  │  3  │\n",
      "├─────┼─────┼─────┤\n",
      "│  5  │  7  │     │\n",
      "├─────┼─────┼─────┤\n",
      "│  8  │  4  │  6  │\n",
      "└─────┴─────┴─────┘\n"
     ]
    },
    {
     "name": "stdin",
     "output_type": "stream",
     "text": [
      "\n",
      "Enter your move:  w\n"
     ]
    },
    {
     "name": "stdout",
     "output_type": "stream",
     "text": [
      "\n",
      "Move 86\n",
      "\n",
      "┌─────┬─────┬─────┐\n",
      "│  1  │  2  │  3  │\n",
      "├─────┼─────┼─────┤\n",
      "│  5  │  7  │  6  │\n",
      "├─────┼─────┼─────┤\n",
      "│  8  │  4  │     │\n",
      "└─────┴─────┴─────┘\n"
     ]
    },
    {
     "name": "stdin",
     "output_type": "stream",
     "text": [
      "\n",
      "Enter your move:  d\n"
     ]
    },
    {
     "name": "stdout",
     "output_type": "stream",
     "text": [
      "\n",
      "Move 87\n",
      "\n",
      "┌─────┬─────┬─────┐\n",
      "│  1  │  2  │  3  │\n",
      "├─────┼─────┼─────┤\n",
      "│  5  │  7  │  6  │\n",
      "├─────┼─────┼─────┤\n",
      "│  8  │     │  4  │\n",
      "└─────┴─────┴─────┘\n"
     ]
    },
    {
     "name": "stdin",
     "output_type": "stream",
     "text": [
      "\n",
      "Enter your move:  s\n"
     ]
    },
    {
     "name": "stdout",
     "output_type": "stream",
     "text": [
      "\n",
      "Move 88\n",
      "\n",
      "┌─────┬─────┬─────┐\n",
      "│  1  │  2  │  3  │\n",
      "├─────┼─────┼─────┤\n",
      "│  5  │     │  6  │\n",
      "├─────┼─────┼─────┤\n",
      "│  8  │  7  │  4  │\n",
      "└─────┴─────┴─────┘\n"
     ]
    },
    {
     "name": "stdin",
     "output_type": "stream",
     "text": [
      "\n",
      "Enter your move:  d\n"
     ]
    },
    {
     "name": "stdout",
     "output_type": "stream",
     "text": [
      "\n",
      "Move 89\n",
      "\n",
      "┌─────┬─────┬─────┐\n",
      "│  1  │  2  │  3  │\n",
      "├─────┼─────┼─────┤\n",
      "│     │  5  │  6  │\n",
      "├─────┼─────┼─────┤\n",
      "│  8  │  7  │  4  │\n",
      "└─────┴─────┴─────┘\n"
     ]
    },
    {
     "name": "stdin",
     "output_type": "stream",
     "text": [
      "\n",
      "Enter your move:  w\n"
     ]
    },
    {
     "name": "stdout",
     "output_type": "stream",
     "text": [
      "\n",
      "Move 90\n",
      "\n",
      "┌─────┬─────┬─────┐\n",
      "│  1  │  2  │  3  │\n",
      "├─────┼─────┼─────┤\n",
      "│  8  │  5  │  6  │\n",
      "├─────┼─────┼─────┤\n",
      "│     │  7  │  4  │\n",
      "└─────┴─────┴─────┘\n"
     ]
    },
    {
     "name": "stdin",
     "output_type": "stream",
     "text": [
      "\n",
      "Enter your move:  a\n"
     ]
    },
    {
     "name": "stdout",
     "output_type": "stream",
     "text": [
      "\n",
      "Move 91\n",
      "\n",
      "┌─────┬─────┬─────┐\n",
      "│  1  │  2  │  3  │\n",
      "├─────┼─────┼─────┤\n",
      "│  8  │  5  │  6  │\n",
      "├─────┼─────┼─────┤\n",
      "│  7  │     │  4  │\n",
      "└─────┴─────┴─────┘\n"
     ]
    },
    {
     "name": "stdin",
     "output_type": "stream",
     "text": [
      "\n",
      "Enter your move:  a\n"
     ]
    },
    {
     "name": "stdout",
     "output_type": "stream",
     "text": [
      "\n",
      "Move 92\n",
      "\n",
      "┌─────┬─────┬─────┐\n",
      "│  1  │  2  │  3  │\n",
      "├─────┼─────┼─────┤\n",
      "│  8  │  5  │  6  │\n",
      "├─────┼─────┼─────┤\n",
      "│  7  │  4  │     │\n",
      "└─────┴─────┴─────┘\n"
     ]
    },
    {
     "name": "stdin",
     "output_type": "stream",
     "text": [
      "\n",
      "Enter your move:  s\n"
     ]
    },
    {
     "name": "stdout",
     "output_type": "stream",
     "text": [
      "\n",
      "Move 93\n",
      "\n",
      "┌─────┬─────┬─────┐\n",
      "│  1  │  2  │  3  │\n",
      "├─────┼─────┼─────┤\n",
      "│  8  │  5  │     │\n",
      "├─────┼─────┼─────┤\n",
      "│  7  │  4  │  6  │\n",
      "└─────┴─────┴─────┘\n"
     ]
    },
    {
     "name": "stdin",
     "output_type": "stream",
     "text": [
      "\n",
      "Enter your move:  d\n"
     ]
    },
    {
     "name": "stdout",
     "output_type": "stream",
     "text": [
      "\n",
      "Move 94\n",
      "\n",
      "┌─────┬─────┬─────┐\n",
      "│  1  │  2  │  3  │\n",
      "├─────┼─────┼─────┤\n",
      "│  8  │     │  5  │\n",
      "├─────┼─────┼─────┤\n",
      "│  7  │  4  │  6  │\n",
      "└─────┴─────┴─────┘\n"
     ]
    },
    {
     "name": "stdin",
     "output_type": "stream",
     "text": [
      "\n",
      "Enter your move:  d\n"
     ]
    },
    {
     "name": "stdout",
     "output_type": "stream",
     "text": [
      "\n",
      "Move 95\n",
      "\n",
      "┌─────┬─────┬─────┐\n",
      "│  1  │  2  │  3  │\n",
      "├─────┼─────┼─────┤\n",
      "│     │  8  │  5  │\n",
      "├─────┼─────┼─────┤\n",
      "│  7  │  4  │  6  │\n",
      "└─────┴─────┴─────┘\n"
     ]
    },
    {
     "name": "stdin",
     "output_type": "stream",
     "text": [
      "\n",
      "Enter your move:  w\n"
     ]
    },
    {
     "name": "stdout",
     "output_type": "stream",
     "text": [
      "\n",
      "Move 96\n",
      "\n",
      "┌─────┬─────┬─────┐\n",
      "│  1  │  2  │  3  │\n",
      "├─────┼─────┼─────┤\n",
      "│  7  │  8  │  5  │\n",
      "├─────┼─────┼─────┤\n",
      "│     │  4  │  6  │\n",
      "└─────┴─────┴─────┘\n"
     ]
    },
    {
     "name": "stdin",
     "output_type": "stream",
     "text": [
      "\n",
      "Enter your move:  a\n"
     ]
    },
    {
     "name": "stdout",
     "output_type": "stream",
     "text": [
      "\n",
      "Move 97\n",
      "\n",
      "┌─────┬─────┬─────┐\n",
      "│  1  │  2  │  3  │\n",
      "├─────┼─────┼─────┤\n",
      "│  7  │  8  │  5  │\n",
      "├─────┼─────┼─────┤\n",
      "│  4  │     │  6  │\n",
      "└─────┴─────┴─────┘\n"
     ]
    },
    {
     "name": "stdin",
     "output_type": "stream",
     "text": [
      "\n",
      "Enter your move:  s\n"
     ]
    },
    {
     "name": "stdout",
     "output_type": "stream",
     "text": [
      "\n",
      "Move 98\n",
      "\n",
      "┌─────┬─────┬─────┐\n",
      "│  1  │  2  │  3  │\n",
      "├─────┼─────┼─────┤\n",
      "│  7  │     │  5  │\n",
      "├─────┼─────┼─────┤\n",
      "│  4  │  8  │  6  │\n",
      "└─────┴─────┴─────┘\n"
     ]
    },
    {
     "name": "stdin",
     "output_type": "stream",
     "text": [
      "\n",
      "Enter your move:  d\n"
     ]
    },
    {
     "name": "stdout",
     "output_type": "stream",
     "text": [
      "\n",
      "Move 99\n",
      "\n",
      "┌─────┬─────┬─────┐\n",
      "│  1  │  2  │  3  │\n",
      "├─────┼─────┼─────┤\n",
      "│     │  7  │  5  │\n",
      "├─────┼─────┼─────┤\n",
      "│  4  │  8  │  6  │\n",
      "└─────┴─────┴─────┘\n"
     ]
    },
    {
     "name": "stdin",
     "output_type": "stream",
     "text": [
      "\n",
      "Enter your move:  w\n"
     ]
    },
    {
     "name": "stdout",
     "output_type": "stream",
     "text": [
      "\n",
      "Move 100\n",
      "\n",
      "┌─────┬─────┬─────┐\n",
      "│  1  │  2  │  3  │\n",
      "├─────┼─────┼─────┤\n",
      "│  4  │  7  │  5  │\n",
      "├─────┼─────┼─────┤\n",
      "│     │  8  │  6  │\n",
      "└─────┴─────┴─────┘\n"
     ]
    },
    {
     "name": "stdin",
     "output_type": "stream",
     "text": [
      "\n",
      "Enter your move:  a\n"
     ]
    },
    {
     "name": "stdout",
     "output_type": "stream",
     "text": [
      "\n",
      "Move 101\n",
      "\n",
      "┌─────┬─────┬─────┐\n",
      "│  1  │  2  │  3  │\n",
      "├─────┼─────┼─────┤\n",
      "│  4  │  7  │  5  │\n",
      "├─────┼─────┼─────┤\n",
      "│  8  │     │  6  │\n",
      "└─────┴─────┴─────┘\n"
     ]
    },
    {
     "name": "stdin",
     "output_type": "stream",
     "text": [
      "\n",
      "Enter your move:  s\n"
     ]
    },
    {
     "name": "stdout",
     "output_type": "stream",
     "text": [
      "\n",
      "Move 102\n",
      "\n",
      "┌─────┬─────┬─────┐\n",
      "│  1  │  2  │  3  │\n",
      "├─────┼─────┼─────┤\n",
      "│  4  │     │  5  │\n",
      "├─────┼─────┼─────┤\n",
      "│  8  │  7  │  6  │\n",
      "└─────┴─────┴─────┘\n"
     ]
    },
    {
     "name": "stdin",
     "output_type": "stream",
     "text": [
      "\n",
      "Enter your move:  w\n"
     ]
    },
    {
     "name": "stdout",
     "output_type": "stream",
     "text": [
      "\n",
      "Move 103\n",
      "\n",
      "┌─────┬─────┬─────┐\n",
      "│  1  │  2  │  3  │\n",
      "├─────┼─────┼─────┤\n",
      "│  4  │  7  │  5  │\n",
      "├─────┼─────┼─────┤\n",
      "│  8  │     │  6  │\n",
      "└─────┴─────┴─────┘\n"
     ]
    },
    {
     "name": "stdin",
     "output_type": "stream",
     "text": [
      "\n",
      "Enter your move:  a\n"
     ]
    },
    {
     "name": "stdout",
     "output_type": "stream",
     "text": [
      "\n",
      "Move 104\n",
      "\n",
      "┌─────┬─────┬─────┐\n",
      "│  1  │  2  │  3  │\n",
      "├─────┼─────┼─────┤\n",
      "│  4  │  7  │  5  │\n",
      "├─────┼─────┼─────┤\n",
      "│  8  │  6  │     │\n",
      "└─────┴─────┴─────┘\n"
     ]
    },
    {
     "name": "stdin",
     "output_type": "stream",
     "text": [
      "\n",
      "Enter your move:  s\n"
     ]
    },
    {
     "name": "stdout",
     "output_type": "stream",
     "text": [
      "\n",
      "Move 105\n",
      "\n",
      "┌─────┬─────┬─────┐\n",
      "│  1  │  2  │  3  │\n",
      "├─────┼─────┼─────┤\n",
      "│  4  │  7  │     │\n",
      "├─────┼─────┼─────┤\n",
      "│  8  │  6  │  5  │\n",
      "└─────┴─────┴─────┘\n"
     ]
    },
    {
     "name": "stdin",
     "output_type": "stream",
     "text": [
      "\n",
      "Enter your move:  d\n"
     ]
    },
    {
     "name": "stdout",
     "output_type": "stream",
     "text": [
      "\n",
      "Move 106\n",
      "\n",
      "┌─────┬─────┬─────┐\n",
      "│  1  │  2  │  3  │\n",
      "├─────┼─────┼─────┤\n",
      "│  4  │     │  7  │\n",
      "├─────┼─────┼─────┤\n",
      "│  8  │  6  │  5  │\n",
      "└─────┴─────┴─────┘\n"
     ]
    },
    {
     "name": "stdin",
     "output_type": "stream",
     "text": [
      "\n",
      "Enter your move:  d\n"
     ]
    },
    {
     "name": "stdout",
     "output_type": "stream",
     "text": [
      "\n",
      "Move 107\n",
      "\n",
      "┌─────┬─────┬─────┐\n",
      "│  1  │  2  │  3  │\n",
      "├─────┼─────┼─────┤\n",
      "│     │  4  │  7  │\n",
      "├─────┼─────┼─────┤\n",
      "│  8  │  6  │  5  │\n",
      "└─────┴─────┴─────┘\n"
     ]
    },
    {
     "name": "stdin",
     "output_type": "stream",
     "text": [
      "\n",
      "Enter your move:  w\n"
     ]
    },
    {
     "name": "stdout",
     "output_type": "stream",
     "text": [
      "\n",
      "Move 108\n",
      "\n",
      "┌─────┬─────┬─────┐\n",
      "│  1  │  2  │  3  │\n",
      "├─────┼─────┼─────┤\n",
      "│  8  │  4  │  7  │\n",
      "├─────┼─────┼─────┤\n",
      "│     │  6  │  5  │\n",
      "└─────┴─────┴─────┘\n"
     ]
    },
    {
     "name": "stdin",
     "output_type": "stream",
     "text": [
      "\n",
      "Enter your move:  a\n"
     ]
    },
    {
     "name": "stdout",
     "output_type": "stream",
     "text": [
      "\n",
      "Move 109\n",
      "\n",
      "┌─────┬─────┬─────┐\n",
      "│  1  │  2  │  3  │\n",
      "├─────┼─────┼─────┤\n",
      "│  8  │  4  │  7  │\n",
      "├─────┼─────┼─────┤\n",
      "│  6  │     │  5  │\n",
      "└─────┴─────┴─────┘\n"
     ]
    },
    {
     "name": "stdin",
     "output_type": "stream",
     "text": [
      "\n",
      "Enter your move:  s\n"
     ]
    },
    {
     "name": "stdout",
     "output_type": "stream",
     "text": [
      "\n",
      "Move 110\n",
      "\n",
      "┌─────┬─────┬─────┐\n",
      "│  1  │  2  │  3  │\n",
      "├─────┼─────┼─────┤\n",
      "│  8  │     │  7  │\n",
      "├─────┼─────┼─────┤\n",
      "│  6  │  4  │  5  │\n",
      "└─────┴─────┴─────┘\n"
     ]
    },
    {
     "name": "stdin",
     "output_type": "stream",
     "text": [
      "\n",
      "Enter your move:  a\n"
     ]
    },
    {
     "name": "stdout",
     "output_type": "stream",
     "text": [
      "\n",
      "Move 111\n",
      "\n",
      "┌─────┬─────┬─────┐\n",
      "│  1  │  2  │  3  │\n",
      "├─────┼─────┼─────┤\n",
      "│  8  │  7  │     │\n",
      "├─────┼─────┼─────┤\n",
      "│  6  │  4  │  5  │\n",
      "└─────┴─────┴─────┘\n"
     ]
    },
    {
     "name": "stdin",
     "output_type": "stream",
     "text": [
      "\n",
      "Enter your move:  w\n"
     ]
    },
    {
     "name": "stdout",
     "output_type": "stream",
     "text": [
      "\n",
      "Move 112\n",
      "\n",
      "┌─────┬─────┬─────┐\n",
      "│  1  │  2  │  3  │\n",
      "├─────┼─────┼─────┤\n",
      "│  8  │  7  │  5  │\n",
      "├─────┼─────┼─────┤\n",
      "│  6  │  4  │     │\n",
      "└─────┴─────┴─────┘\n"
     ]
    },
    {
     "name": "stdin",
     "output_type": "stream",
     "text": [
      "\n",
      "Enter your move:  d\n"
     ]
    },
    {
     "name": "stdout",
     "output_type": "stream",
     "text": [
      "\n",
      "Move 113\n",
      "\n",
      "┌─────┬─────┬─────┐\n",
      "│  1  │  2  │  3  │\n",
      "├─────┼─────┼─────┤\n",
      "│  8  │  7  │  5  │\n",
      "├─────┼─────┼─────┤\n",
      "│  6  │     │  4  │\n",
      "└─────┴─────┴─────┘\n"
     ]
    },
    {
     "name": "stdin",
     "output_type": "stream",
     "text": [
      "\n",
      "Enter your move:  d\n"
     ]
    },
    {
     "name": "stdout",
     "output_type": "stream",
     "text": [
      "\n",
      "Move 114\n",
      "\n",
      "┌─────┬─────┬─────┐\n",
      "│  1  │  2  │  3  │\n",
      "├─────┼─────┼─────┤\n",
      "│  8  │  7  │  5  │\n",
      "├─────┼─────┼─────┤\n",
      "│     │  6  │  4  │\n",
      "└─────┴─────┴─────┘\n"
     ]
    },
    {
     "name": "stdin",
     "output_type": "stream",
     "text": [
      "\n",
      "Enter your move:  s\n"
     ]
    },
    {
     "name": "stdout",
     "output_type": "stream",
     "text": [
      "\n",
      "Move 115\n",
      "\n",
      "┌─────┬─────┬─────┐\n",
      "│  1  │  2  │  3  │\n",
      "├─────┼─────┼─────┤\n",
      "│     │  7  │  5  │\n",
      "├─────┼─────┼─────┤\n",
      "│  8  │  6  │  4  │\n",
      "└─────┴─────┴─────┘\n"
     ]
    },
    {
     "name": "stdin",
     "output_type": "stream",
     "text": [
      "\n",
      "Enter your move:  a\n"
     ]
    },
    {
     "name": "stdout",
     "output_type": "stream",
     "text": [
      "\n",
      "Move 116\n",
      "\n",
      "┌─────┬─────┬─────┐\n",
      "│  1  │  2  │  3  │\n",
      "├─────┼─────┼─────┤\n",
      "│  7  │     │  5  │\n",
      "├─────┼─────┼─────┤\n",
      "│  8  │  6  │  4  │\n",
      "└─────┴─────┴─────┘\n"
     ]
    },
    {
     "name": "stdin",
     "output_type": "stream",
     "text": [
      "\n",
      "Enter your move:  w\n"
     ]
    },
    {
     "name": "stdout",
     "output_type": "stream",
     "text": [
      "\n",
      "Move 117\n",
      "\n",
      "┌─────┬─────┬─────┐\n",
      "│  1  │  2  │  3  │\n",
      "├─────┼─────┼─────┤\n",
      "│  7  │  6  │  5  │\n",
      "├─────┼─────┼─────┤\n",
      "│  8  │     │  4  │\n",
      "└─────┴─────┴─────┘\n"
     ]
    },
    {
     "name": "stdin",
     "output_type": "stream",
     "text": [
      "\n",
      "Enter your move:  a\n"
     ]
    },
    {
     "name": "stdout",
     "output_type": "stream",
     "text": [
      "\n",
      "Move 118\n",
      "\n",
      "┌─────┬─────┬─────┐\n",
      "│  1  │  2  │  3  │\n",
      "├─────┼─────┼─────┤\n",
      "│  7  │  6  │  5  │\n",
      "├─────┼─────┼─────┤\n",
      "│  8  │  4  │     │\n",
      "└─────┴─────┴─────┘\n"
     ]
    },
    {
     "name": "stdin",
     "output_type": "stream",
     "text": [
      "\n",
      "Enter your move:  s\n"
     ]
    },
    {
     "name": "stdout",
     "output_type": "stream",
     "text": [
      "\n",
      "Move 119\n",
      "\n",
      "┌─────┬─────┬─────┐\n",
      "│  1  │  2  │  3  │\n",
      "├─────┼─────┼─────┤\n",
      "│  7  │  6  │     │\n",
      "├─────┼─────┼─────┤\n",
      "│  8  │  4  │  5  │\n",
      "└─────┴─────┴─────┘\n"
     ]
    },
    {
     "name": "stdin",
     "output_type": "stream",
     "text": [
      "\n",
      "Enter your move:  d\n"
     ]
    },
    {
     "name": "stdout",
     "output_type": "stream",
     "text": [
      "\n",
      "Move 120\n",
      "\n",
      "┌─────┬─────┬─────┐\n",
      "│  1  │  2  │  3  │\n",
      "├─────┼─────┼─────┤\n",
      "│  7  │     │  6  │\n",
      "├─────┼─────┼─────┤\n",
      "│  8  │  4  │  5  │\n",
      "└─────┴─────┴─────┘\n"
     ]
    },
    {
     "name": "stdin",
     "output_type": "stream",
     "text": [
      "\n",
      "Enter your move:  w\n"
     ]
    },
    {
     "name": "stdout",
     "output_type": "stream",
     "text": [
      "\n",
      "Move 121\n",
      "\n",
      "┌─────┬─────┬─────┐\n",
      "│  1  │  2  │  3  │\n",
      "├─────┼─────┼─────┤\n",
      "│  7  │  4  │  6  │\n",
      "├─────┼─────┼─────┤\n",
      "│  8  │     │  5  │\n",
      "└─────┴─────┴─────┘\n"
     ]
    },
    {
     "name": "stdin",
     "output_type": "stream",
     "text": [
      "\n",
      "Enter your move:  d\n"
     ]
    },
    {
     "name": "stdout",
     "output_type": "stream",
     "text": [
      "\n",
      "Move 122\n",
      "\n",
      "┌─────┬─────┬─────┐\n",
      "│  1  │  2  │  3  │\n",
      "├─────┼─────┼─────┤\n",
      "│  7  │  4  │  6  │\n",
      "├─────┼─────┼─────┤\n",
      "│     │  8  │  5  │\n",
      "└─────┴─────┴─────┘\n"
     ]
    },
    {
     "name": "stdin",
     "output_type": "stream",
     "text": [
      "\n",
      "Enter your move:  s\n"
     ]
    },
    {
     "name": "stdout",
     "output_type": "stream",
     "text": [
      "\n",
      "Move 123\n",
      "\n",
      "┌─────┬─────┬─────┐\n",
      "│  1  │  2  │  3  │\n",
      "├─────┼─────┼─────┤\n",
      "│     │  4  │  6  │\n",
      "├─────┼─────┼─────┤\n",
      "│  7  │  8  │  5  │\n",
      "└─────┴─────┴─────┘\n"
     ]
    },
    {
     "name": "stdin",
     "output_type": "stream",
     "text": [
      "\n",
      "Enter your move:  a\n"
     ]
    },
    {
     "name": "stdout",
     "output_type": "stream",
     "text": [
      "\n",
      "Move 124\n",
      "\n",
      "┌─────┬─────┬─────┐\n",
      "│  1  │  2  │  3  │\n",
      "├─────┼─────┼─────┤\n",
      "│  4  │     │  6  │\n",
      "├─────┼─────┼─────┤\n",
      "│  7  │  8  │  5  │\n",
      "└─────┴─────┴─────┘\n"
     ]
    },
    {
     "name": "stdin",
     "output_type": "stream",
     "text": [
      "\n",
      "Enter your move:  a\n"
     ]
    },
    {
     "name": "stdout",
     "output_type": "stream",
     "text": [
      "\n",
      "Move 125\n",
      "\n",
      "┌─────┬─────┬─────┐\n",
      "│  1  │  2  │  3  │\n",
      "├─────┼─────┼─────┤\n",
      "│  4  │  6  │     │\n",
      "├─────┼─────┼─────┤\n",
      "│  7  │  8  │  5  │\n",
      "└─────┴─────┴─────┘\n"
     ]
    },
    {
     "name": "stdin",
     "output_type": "stream",
     "text": [
      "\n",
      "Enter your move:  d\n"
     ]
    },
    {
     "name": "stdout",
     "output_type": "stream",
     "text": [
      "\n",
      "Move 126\n",
      "\n",
      "┌─────┬─────┬─────┐\n",
      "│  1  │  2  │  3  │\n",
      "├─────┼─────┼─────┤\n",
      "│  4  │     │  6  │\n",
      "├─────┼─────┼─────┤\n",
      "│  7  │  8  │  5  │\n",
      "└─────┴─────┴─────┘\n"
     ]
    },
    {
     "name": "stdin",
     "output_type": "stream",
     "text": [
      "\n",
      "Enter your move:  w\n"
     ]
    },
    {
     "name": "stdout",
     "output_type": "stream",
     "text": [
      "\n",
      "Move 127\n",
      "\n",
      "┌─────┬─────┬─────┐\n",
      "│  1  │  2  │  3  │\n",
      "├─────┼─────┼─────┤\n",
      "│  4  │  8  │  6  │\n",
      "├─────┼─────┼─────┤\n",
      "│  7  │     │  5  │\n",
      "└─────┴─────┴─────┘\n"
     ]
    },
    {
     "name": "stdin",
     "output_type": "stream",
     "text": [
      "\n",
      "Enter your move:  a\n"
     ]
    },
    {
     "name": "stdout",
     "output_type": "stream",
     "text": [
      "\n",
      "Move 128\n",
      "\n",
      "┌─────┬─────┬─────┐\n",
      "│  1  │  2  │  3  │\n",
      "├─────┼─────┼─────┤\n",
      "│  4  │  8  │  6  │\n",
      "├─────┼─────┼─────┤\n",
      "│  7  │  5  │     │\n",
      "└─────┴─────┴─────┘\n"
     ]
    },
    {
     "name": "stdin",
     "output_type": "stream",
     "text": [
      "\n",
      "Enter your move:  s\n"
     ]
    },
    {
     "name": "stdout",
     "output_type": "stream",
     "text": [
      "\n",
      "Move 129\n",
      "\n",
      "┌─────┬─────┬─────┐\n",
      "│  1  │  2  │  3  │\n",
      "├─────┼─────┼─────┤\n",
      "│  4  │  8  │     │\n",
      "├─────┼─────┼─────┤\n",
      "│  7  │  5  │  6  │\n",
      "└─────┴─────┴─────┘\n"
     ]
    },
    {
     "name": "stdin",
     "output_type": "stream",
     "text": [
      "\n",
      "Enter your move:  d\n"
     ]
    },
    {
     "name": "stdout",
     "output_type": "stream",
     "text": [
      "\n",
      "Move 130\n",
      "\n",
      "┌─────┬─────┬─────┐\n",
      "│  1  │  2  │  3  │\n",
      "├─────┼─────┼─────┤\n",
      "│  4  │     │  8  │\n",
      "├─────┼─────┼─────┤\n",
      "│  7  │  5  │  6  │\n",
      "└─────┴─────┴─────┘\n"
     ]
    },
    {
     "name": "stdin",
     "output_type": "stream",
     "text": [
      "\n",
      "Enter your move:  w\n"
     ]
    },
    {
     "name": "stdout",
     "output_type": "stream",
     "text": [
      "\n",
      "Move 131\n",
      "\n",
      "┌─────┬─────┬─────┐\n",
      "│  1  │  2  │  3  │\n",
      "├─────┼─────┼─────┤\n",
      "│  4  │  5  │  8  │\n",
      "├─────┼─────┼─────┤\n",
      "│  7  │     │  6  │\n",
      "└─────┴─────┴─────┘\n"
     ]
    },
    {
     "name": "stdin",
     "output_type": "stream",
     "text": [
      "\n",
      "Enter your move:  d\n"
     ]
    },
    {
     "name": "stdout",
     "output_type": "stream",
     "text": [
      "\n",
      "Move 132\n",
      "\n",
      "┌─────┬─────┬─────┐\n",
      "│  1  │  2  │  3  │\n",
      "├─────┼─────┼─────┤\n",
      "│  4  │  5  │  8  │\n",
      "├─────┼─────┼─────┤\n",
      "│     │  7  │  6  │\n",
      "└─────┴─────┴─────┘\n"
     ]
    },
    {
     "name": "stdin",
     "output_type": "stream",
     "text": [
      "\n",
      "Enter your move:  s\n"
     ]
    },
    {
     "name": "stdout",
     "output_type": "stream",
     "text": [
      "\n",
      "Move 133\n",
      "\n",
      "┌─────┬─────┬─────┐\n",
      "│  1  │  2  │  3  │\n",
      "├─────┼─────┼─────┤\n",
      "│     │  5  │  8  │\n",
      "├─────┼─────┼─────┤\n",
      "│  4  │  7  │  6  │\n",
      "└─────┴─────┴─────┘\n"
     ]
    },
    {
     "name": "stdin",
     "output_type": "stream",
     "text": [
      "\n",
      "Enter your move:  a\n"
     ]
    },
    {
     "name": "stdout",
     "output_type": "stream",
     "text": [
      "\n",
      "Move 134\n",
      "\n",
      "┌─────┬─────┬─────┐\n",
      "│  1  │  2  │  3  │\n",
      "├─────┼─────┼─────┤\n",
      "│  5  │     │  8  │\n",
      "├─────┼─────┼─────┤\n",
      "│  4  │  7  │  6  │\n",
      "└─────┴─────┴─────┘\n"
     ]
    },
    {
     "name": "stdin",
     "output_type": "stream",
     "text": [
      "\n",
      "Enter your move:  a\n"
     ]
    },
    {
     "name": "stdout",
     "output_type": "stream",
     "text": [
      "\n",
      "Move 135\n",
      "\n",
      "┌─────┬─────┬─────┐\n",
      "│  1  │  2  │  3  │\n",
      "├─────┼─────┼─────┤\n",
      "│  5  │  8  │     │\n",
      "├─────┼─────┼─────┤\n",
      "│  4  │  7  │  6  │\n",
      "└─────┴─────┴─────┘\n"
     ]
    },
    {
     "name": "stdin",
     "output_type": "stream",
     "text": [
      "\n",
      "Enter your move:  w\n"
     ]
    },
    {
     "name": "stdout",
     "output_type": "stream",
     "text": [
      "\n",
      "Move 136\n",
      "\n",
      "┌─────┬─────┬─────┐\n",
      "│  1  │  2  │  3  │\n",
      "├─────┼─────┼─────┤\n",
      "│  5  │  8  │  6  │\n",
      "├─────┼─────┼─────┤\n",
      "│  4  │  7  │     │\n",
      "└─────┴─────┴─────┘\n"
     ]
    },
    {
     "name": "stdin",
     "output_type": "stream",
     "text": [
      "\n",
      "Enter your move:  d\n"
     ]
    },
    {
     "name": "stdout",
     "output_type": "stream",
     "text": [
      "\n",
      "Move 137\n",
      "\n",
      "┌─────┬─────┬─────┐\n",
      "│  1  │  2  │  3  │\n",
      "├─────┼─────┼─────┤\n",
      "│  5  │  8  │  6  │\n",
      "├─────┼─────┼─────┤\n",
      "│  4  │     │  7  │\n",
      "└─────┴─────┴─────┘\n"
     ]
    },
    {
     "name": "stdin",
     "output_type": "stream",
     "text": [
      "\n",
      "Enter your move:  a\n"
     ]
    },
    {
     "name": "stdout",
     "output_type": "stream",
     "text": [
      "\n",
      "Move 138\n",
      "\n",
      "┌─────┬─────┬─────┐\n",
      "│  1  │  2  │  3  │\n",
      "├─────┼─────┼─────┤\n",
      "│  5  │  8  │  6  │\n",
      "├─────┼─────┼─────┤\n",
      "│  4  │  7  │     │\n",
      "└─────┴─────┴─────┘\n"
     ]
    },
    {
     "name": "stdin",
     "output_type": "stream",
     "text": [
      "\n",
      "Enter your move:  s\n"
     ]
    },
    {
     "name": "stdout",
     "output_type": "stream",
     "text": [
      "\n",
      "Move 139\n",
      "\n",
      "┌─────┬─────┬─────┐\n",
      "│  1  │  2  │  3  │\n",
      "├─────┼─────┼─────┤\n",
      "│  5  │  8  │     │\n",
      "├─────┼─────┼─────┤\n",
      "│  4  │  7  │  6  │\n",
      "└─────┴─────┴─────┘\n"
     ]
    },
    {
     "name": "stdin",
     "output_type": "stream",
     "text": [
      "\n",
      "Enter your move:  d\n"
     ]
    },
    {
     "name": "stdout",
     "output_type": "stream",
     "text": [
      "\n",
      "Move 140\n",
      "\n",
      "┌─────┬─────┬─────┐\n",
      "│  1  │  2  │  3  │\n",
      "├─────┼─────┼─────┤\n",
      "│  5  │     │  8  │\n",
      "├─────┼─────┼─────┤\n",
      "│  4  │  7  │  6  │\n",
      "└─────┴─────┴─────┘\n"
     ]
    },
    {
     "name": "stdin",
     "output_type": "stream",
     "text": [
      "\n",
      "Enter your move:  w\n"
     ]
    },
    {
     "name": "stdout",
     "output_type": "stream",
     "text": [
      "\n",
      "Move 141\n",
      "\n",
      "┌─────┬─────┬─────┐\n",
      "│  1  │  2  │  3  │\n",
      "├─────┼─────┼─────┤\n",
      "│  5  │  7  │  8  │\n",
      "├─────┼─────┼─────┤\n",
      "│  4  │     │  6  │\n",
      "└─────┴─────┴─────┘\n"
     ]
    },
    {
     "name": "stdin",
     "output_type": "stream",
     "text": [
      "\n",
      "Enter your move:  a\n"
     ]
    },
    {
     "name": "stdout",
     "output_type": "stream",
     "text": [
      "\n",
      "Move 142\n",
      "\n",
      "┌─────┬─────┬─────┐\n",
      "│  1  │  2  │  3  │\n",
      "├─────┼─────┼─────┤\n",
      "│  5  │  7  │  8  │\n",
      "├─────┼─────┼─────┤\n",
      "│  4  │  6  │     │\n",
      "└─────┴─────┴─────┘\n"
     ]
    },
    {
     "name": "stdin",
     "output_type": "stream",
     "text": [
      "\n",
      "Enter your move:  s\n"
     ]
    },
    {
     "name": "stdout",
     "output_type": "stream",
     "text": [
      "\n",
      "Move 143\n",
      "\n",
      "┌─────┬─────┬─────┐\n",
      "│  1  │  2  │  3  │\n",
      "├─────┼─────┼─────┤\n",
      "│  5  │  7  │     │\n",
      "├─────┼─────┼─────┤\n",
      "│  4  │  6  │  8  │\n",
      "└─────┴─────┴─────┘\n"
     ]
    },
    {
     "name": "stdin",
     "output_type": "stream",
     "text": [
      "\n",
      "Enter your move:  d\n"
     ]
    },
    {
     "name": "stdout",
     "output_type": "stream",
     "text": [
      "\n",
      "Move 144\n",
      "\n",
      "┌─────┬─────┬─────┐\n",
      "│  1  │  2  │  3  │\n",
      "├─────┼─────┼─────┤\n",
      "│  5  │     │  7  │\n",
      "├─────┼─────┼─────┤\n",
      "│  4  │  6  │  8  │\n",
      "└─────┴─────┴─────┘\n"
     ]
    },
    {
     "name": "stdin",
     "output_type": "stream",
     "text": [
      "\n",
      "Enter your move:  w\n"
     ]
    },
    {
     "name": "stdout",
     "output_type": "stream",
     "text": [
      "\n",
      "Move 145\n",
      "\n",
      "┌─────┬─────┬─────┐\n",
      "│  1  │  2  │  3  │\n",
      "├─────┼─────┼─────┤\n",
      "│  5  │  6  │  7  │\n",
      "├─────┼─────┼─────┤\n",
      "│  4  │     │  8  │\n",
      "└─────┴─────┴─────┘\n"
     ]
    },
    {
     "name": "stdin",
     "output_type": "stream",
     "text": [
      "\n",
      "Enter your move:  s\n"
     ]
    },
    {
     "name": "stdout",
     "output_type": "stream",
     "text": [
      "\n",
      "Move 146\n",
      "\n",
      "┌─────┬─────┬─────┐\n",
      "│  1  │  2  │  3  │\n",
      "├─────┼─────┼─────┤\n",
      "│  5  │     │  7  │\n",
      "├─────┼─────┼─────┤\n",
      "│  4  │  6  │  8  │\n",
      "└─────┴─────┴─────┘\n"
     ]
    },
    {
     "name": "stdin",
     "output_type": "stream",
     "text": [
      "\n",
      "Enter your move:  a\n"
     ]
    },
    {
     "name": "stdout",
     "output_type": "stream",
     "text": [
      "\n",
      "Move 147\n",
      "\n",
      "┌─────┬─────┬─────┐\n",
      "│  1  │  2  │  3  │\n",
      "├─────┼─────┼─────┤\n",
      "│  5  │  7  │     │\n",
      "├─────┼─────┼─────┤\n",
      "│  4  │  6  │  8  │\n",
      "└─────┴─────┴─────┘\n"
     ]
    },
    {
     "name": "stdin",
     "output_type": "stream",
     "text": [
      "\n",
      "Enter your move:  w\n"
     ]
    },
    {
     "name": "stdout",
     "output_type": "stream",
     "text": [
      "\n",
      "Move 148\n",
      "\n",
      "┌─────┬─────┬─────┐\n",
      "│  1  │  2  │  3  │\n",
      "├─────┼─────┼─────┤\n",
      "│  5  │  7  │  8  │\n",
      "├─────┼─────┼─────┤\n",
      "│  4  │  6  │     │\n",
      "└─────┴─────┴─────┘\n"
     ]
    },
    {
     "name": "stdin",
     "output_type": "stream",
     "text": [
      "\n",
      "Enter your move:  d\n"
     ]
    },
    {
     "name": "stdout",
     "output_type": "stream",
     "text": [
      "\n",
      "Move 149\n",
      "\n",
      "┌─────┬─────┬─────┐\n",
      "│  1  │  2  │  3  │\n",
      "├─────┼─────┼─────┤\n",
      "│  5  │  7  │  8  │\n",
      "├─────┼─────┼─────┤\n",
      "│  4  │     │  6  │\n",
      "└─────┴─────┴─────┘\n"
     ]
    },
    {
     "name": "stdin",
     "output_type": "stream",
     "text": [
      "\n",
      "Enter your move:  s\n"
     ]
    },
    {
     "name": "stdout",
     "output_type": "stream",
     "text": [
      "\n",
      "Move 150\n",
      "\n",
      "┌─────┬─────┬─────┐\n",
      "│  1  │  2  │  3  │\n",
      "├─────┼─────┼─────┤\n",
      "│  5  │     │  8  │\n",
      "├─────┼─────┼─────┤\n",
      "│  4  │  7  │  6  │\n",
      "└─────┴─────┴─────┘\n"
     ]
    },
    {
     "name": "stdin",
     "output_type": "stream",
     "text": [
      "\n",
      "Enter your move:  ad\n"
     ]
    },
    {
     "name": "stdout",
     "output_type": "stream",
     "text": [
      "Invalid move, try again.\n"
     ]
    },
    {
     "name": "stdin",
     "output_type": "stream",
     "text": [
      "\n",
      "Enter your move:  d\n"
     ]
    },
    {
     "name": "stdout",
     "output_type": "stream",
     "text": [
      "\n",
      "Move 151\n",
      "\n",
      "┌─────┬─────┬─────┐\n",
      "│  1  │  2  │  3  │\n",
      "├─────┼─────┼─────┤\n",
      "│     │  5  │  8  │\n",
      "├─────┼─────┼─────┤\n",
      "│  4  │  7  │  6  │\n",
      "└─────┴─────┴─────┘\n"
     ]
    },
    {
     "name": "stdin",
     "output_type": "stream",
     "text": [
      "\n",
      "Enter your move:  w\n"
     ]
    },
    {
     "name": "stdout",
     "output_type": "stream",
     "text": [
      "\n",
      "Move 152\n",
      "\n",
      "┌─────┬─────┬─────┐\n",
      "│  1  │  2  │  3  │\n",
      "├─────┼─────┼─────┤\n",
      "│  4  │  5  │  8  │\n",
      "├─────┼─────┼─────┤\n",
      "│     │  7  │  6  │\n",
      "└─────┴─────┴─────┘\n"
     ]
    },
    {
     "name": "stdin",
     "output_type": "stream",
     "text": [
      "\n",
      "Enter your move:  a\n"
     ]
    },
    {
     "name": "stdout",
     "output_type": "stream",
     "text": [
      "\n",
      "Move 153\n",
      "\n",
      "┌─────┬─────┬─────┐\n",
      "│  1  │  2  │  3  │\n",
      "├─────┼─────┼─────┤\n",
      "│  4  │  5  │  8  │\n",
      "├─────┼─────┼─────┤\n",
      "│  7  │     │  6  │\n",
      "└─────┴─────┴─────┘\n"
     ]
    },
    {
     "name": "stdin",
     "output_type": "stream",
     "text": [
      "\n",
      "Enter your move:  s\n"
     ]
    },
    {
     "name": "stdout",
     "output_type": "stream",
     "text": [
      "\n",
      "Move 154\n",
      "\n",
      "┌─────┬─────┬─────┐\n",
      "│  1  │  2  │  3  │\n",
      "├─────┼─────┼─────┤\n",
      "│  4  │     │  8  │\n",
      "├─────┼─────┼─────┤\n",
      "│  7  │  5  │  6  │\n",
      "└─────┴─────┴─────┘\n"
     ]
    },
    {
     "name": "stdin",
     "output_type": "stream",
     "text": [
      "\n",
      "Enter your move:  a\n"
     ]
    },
    {
     "name": "stdout",
     "output_type": "stream",
     "text": [
      "\n",
      "Move 155\n",
      "\n",
      "┌─────┬─────┬─────┐\n",
      "│  1  │  2  │  3  │\n",
      "├─────┼─────┼─────┤\n",
      "│  4  │  8  │     │\n",
      "├─────┼─────┼─────┤\n",
      "│  7  │  5  │  6  │\n",
      "└─────┴─────┴─────┘\n"
     ]
    },
    {
     "name": "stdin",
     "output_type": "stream",
     "text": [
      "\n",
      "Enter your move:  w\n"
     ]
    },
    {
     "name": "stdout",
     "output_type": "stream",
     "text": [
      "\n",
      "Move 156\n",
      "\n",
      "┌─────┬─────┬─────┐\n",
      "│  1  │  2  │  3  │\n",
      "├─────┼─────┼─────┤\n",
      "│  4  │  8  │  6  │\n",
      "├─────┼─────┼─────┤\n",
      "│  7  │  5  │     │\n",
      "└─────┴─────┴─────┘\n"
     ]
    },
    {
     "name": "stdin",
     "output_type": "stream",
     "text": [
      "\n",
      "Enter your move:  d\n"
     ]
    },
    {
     "name": "stdout",
     "output_type": "stream",
     "text": [
      "\n",
      "Move 157\n",
      "\n",
      "┌─────┬─────┬─────┐\n",
      "│  1  │  2  │  3  │\n",
      "├─────┼─────┼─────┤\n",
      "│  4  │  8  │  6  │\n",
      "├─────┼─────┼─────┤\n",
      "│  7  │     │  5  │\n",
      "└─────┴─────┴─────┘\n"
     ]
    },
    {
     "name": "stdin",
     "output_type": "stream",
     "text": [
      "\n",
      "Enter your move:  s\n"
     ]
    },
    {
     "name": "stdout",
     "output_type": "stream",
     "text": [
      "\n",
      "Move 158\n",
      "\n",
      "┌─────┬─────┬─────┐\n",
      "│  1  │  2  │  3  │\n",
      "├─────┼─────┼─────┤\n",
      "│  4  │     │  6  │\n",
      "├─────┼─────┼─────┤\n",
      "│  7  │  8  │  5  │\n",
      "└─────┴─────┴─────┘\n"
     ]
    },
    {
     "name": "stdin",
     "output_type": "stream",
     "text": [
      "\n",
      "Enter your move:  a\n"
     ]
    },
    {
     "name": "stdout",
     "output_type": "stream",
     "text": [
      "\n",
      "Move 159\n",
      "\n",
      "┌─────┬─────┬─────┐\n",
      "│  1  │  2  │  3  │\n",
      "├─────┼─────┼─────┤\n",
      "│  4  │  6  │     │\n",
      "├─────┼─────┼─────┤\n",
      "│  7  │  8  │  5  │\n",
      "└─────┴─────┴─────┘\n"
     ]
    },
    {
     "name": "stdin",
     "output_type": "stream",
     "text": [
      "\n",
      "Enter your move:  w\n"
     ]
    },
    {
     "name": "stdout",
     "output_type": "stream",
     "text": [
      "\n",
      "Move 160\n",
      "\n",
      "┌─────┬─────┬─────┐\n",
      "│  1  │  2  │  3  │\n",
      "├─────┼─────┼─────┤\n",
      "│  4  │  6  │  5  │\n",
      "├─────┼─────┼─────┤\n",
      "│  7  │  8  │     │\n",
      "└─────┴─────┴─────┘\n"
     ]
    },
    {
     "name": "stdin",
     "output_type": "stream",
     "text": [
      "\n",
      "Enter your move:  a\n"
     ]
    },
    {
     "name": "stdout",
     "output_type": "stream",
     "text": [
      "Invalid move, try again.\n"
     ]
    },
    {
     "name": "stdin",
     "output_type": "stream",
     "text": [
      "\n",
      "Enter your move:  s\n"
     ]
    },
    {
     "name": "stdout",
     "output_type": "stream",
     "text": [
      "\n",
      "Move 161\n",
      "\n",
      "┌─────┬─────┬─────┐\n",
      "│  1  │  2  │  3  │\n",
      "├─────┼─────┼─────┤\n",
      "│  4  │  6  │     │\n",
      "├─────┼─────┼─────┤\n",
      "│  7  │  8  │  5  │\n",
      "└─────┴─────┴─────┘\n"
     ]
    },
    {
     "name": "stdin",
     "output_type": "stream",
     "text": [
      "\n",
      "Enter your move:  d\n"
     ]
    },
    {
     "name": "stdout",
     "output_type": "stream",
     "text": [
      "\n",
      "Move 162\n",
      "\n",
      "┌─────┬─────┬─────┐\n",
      "│  1  │  2  │  3  │\n",
      "├─────┼─────┼─────┤\n",
      "│  4  │     │  6  │\n",
      "├─────┼─────┼─────┤\n",
      "│  7  │  8  │  5  │\n",
      "└─────┴─────┴─────┘\n"
     ]
    },
    {
     "name": "stdin",
     "output_type": "stream",
     "text": [
      "\n",
      "Enter your move:  q\n"
     ]
    },
    {
     "name": "stdout",
     "output_type": "stream",
     "text": [
      "Thanks for playing!\n"
     ]
    }
   ],
   "source": [
    "game = EightPuzzleProblem()\n",
    "game.play()"
   ]
  }
 ],
 "metadata": {
  "kernelspec": {
   "display_name": "Python 3 (ipykernel)",
   "language": "python",
   "name": "python3"
  },
  "language_info": {
   "codemirror_mode": {
    "name": "ipython",
    "version": 3
   },
   "file_extension": ".py",
   "mimetype": "text/x-python",
   "name": "python",
   "nbconvert_exporter": "python",
   "pygments_lexer": "ipython3",
   "version": "3.13.7"
  }
 },
 "nbformat": 4,
 "nbformat_minor": 5
}
