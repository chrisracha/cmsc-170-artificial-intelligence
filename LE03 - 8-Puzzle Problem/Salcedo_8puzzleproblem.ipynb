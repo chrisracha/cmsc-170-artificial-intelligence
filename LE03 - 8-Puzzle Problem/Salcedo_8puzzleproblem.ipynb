{
 "cells": [
  {
   "cell_type": "markdown",
   "id": "6fa63b4f-21fc-4e4d-85bb-b6613f24bd7c",
   "metadata": {},
   "source": [
    "### CMSC 170: Laboratory Exercise 2\n",
    "##### Missionaries and Cannibals\n",
    "Salcedo, Chris Samuel\n",
    "\n",
    "2022-05055"
   ]
  },
  {
   "cell_type": "markdown",
   "id": "30de86b1-9ecd-41af-a24b-e925d14d2860",
   "metadata": {},
   "source": [
    "#### Task 1.A: Define the Problem\n",
    "\n",
    "##### 1. What is the problemt that needs a solution?\n",
    "\n",
    "The 8-puzzle problem is a sliding puzzle that consists of 8-numbered tiles, labeled 1-8, and an empty space in a 3x3 grid. The challenge is rearranging the tiles through that empty space to achieve a specific goal state.\n",
    "\n",
    "##### 2. What is the initial state?\n",
    "\n",
    "The initial state is any valid state/configuration of the problem, serving as the starting point to where the problem-solving begins.\n",
    "\n",
    "##### 3. What is the goal state?\n",
    "\n",
    "The goal state is the desired state/configuration that is to be achieved. The most common goal state is the numerically arranged state [[1,2,3],[4,5,6],[7,8,0]].\n",
    "\n",
    "##### 4. What are the valid actions?\n",
    "The valid actions consist of four moves, representing the moves of the tiles into the empty space.\n",
    "\n",
    "* UP: Move the tile below the empty space upward.\n",
    "* DOWN: Move the tile above the empty space doenward\n",
    "* LEFT: Move the tile on the right of the empty space to the left\n",
    "* RIGHT: Move the tile on the left of the empty space to the right\n",
    "\n",
    "Of course, the validity of a move or an action relies on the current condition of the empty space. If the empty space is located in a side or corner of the grid then there will not be enough tiles arround it to fullfill the allowability of the four listed moves.\n",
    "\n",
    "##### 5. Whatis/are the functions that validate whether a state is valid?\n",
    "\n",
    "State validation check include constraints where,\n",
    "1. The board should only contain exactly 8 numbered tiles and one empty space\n",
    "2. All tiles are within the 3x3 boundaries\n",
    "3. No duplicate numbers exist, and\n",
    "4. The state is reachable from the initial state\n",
    "\n",
    "#### References:\n",
    "* https://www.geeksforgeeks.org/dsa/8-puzzle-problem-using-branch-and-bound/"
   ]
  },
  {
   "cell_type": "markdown",
   "id": "a900d3c3-108f-404b-b5b1-d869fe1ac78b",
   "metadata": {},
   "source": [
    "#### Task 1.B: Define the Breadth-First Search\n",
    "\n",
    "##### 1. What is the main idea behind the breadth-first search (BFS) algorithm, and how does it explore a graph or tree?\n",
    "\n",
    "The Breadth-First Search (BFS) is a search algorithm that explores nodes by level, starting from the root note, visiting all nodes at depth `d` before exploring nodes `d+1`. In the current puzzle, the algorithm explores all possible moves from the current state before moving to states that require more moves. This way, the shortest possible path is guaranteed to be outputted.\n",
    "\n",
    "##### 2. What data structure does BFS use, and why is it important? How does BFS differ from depth-first search (DFS)?\n",
    "\n",
    "BFS uses a queue (FIFO) data structure to ensure that nodes are processed in the order they were discovered and therefore guaranteeing level-by-level exploration. On the other hand, DFS uses stack (LIFO) and explores more depth-wise (hence the name), which although may find a solution that is not the most optimized, it is better memory-wise. BFS is used mostly on problems such as bipartite graphs and shortest paths, while DFS shows its strengths on problems such as acyclic graphs and finding strongly connected components. \n",
    "\n",
    "#### 3. What is the time complexity of BFS for a graph with V vertices and E edges?\n",
    "\n",
    "The time complexity of BFS is O(V+E) while its space complexity is O(V) for storing the queue and visited states.\n",
    "\n",
    "#### References:\n",
    "* https://www.geeksforgeeks.org/dsa/breadth-first-search-or-bfs-for-a-graph/\n",
    "* https://www.geeksforgeeks.org/dsa/difference-between-bfs-and-dfs/\n"
   ]
  },
  {
   "cell_type": "markdown",
   "id": "f668bf62-855b-4c71-a117-8ac8bae94185",
   "metadata": {},
   "source": [
    "#### Task 2: 8-Puzzle Game in Python"
   ]
  },
  {
   "cell_type": "code",
   "execution_count": null,
   "id": "b6c73317-9603-439e-bf52-09cdb0fffde6",
   "metadata": {},
   "outputs": [],
   "source": []
  }
 ],
 "metadata": {
  "kernelspec": {
   "display_name": "Python 3 (ipykernel)",
   "language": "python",
   "name": "python3"
  },
  "language_info": {
   "codemirror_mode": {
    "name": "ipython",
    "version": 3
   },
   "file_extension": ".py",
   "mimetype": "text/x-python",
   "name": "python",
   "nbconvert_exporter": "python",
   "pygments_lexer": "ipython3",
   "version": "3.13.7"
  }
 },
 "nbformat": 4,
 "nbformat_minor": 5
}
