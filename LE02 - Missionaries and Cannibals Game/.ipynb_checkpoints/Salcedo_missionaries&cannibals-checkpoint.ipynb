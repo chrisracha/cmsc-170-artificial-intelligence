{
 "cells": [
  {
   "cell_type": "markdown",
   "id": "b594bce4-a85f-4b43-ae89-29513a28dd05",
   "metadata": {},
   "source": [
    "#### CMSC 170: Laboratory Exercise 2\n",
    "##### Missionaries and Cannibals"
   ]
  },
  {
   "cell_type": "markdown",
   "id": "088ac904-43a7-445f-93fa-ee02d6097b7f",
   "metadata": {},
   "source": [
    "### Introduction"
   ]
  },
  {
   "cell_type": "markdown",
   "id": "40e779af-32d9-4b93-a3ec-6a4e4ca0a4a6",
   "metadata": {},
   "source": [
    "#### Requirements\n",
    "* pygame\n",
    "* sys\n",
    "* time\n",
    "* collections\n",
    "* typing\n",
    "* copy"
   ]
  },
  {
   "cell_type": "markdown",
   "id": "41b812ec-15c9-4b10-a8c3-dbeb490df32b",
   "metadata": {},
   "source": [
    "#### Problem Analysis Notes\n",
    "* ALL missionaries and cannibals must be transfered from the left to the ride side of the river\n",
    "* Ensure that missionaries are never outnumbered by cannibals on either side\n",
    "* Boat has a capacity constraint of 2\n",
    "* Initial state is (3,3,1): 3 missionaries, 3 cannibals, and the boat on the left side\n",
    "* The goal state is (0,0,0): everyone including the boat on the right side\n",
    "* Valid actions consist of moving 1 or 2 people across through the boat AND someone must always be in the boat\n",
    "\n",
    "Therefore,\n",
    "* Valid states are:\n",
    "    * Missionaries >= Cannibals on each side unless missionaries = 0\n",
    "    * Total people conservation (6)\n",
    "    * Boat position consistency"
   ]
  },
  {
   "cell_type": "markdown",
   "id": "9bff7590-95b5-429c-834f-9d47226b0ecd",
   "metadata": {},
   "source": [
    "I. State Representation Class"
   ]
  },
  {
   "cell_type": "code",
   "execution_count": 3,
   "id": "053520d2-3bcd-47c6-9894-2507f4da4091",
   "metadata": {},
   "outputs": [],
   "source": [
    "from typing import Tuple\n",
    "\n",
    "class GameState:\n",
    "\n",
    "    def __init__(self, missionaries_left: int, cannibals_left: int, boat_left: bool):\n",
    "        \n",
    "        self.missionaries_left = missionaries_left\n",
    "        self.cannibals_left = cannibals_left\n",
    "        self.boat_left = boat_left\n",
    "\n",
    "        # calculation of entities on the right side (total conservation)\n",
    "        self.missionaries_right = 3 - missionaries_left\n",
    "        self.cannibals_right = 3 - cannibals_left\n",
    "\n",
    "    def __eq__(self, other) -> bool:\n",
    "\n",
    "        # for state comparison for duplicate detection for search algorithms\n",
    "        if not isinstance(other, GameState):\n",
    "            return False\n",
    "        return (self.missionaries_left == other.missionaries_left and\n",
    "                self.cannibals_left == other.cannibals_left and\n",
    "                self.boat_left == other.boat_left)\n",
    "\n",
    "    def __hash__(self) -> int:\n",
    "\n",
    "        # use as dictionary key and in sets\n",
    "        return hash((self.missionaries_left, self.cannibals_left, self.boat_left))\n",
    "\n",
    "    def __str__(self) -> str:\n",
    "\n",
    "        # print boat emoji on the left if the boat is on the left, and vice versa\n",
    "        if self.boat_left:\n",
    "            return f\"Left: M = {self.missionaries_left}, C = {self.cannibals_left}, 🛶 | \" \\\n",
    "                   f\"Right: M = {self.missionaries_right}, C = {self.cannibals_right}\"\n",
    "        else:\n",
    "            return f\"Left: M = {self.missionaries_left}, C = {self.cannibals_left} | \" \\\n",
    "                   f\"Right: M = {self.missionaries_right}, C = {self.cannibals_right}, 🛶\"\n",
    "            \n",
    "    def to_tuple(self) -> Tuple[int, int, int]:\n",
    "        return (self.missionaries_left, self.cannibals_left, 1 if self.boat_left else 0)"
   ]
  },
  {
   "cell_type": "markdown",
   "id": "c1b88bea-68bb-477a-a0bc-99ffda3aabff",
   "metadata": {},
   "source": [
    "### II. Logic and Validation"
   ]
  },
  {
   "cell_type": "code",
   "execution_count": 10,
   "id": "425dec82-24f7-43f9-b062-166d519c72b8",
   "metadata": {},
   "outputs": [],
   "source": [
    "from typing import List, Tuple, Optional\n",
    "import copy\n",
    "\n",
    "class MissionariesCannibals:\n",
    "\n",
    "    def __init__(self):\n",
    "\n",
    "        # initialize the starting state\n",
    "        self.initial_state = GameState(3, 3, True)\n",
    "        self.current_state = GameState(3, 3, True)\n",
    "        self.goal_state = GameState(0, 0, False)\n",
    "        self.move_history: List[GameState] = [copy.deepcopy(self.current_state)]\n",
    "\n",
    "    def is_valid(self, state: GameState) -> bool:\n",
    "\n",
    "        # checking based on the analysis notes aforementioned\n",
    "        # 1. non-negativity\n",
    "        # 2. total conservation\n",
    "        # 3. missionaries must not be outnumbered if missionaries != 0\n",
    "\n",
    "        # function returns a boolean whether the state is valid or not\n",
    "\n",
    "        # rule 1\n",
    "        if (state. missionaries_left < 0 or state.cannibals_left < 0 or \n",
    "            state.missionaries_right < 0 or state.cannibals_right < 0):\n",
    "            \n",
    "            return False\n",
    "\n",
    "        # rule 2\n",
    "        if (state.missionaries_left + state.missionaries_right != 3 or\n",
    "            state.cannibals_left + state.cannibals_right != 3):\n",
    "\n",
    "            return False\n",
    "\n",
    "        # rule 3\n",
    "        # left\n",
    "        if (state.missionaries_left > 0 and\n",
    "            state.missionaries_left < state.cannibals_left):\n",
    "\n",
    "            return False\n",
    "\n",
    "        if (state.missionaries_right > 0 and\n",
    "            state.missionaries_right < state.cannibals_right):\n",
    "\n",
    "            return False\n",
    "            \n",
    "        return True\n",
    "        \n",
    "    # game is immediately over if missionaries on either side are outnumbered \n",
    "    def is_game_over(self, state: GameState) -> bool:\n",
    "        \n",
    "        # left missionaries outnumbered\n",
    "        if (state.missionaries_left > 0 and\n",
    "            state.missionaries_left < state.cannibals_left):\n",
    "\n",
    "            return True\n",
    "\n",
    "        if (state.missionaries_right > 0 and\n",
    "            state.missionaries_right < state.cannibals_right):\n",
    "\n",
    "            return True\n",
    "\n",
    "    # check if goal state is achieved\n",
    "    def is_goal(self, state: GameState) -> bool:\n",
    "\n",
    "        return state == self.goal_state\n",
    "\n",
    "    # generate possible moves from current state\n",
    "    def possible_moves(self, state: GameState) -> List[Tuple[int, int]]:\n",
    "\n",
    "        # move representation: (missionaries, cannibals) to put in boat\n",
    "\n",
    "        moves = []\n",
    "\n",
    "        possible_loads = [\n",
    "            (1, 0), # 1 missionary\n",
    "            (0, 1), # 1 cannibal\n",
    "            (2, 0), # 2 missionaries\n",
    "            (0, 2), # 2 cannibals\n",
    "            (1, 1) # 1 missionary and 1 cannibal\n",
    "        ]\n",
    "\n",
    "        for m_move, c_move in possible_loads:\n",
    "            \n",
    "            # check if enough number of missionary and cannibal are enough on the current side\n",
    "            if state.boat_left:\n",
    "                if (state.missionaries_left >= m_move and\n",
    "                    state.cannibals_left >= c_move):\n",
    "                    moves.append((m_move, c_move))\n",
    "\n",
    "            else:\n",
    "                if (state.missionaries_right >= m_move and\n",
    "                    state.cannibals_right >= c_move):\n",
    "                    moves.append((m_move, c_move))\n",
    "        return moves\n",
    "\n",
    "    # apply move to a state then return the resulting state, if valid\n",
    "    def apply_move(self, state: GameState, move: Tuple[int, int]) -> Optional[GameState]:\n",
    "\n",
    "        m_move, c_move = move\n",
    "\n",
    "        if state.boat_left:\n",
    "            # from left to right\n",
    "            new_state = GameState(\n",
    "                state.missionaries_left - m_move,\n",
    "                state.cannibals_left - c_move,\n",
    "                False\n",
    "            )\n",
    "        else:\n",
    "            # from right to left\n",
    "            new_state = GameState(\n",
    "                state.missionaries_left + m_move,\n",
    "                state.cannibals_left + c_move,\n",
    "                True\n",
    "            )\n",
    "\n",
    "        if self.is_valid(new_state):\n",
    "            return new_state\n",
    "        return None\n",
    "\n",
    "    def make_move(self, missionaries: int, cannibals: int) -> bool:\n",
    "        \n",
    "        # function for interactivity, returns bool True if successful\n",
    "        move = (missionaries, cannibals)\n",
    "        new_state = self.apply_move(self.current_state, move)\n",
    "\n",
    "        if new_state:\n",
    "            self.current_state = new_state\n",
    "            self.move_history.append(copy.deepcopy(new_state))\n",
    "            return True\n",
    "        return False\n",
    "\n",
    "    def reset(self):\n",
    "        self.current_state = GameState(3, 3, True)\n",
    "        self.move_history = [copy.deepcopy(self.current_state)]"
   ]
  },
  {
   "cell_type": "markdown",
   "id": "5cb4fb3b-3acf-44ad-9793-574a016ab8bb",
   "metadata": {},
   "source": [
    "### III. Search Algorithms"
   ]
  },
  {
   "cell_type": "code",
   "execution_count": 5,
   "id": "cedca718-faaa-474e-8b4c-3c3f59fa6dcc",
   "metadata": {},
   "outputs": [],
   "source": [
    "from collections import deque\n",
    "from typing import Set\n",
    "\n",
    "class SearchAlgorithms:\n",
    "    # implementation of BFS and DFS for solving the problem\n",
    "\n",
    "    @staticmethod\n",
    "    def bfs(game: MissionariesCannibals) -> Optional[List[GameState]]:\n",
    "        # guaranteed shortest path\n",
    "        # queue data structure\n",
    "\n",
    "        queue = deque([(game.initial_state, [game.initial_state])])\n",
    "        visited: Set[GameState] = {game.initial_state}\n",
    "\n",
    "        nodes_explored = 0\n",
    "\n",
    "        while queue:\n",
    "            current_state, path = queue.popleft()\n",
    "            nodes_explored += 1\n",
    "\n",
    "            # check if goal is achieved\n",
    "            if game.is_goal(current_state):\n",
    "                print(f\"solution found, explored: {nodes_explored} nodes.\")\n",
    "\n",
    "                choice = input(\"Do you want to print entire solution path (y/n)? \").strip().lower()\n",
    "                if choice == \"y\":\n",
    "                    for step_num, state in enumerate(path):\n",
    "                        print(f\"step {step_num}: {state}\")\n",
    "                              \n",
    "                return path\n",
    "\n",
    "            # generate and explore all possible next states\n",
    "            for move in game.possible_moves(current_state):\n",
    "                next_state = game.apply_move(current_state, move)\n",
    "\n",
    "                if next_state and next_state not in visited:\n",
    "                    visited.add(next_state)\n",
    "                    new_path = path + [next_state]\n",
    "                    queue.append((next_state, new_path))\n",
    "\n",
    "        print(\"No solution found.\")\n",
    "        return None\n",
    "\n",
    "    @staticmethod\n",
    "    def dfs(game: MissionariesCannibals, max_depth: int = 20) -> Optional[List[GameState]]:\n",
    "        # dfs goes into one path before backtracking\n",
    "        # stack data struct\n",
    "\n",
    "        def dfs_recursive(state: GameState, path: List[GameState],\n",
    "                          visited: Set[GameState], depth: int) -> Optional[List[GameState]]:\n",
    "            if depth > max_depth:\n",
    "                return None\n",
    "\n",
    "            if game.is_goal(state):\n",
    "                return path\n",
    "\n",
    "            # explore all possible moves\n",
    "            for move in game.possible_moves(state):\n",
    "                next_state = game.apply_move(state, move)\n",
    "\n",
    "                if (next_state and next_state not in visited and\n",
    "                    next_state not in path):\n",
    "                    # avoiding cycles by checking visited moves\n",
    "\n",
    "                    visited.add(next_state)\n",
    "                    result = dfs_recursive(next_state, path + [next_state], visited, depth + 1)\n",
    "\n",
    "                    if result:\n",
    "                        return result\n",
    "\n",
    "                    visited.remove(next_state)\n",
    "\n",
    "            return None\n",
    "\n",
    "        visited: Set[GameState] = {game.initial_state}\n",
    "        solution = dfs_recursive(game.initial_state, [game.initial_state], visited, 0)\n",
    "\n",
    "        if solution:\n",
    "            print(f\"solution found in {len(solution) - 1} moves\")\n",
    "            \n",
    "            choice = input(\"Do you want to print entire solution path (y/n)? \").strip().lower()\n",
    "            if choice == \"y\":\n",
    "                for step_num, state in enumerate(solution):\n",
    "                    print(f\"step {step_num}: {state}\")\n",
    "                          \n",
    "            return solution\n",
    "        else:\n",
    "            print(\"No solution found within depth limit.\")"
   ]
  },
  {
   "cell_type": "code",
   "execution_count": 6,
   "id": "1eea7e24-5a2a-4a48-81e2-b704fcfbe6b8",
   "metadata": {
    "scrolled": true
   },
   "outputs": [
    {
     "name": "stdout",
     "output_type": "stream",
     "text": [
      "=== bfs ===\n",
      "solution found, explored: 15 nodes.\n"
     ]
    },
    {
     "name": "stdin",
     "output_type": "stream",
     "text": [
      "Do you want to print entire solution path (y/n)?  y\n"
     ]
    },
    {
     "name": "stdout",
     "output_type": "stream",
     "text": [
      "step 0: Left: M = 3, C = 3, 🛶 | Right: M = 0, C = 0\n",
      "step 1: Left: M = 3, C = 1 | Right: M = 0, C = 2, 🛶\n",
      "step 2: Left: M = 3, C = 2, 🛶 | Right: M = 0, C = 1\n",
      "step 3: Left: M = 3, C = 0 | Right: M = 0, C = 3, 🛶\n",
      "step 4: Left: M = 3, C = 1, 🛶 | Right: M = 0, C = 2\n",
      "step 5: Left: M = 1, C = 1 | Right: M = 2, C = 2, 🛶\n",
      "step 6: Left: M = 2, C = 2, 🛶 | Right: M = 1, C = 1\n",
      "step 7: Left: M = 0, C = 2 | Right: M = 3, C = 1, 🛶\n",
      "step 8: Left: M = 0, C = 3, 🛶 | Right: M = 3, C = 0\n",
      "step 9: Left: M = 0, C = 1 | Right: M = 3, C = 2, 🛶\n",
      "step 10: Left: M = 1, C = 1, 🛶 | Right: M = 2, C = 2\n",
      "step 11: Left: M = 0, C = 0 | Right: M = 3, C = 3, 🛶\n",
      "\n",
      "=== dfs ===\n",
      "solution found in 11 moves\n"
     ]
    },
    {
     "name": "stdin",
     "output_type": "stream",
     "text": [
      "Do you want to print entire solution path (y/n)?  y\n"
     ]
    },
    {
     "name": "stdout",
     "output_type": "stream",
     "text": [
      "step 0: Left: M = 3, C = 3, 🛶 | Right: M = 0, C = 0\n",
      "step 1: Left: M = 3, C = 1 | Right: M = 0, C = 2, 🛶\n",
      "step 2: Left: M = 3, C = 2, 🛶 | Right: M = 0, C = 1\n",
      "step 3: Left: M = 3, C = 0 | Right: M = 0, C = 3, 🛶\n",
      "step 4: Left: M = 3, C = 1, 🛶 | Right: M = 0, C = 2\n",
      "step 5: Left: M = 1, C = 1 | Right: M = 2, C = 2, 🛶\n",
      "step 6: Left: M = 2, C = 2, 🛶 | Right: M = 1, C = 1\n",
      "step 7: Left: M = 0, C = 2 | Right: M = 3, C = 1, 🛶\n",
      "step 8: Left: M = 0, C = 3, 🛶 | Right: M = 3, C = 0\n",
      "step 9: Left: M = 0, C = 1 | Right: M = 3, C = 2, 🛶\n",
      "step 10: Left: M = 1, C = 1, 🛶 | Right: M = 2, C = 2\n",
      "step 11: Left: M = 0, C = 0 | Right: M = 3, C = 3, 🛶\n"
     ]
    }
   ],
   "source": [
    "game = MissionariesCannibals()\n",
    "\n",
    "print(\"=== bfs ===\")\n",
    "bfs_solution = SearchAlgorithms.bfs(game)\n",
    "\n",
    "print(\"\\n=== dfs ===\")\n",
    "dfs_solution = SearchAlgorithms.dfs(game, max_depth = 20)"
   ]
  },
  {
   "cell_type": "markdown",
   "id": "92681983-d198-409d-8800-b1f899778c05",
   "metadata": {},
   "source": [
    "### Command Line Interface Game"
   ]
  },
  {
   "cell_type": "code",
   "execution_count": 7,
   "id": "5a75a7b3-eded-490b-aaea-07db6b81f532",
   "metadata": {},
   "outputs": [],
   "source": [
    "class CommandLineInterface:\n",
    "    def __init__(self):\n",
    "        self.game = MissionariesCannibals()\n",
    "        self.search = SearchAlgorithms()\n",
    "\n",
    "    def instructions(self):\n",
    "        print(\"Missionaries and Cannibals Game\")\n",
    "        print()\n",
    "        print(\"📋 OBJECTIVE:\")\n",
    "        print(\"Move all missionaries and cannibals from the left side\")\n",
    "        print(\"to the right side of the river using a boat.\")\n",
    "        print()\n",
    "        print(\"📜 RULES:\")\n",
    "        print(\"1. The boat can carry at most 2 people\")\n",
    "        print(\"2. The boat cannot travel empty (must have 1-2 people)\")\n",
    "        print(\"3. Missionaries must never be outnumbered by cannibals\")\n",
    "        print(\"   on either side (unless there are 0 missionaries)\")\n",
    "        print(\"4. You win when everyone is on the right side!\")\n",
    "\n",
    "    def display_state(self, state: GameState):\n",
    "        print(\"\\nCurrent state:\")\n",
    "        left_m = \"M \" * state.missionaries_left\n",
    "        left_c = \"C \" * state.cannibals_left\n",
    "\n",
    "        right_m = \"M \" * state.missionaries_right\n",
    "        right_c = \"C \" * state.cannibals_right\n",
    "\n",
    "        boat_left = \"🛶 \" if state.boat_left else \"   \"\n",
    "        boat_right = \"🛶 \" if not state.boat_left else \"   \"\n",
    "        \n",
    "        print(f\"Left Side: {left_m}{left_c}\")\n",
    "        print(f\"          {boat_left}|🌊🌊🌊🌊🌊| {boat_right}\")\n",
    "        print(f\"Right Side:                 {right_m}{right_c}\")\n",
    "        print()\n",
    "        print(f\"State Tuple: {state.to_tuple()}\")\n",
    "\n",
    "    def get_move(self) -> Tuple[int, int]:\n",
    "        while True:\n",
    "            try:\n",
    "                print(\"\\nYour Turn!\")\n",
    "                m = int(input(\"Missionaries (0-2): \"))\n",
    "                c = int(input(\"Cannibals (0-2): \"))\n",
    "\n",
    "                if m < 0 or c < 0 or m > 2 or c > 2:\n",
    "                    print(\"Invalid input! Must be between 0 and 2.\")\n",
    "                    continue\n",
    "\n",
    "                if m + c < 1 or m + c > 2:\n",
    "                    print(\"Boat must have 1 or 2 people!\")\n",
    "                    continue\n",
    "\n",
    "                return (m, c)\n",
    "            except ValueError:\n",
    "                print(\"Please enter valid integers.\")\n",
    "\n",
    "    def play(self):\n",
    "        self.instructions()\n",
    "\n",
    "        while True:\n",
    "            self.display_state(self.game.current_state)\n",
    "\n",
    "            if self.game.is_goal(self.game.current_state):\n",
    "                print()\n",
    "                print(\"=\" * 10)\n",
    "                print(\"YOU WON, CONGRATULATIONS!\")\n",
    "                print(\"=\" * 10)\n",
    "                print()\n",
    "                print(f\"Completed in {len(self.game.move_history) - 1} moves\")\n",
    "                break\n",
    "\n",
    "            if self.game.is_game_over(self.game.current_state):\n",
    "                print()\n",
    "                print(\"=\" * 10)\n",
    "                print(\"YOU LOST, TRY AGAIN!\")\n",
    "                print(\"=\" * 10)\n",
    "                print()\n",
    "                break\n",
    "\n",
    "            move = self.get_move()\n",
    "            success = self.game.make_move(move[0], move[1])\n",
    "\n",
    "            if not success:\n",
    "                print()\n",
    "                print(\"=\" * 10)\n",
    "                print(\"INVALID MOVE, TRY AGAIN\")\n",
    "                print(\"=\" * 10)\n",
    "                print()\n",
    "\n",
    "    def main_menu(self):\n",
    "        while True:\n",
    "            print(\"\\nMissionaries and Cannibals\")\n",
    "            print(\"1. Play Game\")\n",
    "            print(\"2. How to Play\")\n",
    "            print(\"3. Exit\")\n",
    "\n",
    "            choice = input(\"Choose an option: \")\n",
    "            if choice == \"1\":\n",
    "                self.game.reset()\n",
    "                self.play()\n",
    "            elif choice == \"2\":\n",
    "                self.instructions()\n",
    "            elif choice == \"3\":\n",
    "                print()\n",
    "                print(\"=\" * 10)\n",
    "                print(\"THANK YOU FOR PLAYING\")\n",
    "                print(\"=\" * 10)\n",
    "                print()\n",
    "                \n",
    "                break\n",
    "            else:\n",
    "                print(\"Invalid choice, try again.\")\n"
   ]
  },
  {
   "cell_type": "markdown",
   "id": "34345507-ff8b-404a-b663-6e1aed4b22dd",
   "metadata": {},
   "source": [
    "#### Run the Program"
   ]
  },
  {
   "cell_type": "code",
   "execution_count": 11,
   "id": "83946d8a-c1bd-4fbe-ab6f-8ba6253a63b2",
   "metadata": {},
   "outputs": [
    {
     "name": "stdout",
     "output_type": "stream",
     "text": [
      "\n",
      "Missionaries and Cannibals\n",
      "1. Play Game\n",
      "2. How to Play\n",
      "3. Exit\n"
     ]
    },
    {
     "name": "stdin",
     "output_type": "stream",
     "text": [
      "Choose an option:  1\n"
     ]
    },
    {
     "name": "stdout",
     "output_type": "stream",
     "text": [
      "Missionaries and Cannibals Game\n",
      "\n",
      "📋 OBJECTIVE:\n",
      "Move all missionaries and cannibals from the left side\n",
      "to the right side of the river using a boat.\n",
      "\n",
      "📜 RULES:\n",
      "1. The boat can carry at most 2 people\n",
      "2. The boat cannot travel empty (must have 1-2 people)\n",
      "3. Missionaries must never be outnumbered by cannibals\n",
      "   on either side (unless there are 0 missionaries)\n",
      "4. You win when everyone is on the right side!\n",
      "\n",
      "Current state:\n",
      "Left Side: M M M C C C \n",
      "          🛶 |🌊🌊🌊🌊🌊|    \n",
      "Right Side:                 \n",
      "\n",
      "State Tuple: (3, 3, 1)\n",
      "\n",
      "Your Turn!\n"
     ]
    },
    {
     "name": "stdin",
     "output_type": "stream",
     "text": [
      "Missionaries (0-2):  0\n",
      "Cannibals (0-2):  2\n"
     ]
    },
    {
     "name": "stdout",
     "output_type": "stream",
     "text": [
      "\n",
      "Current state:\n",
      "Left Side: M M M C \n",
      "             |🌊🌊🌊🌊🌊| 🛶 \n",
      "Right Side:                 C C \n",
      "\n",
      "State Tuple: (3, 1, 0)\n",
      "\n",
      "Your Turn!\n"
     ]
    },
    {
     "name": "stdin",
     "output_type": "stream",
     "text": [
      "Missionaries (0-2):  0\n",
      "Cannibals (0-2):  1\n"
     ]
    },
    {
     "name": "stdout",
     "output_type": "stream",
     "text": [
      "\n",
      "Current state:\n",
      "Left Side: M M M C C \n",
      "          🛶 |🌊🌊🌊🌊🌊|    \n",
      "Right Side:                 C \n",
      "\n",
      "State Tuple: (3, 2, 1)\n",
      "\n",
      "Your Turn!\n"
     ]
    },
    {
     "name": "stdin",
     "output_type": "stream",
     "text": [
      "Missionaries (0-2):  0\n",
      "Cannibals (0-2):  2\n"
     ]
    },
    {
     "name": "stdout",
     "output_type": "stream",
     "text": [
      "\n",
      "Current state:\n",
      "Left Side: M M M \n",
      "             |🌊🌊🌊🌊🌊| 🛶 \n",
      "Right Side:                 C C C \n",
      "\n",
      "State Tuple: (3, 0, 0)\n",
      "\n",
      "Your Turn!\n"
     ]
    },
    {
     "name": "stdin",
     "output_type": "stream",
     "text": [
      "Missionaries (0-2):  1\n",
      "Cannibals (0-2):  1\n"
     ]
    },
    {
     "name": "stdout",
     "output_type": "stream",
     "text": [
      "Invalid move, try again.\n",
      "\n",
      "Current state:\n",
      "Left Side: M M M \n",
      "             |🌊🌊🌊🌊🌊| 🛶 \n",
      "Right Side:                 C C C \n",
      "\n",
      "State Tuple: (3, 0, 0)\n",
      "\n",
      "Your Turn!\n"
     ]
    },
    {
     "name": "stdin",
     "output_type": "stream",
     "text": [
      "Missionaries (0-2):  0\n",
      "Cannibals (0-2):  2\n"
     ]
    },
    {
     "name": "stdout",
     "output_type": "stream",
     "text": [
      "\n",
      "Current state:\n",
      "Left Side: M M M C C \n",
      "          🛶 |🌊🌊🌊🌊🌊|    \n",
      "Right Side:                 C \n",
      "\n",
      "State Tuple: (3, 2, 1)\n",
      "\n",
      "Your Turn!\n"
     ]
    },
    {
     "name": "stdin",
     "output_type": "stream",
     "text": [
      "Missionaries (0-2):  0\n",
      "Cannibals (0-2):  2\n"
     ]
    },
    {
     "name": "stdout",
     "output_type": "stream",
     "text": [
      "\n",
      "Current state:\n",
      "Left Side: M M M \n",
      "             |🌊🌊🌊🌊🌊| 🛶 \n",
      "Right Side:                 C C C \n",
      "\n",
      "State Tuple: (3, 0, 0)\n",
      "\n",
      "Your Turn!\n"
     ]
    },
    {
     "name": "stdin",
     "output_type": "stream",
     "text": [
      "Missionaries (0-2):  0\n",
      "Cannibals (0-2):  1\n"
     ]
    },
    {
     "name": "stdout",
     "output_type": "stream",
     "text": [
      "\n",
      "Current state:\n",
      "Left Side: M M M C \n",
      "          🛶 |🌊🌊🌊🌊🌊|    \n",
      "Right Side:                 C C \n",
      "\n",
      "State Tuple: (3, 1, 1)\n",
      "\n",
      "Your Turn!\n"
     ]
    },
    {
     "name": "stdin",
     "output_type": "stream",
     "text": [
      "Missionaries (0-2):  2\n",
      "Cannibals (0-2):  0\n"
     ]
    },
    {
     "name": "stdout",
     "output_type": "stream",
     "text": [
      "\n",
      "Current state:\n",
      "Left Side: M C \n",
      "             |🌊🌊🌊🌊🌊| 🛶 \n",
      "Right Side:                 M M C C \n",
      "\n",
      "State Tuple: (1, 1, 0)\n",
      "\n",
      "Your Turn!\n"
     ]
    },
    {
     "name": "stdin",
     "output_type": "stream",
     "text": [
      "Missionaries (0-2):  1\n",
      "Cannibals (0-2):  1\n"
     ]
    },
    {
     "name": "stdout",
     "output_type": "stream",
     "text": [
      "\n",
      "Current state:\n",
      "Left Side: M M C C \n",
      "          🛶 |🌊🌊🌊🌊🌊|    \n",
      "Right Side:                 M C \n",
      "\n",
      "State Tuple: (2, 2, 1)\n",
      "\n",
      "Your Turn!\n"
     ]
    },
    {
     "name": "stdin",
     "output_type": "stream",
     "text": [
      "Missionaries (0-2):  1\n",
      "Cannibals (0-2):  1\n"
     ]
    },
    {
     "name": "stdout",
     "output_type": "stream",
     "text": [
      "\n",
      "Current state:\n",
      "Left Side: M C \n",
      "             |🌊🌊🌊🌊🌊| 🛶 \n",
      "Right Side:                 M M C C \n",
      "\n",
      "State Tuple: (1, 1, 0)\n",
      "\n",
      "Your Turn!\n"
     ]
    },
    {
     "name": "stdin",
     "output_type": "stream",
     "text": [
      "Missionaries (0-2):  1\n",
      "Cannibals (0-2):  1\n"
     ]
    },
    {
     "name": "stdout",
     "output_type": "stream",
     "text": [
      "\n",
      "Current state:\n",
      "Left Side: M M C C \n",
      "          🛶 |🌊🌊🌊🌊🌊|    \n",
      "Right Side:                 M C \n",
      "\n",
      "State Tuple: (2, 2, 1)\n",
      "\n",
      "Your Turn!\n"
     ]
    },
    {
     "name": "stdin",
     "output_type": "stream",
     "text": [
      "Missionaries (0-2):  2\n",
      "Cannibals (0-2):  0\n"
     ]
    },
    {
     "name": "stdout",
     "output_type": "stream",
     "text": [
      "\n",
      "Current state:\n",
      "Left Side: C C \n",
      "             |🌊🌊🌊🌊🌊| 🛶 \n",
      "Right Side:                 M M M C \n",
      "\n",
      "State Tuple: (0, 2, 0)\n",
      "\n",
      "Your Turn!\n"
     ]
    },
    {
     "name": "stdin",
     "output_type": "stream",
     "text": [
      "Missionaries (0-2):  0\n",
      "Cannibals (0-2):  1\n"
     ]
    },
    {
     "name": "stdout",
     "output_type": "stream",
     "text": [
      "\n",
      "Current state:\n",
      "Left Side: C C C \n",
      "          🛶 |🌊🌊🌊🌊🌊|    \n",
      "Right Side:                 M M M \n",
      "\n",
      "State Tuple: (0, 3, 1)\n",
      "\n",
      "Your Turn!\n"
     ]
    },
    {
     "name": "stdin",
     "output_type": "stream",
     "text": [
      "Missionaries (0-2):  2\n",
      "Cannibals (0-2):  0\n"
     ]
    },
    {
     "name": "stdout",
     "output_type": "stream",
     "text": [
      "Invalid move, try again.\n",
      "\n",
      "Current state:\n",
      "Left Side: C C C \n",
      "          🛶 |🌊🌊🌊🌊🌊|    \n",
      "Right Side:                 M M M \n",
      "\n",
      "State Tuple: (0, 3, 1)\n",
      "\n",
      "Your Turn!\n"
     ]
    },
    {
     "name": "stdin",
     "output_type": "stream",
     "text": [
      "Missionaries (0-2):  0\n",
      "Cannibals (0-2):  2\n"
     ]
    },
    {
     "name": "stdout",
     "output_type": "stream",
     "text": [
      "\n",
      "Current state:\n",
      "Left Side: C \n",
      "             |🌊🌊🌊🌊🌊| 🛶 \n",
      "Right Side:                 M M M C C \n",
      "\n",
      "State Tuple: (0, 1, 0)\n",
      "\n",
      "Your Turn!\n"
     ]
    },
    {
     "name": "stdin",
     "output_type": "stream",
     "text": [
      "Missionaries (0-2):  0\n",
      "Cannibals (0-2):  1\n"
     ]
    },
    {
     "name": "stdout",
     "output_type": "stream",
     "text": [
      "\n",
      "Current state:\n",
      "Left Side: C C \n",
      "          🛶 |🌊🌊🌊🌊🌊|    \n",
      "Right Side:                 M M M C \n",
      "\n",
      "State Tuple: (0, 2, 1)\n",
      "\n",
      "Your Turn!\n"
     ]
    },
    {
     "name": "stdin",
     "output_type": "stream",
     "text": [
      "Missionaries (0-2):  0\n",
      "Cannibals (0-2):  2\n"
     ]
    },
    {
     "name": "stdout",
     "output_type": "stream",
     "text": [
      "\n",
      "Current state:\n",
      "Left Side: \n",
      "             |🌊🌊🌊🌊🌊| 🛶 \n",
      "Right Side:                 M M M C C C \n",
      "\n",
      "State Tuple: (0, 0, 0)\n",
      "You won! Congratulations!\n",
      "Completed in 15 moves\n",
      "\n",
      "Missionaries and Cannibals\n",
      "1. Play Game\n",
      "2. How to Play\n",
      "3. Exit\n"
     ]
    },
    {
     "name": "stdin",
     "output_type": "stream",
     "text": [
      "Choose an option:  3\n"
     ]
    },
    {
     "name": "stdout",
     "output_type": "stream",
     "text": [
      "Thank you for playing!\n"
     ]
    }
   ],
   "source": [
    "program = CommandLineInterface()\n",
    "program.main_menu()"
   ]
  }
 ],
 "metadata": {
  "kernelspec": {
   "display_name": "Python 3 (ipykernel)",
   "language": "python",
   "name": "python3"
  },
  "language_info": {
   "codemirror_mode": {
    "name": "ipython",
    "version": 3
   },
   "file_extension": ".py",
   "mimetype": "text/x-python",
   "name": "python",
   "nbconvert_exporter": "python",
   "pygments_lexer": "ipython3",
   "version": "3.13.7"
  }
 },
 "nbformat": 4,
 "nbformat_minor": 5
}
