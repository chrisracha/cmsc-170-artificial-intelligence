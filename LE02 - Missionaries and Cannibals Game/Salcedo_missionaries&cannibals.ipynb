{
 "cells": [
  {
   "cell_type": "markdown",
   "id": "b594bce4-a85f-4b43-ae89-29513a28dd05",
   "metadata": {},
   "source": [
    "#### CMSC 170: Laboratory Exercise 2\n",
    "##### Missionaries and Cannibals"
   ]
  },
  {
   "cell_type": "markdown",
   "id": "088ac904-43a7-445f-93fa-ee02d6097b7f",
   "metadata": {},
   "source": [
    "### Introduction"
   ]
  },
  {
   "cell_type": "markdown",
   "id": "40e779af-32d9-4b93-a3ec-6a4e4ca0a4a6",
   "metadata": {},
   "source": [
    "#### Requirements\n",
    "* pygame\n",
    "* sys\n",
    "* time\n",
    "* collections\n",
    "* typing\n",
    "* copy"
   ]
  },
  {
   "cell_type": "markdown",
   "id": "41b812ec-15c9-4b10-a8c3-dbeb490df32b",
   "metadata": {},
   "source": [
    "#### Problem Analysis Notes\n",
    "* ALL missionaries and cannibals must be transfered from the left to the ride side of the river\n",
    "* Ensure that missionaries are never outnumbered by cannibals on either side\n",
    "* Boat has a capacity constraint of 2\n",
    "* Initial state is (3,3,1): 3 missionaries, 3 cannibals, and the boat on the left side\n",
    "* The goal state is (0,0,0): everyone including the boat on the right side\n",
    "* Valid actions consist of moving 1 or 2 people across through the boat AND someone must always be in the boat\n",
    "\n",
    "Therefore,\n",
    "* Valid states are:\n",
    "    * Missionaries >= Cannibals on each side unless missionaries = 0\n",
    "    * Total people conservation (6)\n",
    "    * Boat position consistency"
   ]
  },
  {
   "cell_type": "markdown",
   "id": "9bff7590-95b5-429c-834f-9d47226b0ecd",
   "metadata": {},
   "source": [
    "I. State Representation Class"
   ]
  },
  {
   "cell_type": "code",
   "execution_count": null,
   "id": "053520d2-3bcd-47c6-9894-2507f4da4091",
   "metadata": {},
   "outputs": [],
   "source": [
    "class GameState:\n",
    "\n",
    "    def __init__(self, missionaries_left: int, cannibals_left: int, boat_left: bool):\n",
    "        \n",
    "        self.missionaries_left = missionaries_left\n",
    "        self.cannibals_left = cannibals_left\n",
    "        self.boat_left = boat_left\n",
    "\n",
    "        # calculation of entities on the right side (total conservation)\n",
    "        self.missionaries_right = 3 - missionaries_left\n",
    "        self.cannibals_right = 3 - cannibals_left\n",
    "\n",
    "    def __eq__(self, other) -> bool:\n",
    "\n",
    "        # for state comparison for duplicate detection for search algorithms\n",
    "        if not isinstance(other, GameState):\n",
    "            return False\n",
    "        return (self.missionaries_left == other.missionaries_left and\n",
    "                self.cannibals_left == other.cannibals_left and\n",
    "                self.boat_left == other.boat_left)\n",
    "\n",
    "    def __hash__(self) -> int:\n",
    "\n",
    "        # use as dictionary key and in sets\n",
    "        return hash((self.missionaries_left, self.cannibals_left, self.boat_left))\n",
    "\n",
    "    def __str__(self) -> str:\n",
    "\n",
    "    # print boat emoji on the left if the boat is on the left, and vice versa\n",
    "    if self.boat_left:\n",
    "        return f\"Left: M = {self.missionaries_left}, C = {self.cannibals_left}, 🛶 | \" \\\n",
    "               f\"Right: M = {self.missionaries_right}, C = {self.cannibals_right}\"\n",
    "    else:\n",
    "        return f\"Left: M = {self.missionaries_left}, C = {self.cannibals_left} | \" \\\n",
    "               f\"Right: M = {self.missionaries_right}, C = {self.cannibals_right}, 🛶\"\n"
   ]
  },
  {
   "cell_type": "markdown",
   "id": "c1b88bea-68bb-477a-a0bc-99ffda3aabff",
   "metadata": {},
   "source": [
    "### II. Logic and Validation"
   ]
  },
  {
   "cell_type": "code",
   "execution_count": null,
   "id": "425dec82-24f7-43f9-b062-166d519c72b8",
   "metadata": {},
   "outputs": [],
   "source": [
    "class MissionariesCannibals:\n",
    "\n",
    "    def __init__(self):\n",
    "\n",
    "        # initialize the starting state\n",
    "        self.initial_state = GameState(3, 3, True)\n",
    "        self.current_state = GameState(3, 3, True)\n",
    "        self.goal_state = GameState(0, 0, False)\n",
    "        slef.move_history: List[GameState] = [copy.deepcopy(self.current_state)]\n",
    "\n",
    "    def is_valid(self, state: GameState) -> bool:\n",
    "\n",
    "        # checking based on the analysis notes aforementioned\n",
    "        # 1. non-negativity\n",
    "        # 2. total conservation\n",
    "        # 3. missionaries must not be outnumbered if missionaries != 0\n",
    "\n",
    "        # function returns a boolean whether the state is valid or not\n",
    "\n",
    "        # rule 1\n",
    "        if (state. missionaries_left < 0 or state.cannibals_left < 0 or \n",
    "            state.missionaries_right < 0 or state.cannibals_right < 0):\n",
    "            \n",
    "            return False\n",
    "\n",
    "        # rule 2\n",
    "        if (state.missionaries_left + state.missionaries_right != or\n",
    "            state.cannibals_left + state.cannibals_right != 3):\n",
    "\n",
    "            return False\n",
    "\n",
    "        # rule 3\n",
    "        # left\n",
    "        if (state.missionaries_left > 0 and\n",
    "            state.missionaries_left < state.cannibals_right):\n",
    "\n",
    "            return False\n",
    "\n",
    "        if (state.missionaries_right > 0 and\n",
    "            state.missionaries_right < state.cannibals_right):\n",
    "\n",
    "            return False"
   ]
  }
 ],
 "metadata": {
  "kernelspec": {
   "display_name": "Python 3 (ipykernel)",
   "language": "python",
   "name": "python3"
  },
  "language_info": {
   "codemirror_mode": {
    "name": "ipython",
    "version": 3
   },
   "file_extension": ".py",
   "mimetype": "text/x-python",
   "name": "python",
   "nbconvert_exporter": "python",
   "pygments_lexer": "ipython3",
   "version": "3.13.7"
  }
 },
 "nbformat": 4,
 "nbformat_minor": 5
}
