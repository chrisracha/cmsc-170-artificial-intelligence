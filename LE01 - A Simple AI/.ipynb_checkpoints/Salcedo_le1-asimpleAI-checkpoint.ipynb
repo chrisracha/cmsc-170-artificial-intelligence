{
 "cells": [
  {
   "cell_type": "markdown",
   "id": "33c60b6d-e757-405f-a221-4f04a0596e99",
   "metadata": {},
   "source": [
    "### Task 2: Python Basics"
   ]
  },
  {
   "cell_type": "markdown",
   "id": "20bf83cc-7441-43b3-9210-f4c6aec6e8a9",
   "metadata": {},
   "source": [
    "#### 2.1 Hello, AI!"
   ]
  },
  {
   "cell_type": "code",
   "execution_count": null,
   "id": "212d0caa-9a5b-4f42-a439-92fd93d771d9",
   "metadata": {},
   "outputs": [],
   "source": [
    "print(\"Hello, AI\")"
   ]
  },
  {
   "cell_type": "markdown",
   "id": "49971036-c928-475a-a8e9-677f3ba14790",
   "metadata": {},
   "source": [
    "#### 2.2 Basic Data Structure"
   ]
  },
  {
   "cell_type": "code",
   "execution_count": 26,
   "id": "67d9ec13-9965-4a31-9eb2-05e376f25ddd",
   "metadata": {},
   "outputs": [
    {
     "name": "stdout",
     "output_type": "stream",
     "text": [
      "['Neural Networks', 'Machine Learning', 'Deep Learning', 'AI Ethics', 'Natural Language Processing']\n",
      "['Neural Networks', 'Machine Learning', 'AI Ethics', 'Natural Language Processing', 'Computer Vision', 'Robotics']\n"
     ]
    }
   ],
   "source": [
    "ai_terms = [\n",
    "    \"Neural Networks\",\n",
    "    \"Machine Learning\",\n",
    "    \"Deep Learning\",\n",
    "    \"AI Ethics\",\n",
    "    \"Natural Language Processing\",\n",
    "]\n",
    "\n",
    "print(f\"{ai_terms}\")\n",
    "ai_terms.extend([\"Computer Vision\", \"Robotics\"])\n",
    "ai_terms.pop(2)\n",
    "print(f\"{ai_terms}\")\n"
   ]
  },
  {
   "cell_type": "markdown",
   "id": "534ee98d-7909-4731-a078-3ab14503371d",
   "metadata": {},
   "source": [
    "#### 2.3 Conditional Statements"
   ]
  },
  {
   "cell_type": "code",
   "execution_count": 31,
   "id": "62c284a1-6227-43d2-ae29-f68b57e6d974",
   "metadata": {},
   "outputs": [
    {
     "name": "stdin",
     "output_type": "stream",
     "text": [
      "Enter a number:  8\n"
     ]
    },
    {
     "name": "stdout",
     "output_type": "stream",
     "text": [
      "The number 8.0 is positive\n"
     ]
    }
   ],
   "source": [
    "try:\n",
    "    number = float(input(\"Enter a number: \"))\n",
    "\n",
    "    result = \"positive\" if number > 0 else \"negative\" if number < 0 else \"zero\"\n",
    "    print(f\"The number {number} is {result}\") \n",
    "except ValueError:\n",
    "    print(\"Please input a valid number.\")"
   ]
  },
  {
   "cell_type": "markdown",
   "id": "80e2cd0d-3251-4db3-8da5-00b759622490",
   "metadata": {},
   "source": [
    "### Task 3: Implementing a Simple AI Algorithm"
   ]
  },
  {
   "cell_type": "markdown",
   "id": "ad045530-4fd8-48b4-bbc4-dbea51dd4cc7",
   "metadata": {},
   "source": [
    "#### Preliminiraies\n",
    "##### Import libraries"
   ]
  },
  {
   "cell_type": "code",
   "execution_count": 4,
   "id": "783ac160-b3f3-4eb5-84e7-0d1010ccc705",
   "metadata": {},
   "outputs": [],
   "source": [
    "import random\n",
    "import re\n",
    "\n",
    "def print_banner():\n",
    "    print(r\"\"\"\n",
    "       ███████╗ █████╗ ███╗   ███╗  ██████╗ ██████╗ ████████╗\n",
    "       ██╔════╝██╔══██╗████╗ ████║██╔════╝ ██╔══██╗╚══██╔══╝\n",
    "       ███████╗███████║██╔████╔██║██║  ███╗██████╔╝   ██║   \n",
    "       ╚════██║██╔══██║██║╚██╔╝██║██║   ██║██╔═══╝    ██║   \n",
    "       ███████║██║  ██║██║ ╚═╝ ██║╚██████╔╝██║        ██║   \n",
    "       ╚══════╝╚═╝  ╚═╝╚═╝     ╚═╝ ╚═════╝ ╚═╝        ╚═╝   \n",
    "        \"\"\")\n",
    "def normalize_text(s: str) -> str:\n",
    "    s = (s or \"\").lower().strip()\n",
    "    s = re.sub(r'[^\\w\\s]', '', s)\n",
    "    s = re.sub(r'\\s+', ' ', s)\n",
    "    return s"
   ]
  },
  {
   "cell_type": "markdown",
   "id": "fccb04e9-a1d6-461f-9ba9-df6ff70ceacb",
   "metadata": {},
   "source": [
    "#### Create AI class for the chatbot"
   ]
  },
  {
   "cell_type": "code",
   "execution_count": 9,
   "id": "7b124d1b-1f36-4f8c-a335-b81817ecfb91",
   "metadata": {},
   "outputs": [],
   "source": [
    "# https://www.coursera.org/resources/ai-terms\n",
    "\n",
    "class SimpleAI:\n",
    "    def __init__(self):\n",
    "        self.ai_terms = {\n",
    "            \"neutral network\", \"neural networks\", \"machine learning\", \"deep learning\", \"ai ethics\", \n",
    "            \"natural language processing\", \"computer vision\", \"large language model\", \"llm\",\n",
    "            \"artificial intelligence\", \"nlp\", \"ai\", \"algorithm\", \"ml\"\n",
    "        }\n",
    "    \n",
    "        self.responses = {\n",
    "            (\"hello\", \"hi\", \"hey\", \"greetings\"): [\n",
    "                \"Howdy! How can I help your AI curiousity?\",\n",
    "                \"Hello! I'm here to assist you with AI-related inquiries!\",\n",
    "                \"Hi there! What would you like to know about AI?\"\n",
    "            ],\n",
    "        \n",
    "            (\"artificial intelligence\", \"ai\"): [\n",
    "                \"AI stands for artificial intelligence, which is the simulation of human intelligence processes by machines or computer systems.\",\n",
    "                \"AI aims to mimic and ultimately surpass human capabilities such as communication, learning, and decision-making.\"\n",
    "            ],\n",
    "        \n",
    "            (\"ai ethics\",): [\n",
    "                \"AI ethics refers to the issues that AI stakeholders such as engineers and government officials must consider to ensure that the technology is developed and used responsibly.\"\n",
    "            ],\n",
    "        \n",
    "            (\"computer vision\",): [\n",
    "                \"Computer vision is an interdisciplinary field of science and technology that focuses on how computers can gain understanding from images and videos.\",\n",
    "                 \"For AI engineers, computer vision allows them to automate activities that the human visual system typically performs.\"\n",
    "            ],\n",
    "        \n",
    "            (\"machine learning\", \"ml\"): [\n",
    "                \"Machine learning is a subset of AI in which algorithms mimic human learning while processing data.\",\n",
    "                \"Machine learning focuses on developing algorithms and models that help machines learn from data and predict trends and behaviors, without human assistance.\"\n",
    "            ],\n",
    "        \n",
    "            (\"deep learning\",): [\n",
    "                \"Deep learning is a machine learning technique that layers algorithms and computing units—or neurons—into what is called an artificial neural network (ANN).\",\n",
    "                \"Unlike machine learning, deep learning algorithms can improve incorrect outcomes through repetition without human intervention. These deep neural networks take inspiration from the structure of the human brain.\"\n",
    "            ],\n",
    "        \n",
    "            (\"neural network\",): [\n",
    "                \"A neural network is a deep learning technique designed to resemble the structure of the human brain.\",\n",
    "                \"A neural network requires large data sets to perform calculations and create outputs, which enables features like speech and vision recognition.\"\n",
    "            ],\n",
    "        \n",
    "            (\"natural language processing\", \"nlp\"): [\n",
    "                \"Natural language processing (NLP) is a type of AI that enables computers to understand spoken and written human language. NLP enables features like text and speech recognition on devices.\"\n",
    "            ],\n",
    "        \n",
    "            (\"large language model\", \"llm\"): [\n",
    "                \"A large language model (LLM) is an AI model that has been trained on large amounts of text so that it can understand natural language and generate human-like text.\"\n",
    "            ],\n",
    "    \n",
    "            (\"bye\", \"goodbye\", \"exit\", \"quit\", \"stop\", \"ok bye\"): [\n",
    "                \"Goodbye! Thanks for chatting with me.\",\n",
    "                \"Bye! Have a great day learning AI!\"\n",
    "            ],\n",
    "\n",
    "            (\"cool\", \"awesome\", \"ok\", \"ah\", \"thank you\", \"thanks\"): [\n",
    "                \"Glad to have helped! Let me know if you want to ask something else.\"\n",
    "            ]\n",
    "        }\n",
    "    \n",
    "    def classify_term(self, term: str) -> str:\n",
    "        normalized_term = normalize = normalize_text(term)\n",
    "        return (\"AI-related\" if normalized_term in self.ai_terms \n",
    "                else \"AI-related (partial match)\" if any(ai_term in normalized_term or normalized_term in ai_term for ai_term in self.ai_terms) \n",
    "                else \"Not AI-related\") \n",
    "    \n",
    "    def classify_multiple_terms(self, terms_input: str) -> dict:\n",
    "        terms = [term.strip() for term in terms_input.split(\",\") if term.strip()]\n",
    "        return {term: self.classify_term(term) for term in terms}\n",
    "\n",
    "    def find_response(self, user_input: str) -> str:\n",
    "        user_input_normalized = normalize_text(user_input)\n",
    "        \n",
    "        for keywords, responses in self.responses.items():\n",
    "            for keyword in keywords:\n",
    "                if re.search(r'\\b' + re.escape(keyword) + r'\\b', user_input_normalized):\n",
    "                    return random.choice(responses)\n",
    "        \n",
    "        classification = self.classify_term(user_input_normalized)\n",
    "        if classification == \"AI-related\":\n",
    "            return f\"That term is AI-related. Can you be more specific about what you'd like to know?\"\n",
    "        \n",
    "        return random.choice([\n",
    "            \"I'm not sure about that. Can you ask me about AI or machine learning?\",\n",
    "            \"I didn't quite understand. Try asking about artificial intelligence or related topics.\",\n",
    "            \"I didn't catch that. I specialize in AI-related topics, what would you like to know?\",\n",
    "        ])\n",
    "        \n",
    "    def chat(self):\n",
    "        exit_words = [\"bye\", \"goodbye\", \"exit\", \"quit\", \"stop\"]\n",
    "        print_banner()\n",
    "        print(f\"Type {exit_words} to end this conversation\")\n",
    "        \n",
    "        while True:\n",
    "            try: \n",
    "                user_input = input(\"\\n👤You: \").strip()\n",
    "                response = (self.find_response(user_input) if user_input.lower() not in ['bye', 'goodbye', 'exit', 'quit', 'stop'] else self.find_response(user_input))\n",
    "\n",
    "                print(f\"🤖 SamGPT: {response}\")\n",
    "\n",
    "                if user_input.lower() in exit_words:\n",
    "                    break\n",
    "            except KeyboardInterrupt:\n",
    "                print(\"\\n🤖 SamGPT: Goodbye! Thank you for chatting!\")\n",
    "            except Exception as e:\n",
    "                print(f\"🤖 SamGPT: Sorry! I encountered an error: {e}\")\n",
    "\n",
    "ai = SimpleAI()\n",
    "                "
   ]
  },
  {
   "cell_type": "markdown",
   "id": "8b7cb058-a2e3-437f-b66a-558eb0f5a81c",
   "metadata": {},
   "source": [
    "#### Task 3.1 Simple Rule-Based AI"
   ]
  },
  {
   "cell_type": "code",
   "execution_count": 5,
   "id": "758d3825-9697-482c-aea8-6aca44f8acbd",
   "metadata": {},
   "outputs": [
    {
     "name": "stdin",
     "output_type": "stream",
     "text": [
      "Enter a term:  ml\n"
     ]
    },
    {
     "name": "stdout",
     "output_type": "stream",
     "text": [
      "AI-related\n"
     ]
    }
   ],
   "source": [
    "term = input(\"Enter a term: \")\n",
    "print(ai.classify_term(term))"
   ]
  },
  {
   "cell_type": "markdown",
   "id": "441f235a-29e4-42c5-a413-916558fe16a1",
   "metadata": {},
   "source": [
    "#### Task 3.2 Simple Rule-Based Chatbot - Challenge #1\n",
    "##### Multiple Terms Classification"
   ]
  },
  {
   "cell_type": "code",
   "execution_count": 44,
   "id": "9932a4e5-c451-490b-b8a8-531779c422fc",
   "metadata": {},
   "outputs": [
    {
     "name": "stdin",
     "output_type": "stream",
     "text": [
      "Enter term separated by commas:  ai, neural networks,ml,deep learning\n"
     ]
    },
    {
     "name": "stdout",
     "output_type": "stream",
     "text": [
      "{'ai': 'AI-related',\n",
      " 'deep learning': 'AI-related',\n",
      " 'ml': 'Not AI-related',\n",
      " 'neural networks': 'Not AI-related'}\n"
     ]
    }
   ],
   "source": [
    "terms = input(\"Enter term separated by commas: \")\n",
    "pprint(ai.classify_multiple_terms(terms))"
   ]
  },
  {
   "cell_type": "markdown",
   "id": "ea9d9972-8479-42f2-a4d1-38f9dac0d2c7",
   "metadata": {},
   "source": [
    "#### Task 3.3 Simple Rule-Based Chatbot - Challenge #2\n",
    "##### Functioning Chatbot"
   ]
  },
  {
   "cell_type": "code",
   "execution_count": 10,
   "id": "f662fb81-43ad-4ebc-bb7c-3ccd5655a2f7",
   "metadata": {},
   "outputs": [
    {
     "name": "stdout",
     "output_type": "stream",
     "text": [
      "\n",
      "       ███████╗ █████╗ ███╗   ███╗  ██████╗ ██████╗ ████████╗\n",
      "       ██╔════╝██╔══██╗████╗ ████║██╔════╝ ██╔══██╗╚══██╔══╝\n",
      "       ███████╗███████║██╔████╔██║██║  ███╗██████╔╝   ██║   \n",
      "       ╚════██║██╔══██║██║╚██╔╝██║██║   ██║██╔═══╝    ██║   \n",
      "       ███████║██║  ██║██║ ╚═╝ ██║╚██████╔╝██║        ██║   \n",
      "       ╚══════╝╚═╝  ╚═╝╚═╝     ╚═╝ ╚═════╝ ╚═╝        ╚═╝   \n",
      "        \n",
      "Type ['bye', 'goodbye', 'exit', 'quit', 'stop'] to end this conversation\n"
     ]
    },
    {
     "name": "stdin",
     "output_type": "stream",
     "text": [
      "\n",
      "👤You:  what is machine learning?\n"
     ]
    },
    {
     "name": "stdout",
     "output_type": "stream",
     "text": [
      "🤖 SamGPT: Machine learning focuses on developing algorithms and models that help machines learn from data and predict trends and behaviors, without human assistance.\n"
     ]
    },
    {
     "name": "stdin",
     "output_type": "stream",
     "text": [
      "\n",
      "👤You:  ok\n"
     ]
    },
    {
     "name": "stdout",
     "output_type": "stream",
     "text": [
      "🤖 SamGPT: Glad to have helped! Let me know if you want to ask something else.\n"
     ]
    },
    {
     "name": "stdin",
     "output_type": "stream",
     "text": [
      "\n",
      "👤You:  how about computer vision?\n"
     ]
    },
    {
     "name": "stdout",
     "output_type": "stream",
     "text": [
      "🤖 SamGPT: Computer vision is an interdisciplinary field of science and technology that focuses on how computers can gain understanding from images and videos.\n"
     ]
    },
    {
     "name": "stdin",
     "output_type": "stream",
     "text": [
      "\n",
      "👤You:  deep learning?\n"
     ]
    },
    {
     "name": "stdout",
     "output_type": "stream",
     "text": [
      "🤖 SamGPT: Unlike machine learning, deep learning algorithms can improve incorrect outcomes through repetition without human intervention. These deep neural networks take inspiration from the structure of the human brain.\n"
     ]
    },
    {
     "name": "stdin",
     "output_type": "stream",
     "text": [
      "\n",
      "👤You:  ok bye\n"
     ]
    },
    {
     "name": "stdout",
     "output_type": "stream",
     "text": [
      "🤖 SamGPT: Goodbye! Thanks for chatting with me.\n"
     ]
    },
    {
     "name": "stdin",
     "output_type": "stream",
     "text": [
      "\n",
      "👤You:  bye\n"
     ]
    },
    {
     "name": "stdout",
     "output_type": "stream",
     "text": [
      "🤖 SamGPT: Goodbye! Thanks for chatting with me.\n"
     ]
    }
   ],
   "source": [
    "ai.chat()"
   ]
  }
 ],
 "metadata": {
  "kernelspec": {
   "display_name": "Python 3 (ipykernel)",
   "language": "python",
   "name": "python3"
  },
  "language_info": {
   "codemirror_mode": {
    "name": "ipython",
    "version": 3
   },
   "file_extension": ".py",
   "mimetype": "text/x-python",
   "name": "python",
   "nbconvert_exporter": "python",
   "pygments_lexer": "ipython3",
   "version": "3.12.3"
  }
 },
 "nbformat": 4,
 "nbformat_minor": 5
}
