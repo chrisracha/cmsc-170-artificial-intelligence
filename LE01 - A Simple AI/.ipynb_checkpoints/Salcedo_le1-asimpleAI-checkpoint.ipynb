{
 "cells": [
  {
   "cell_type": "markdown",
   "id": "33c60b6d-e757-405f-a221-4f04a0596e99",
   "metadata": {},
   "source": [
    "### Task 2: Python Basics"
   ]
  },
  {
   "cell_type": "markdown",
   "id": "20bf83cc-7441-43b3-9210-f4c6aec6e8a9",
   "metadata": {},
   "source": [
    "#### 2.1 Hello, AI!"
   ]
  },
  {
   "cell_type": "code",
   "execution_count": null,
   "id": "212d0caa-9a5b-4f42-a439-92fd93d771d9",
   "metadata": {},
   "outputs": [],
   "source": [
    "print(\"Hello, AI\")"
   ]
  },
  {
   "cell_type": "markdown",
   "id": "49971036-c928-475a-a8e9-677f3ba14790",
   "metadata": {},
   "source": [
    "#### 2.2 Basic Data Structure"
   ]
  },
  {
   "cell_type": "code",
   "execution_count": 3,
   "id": "67d9ec13-9965-4a31-9eb2-05e376f25ddd",
   "metadata": {},
   "outputs": [
    {
     "name": "stdout",
     "output_type": "stream",
     "text": [
      "['Neural Networks', 'Machine Learning', 'Deep Learning', 'AI Ethics', 'Natural Language Processing', 'Computer Vision', 'Robotics']\n"
     ]
    }
   ],
   "source": [
    "ai_terms = [\n",
    "    \"Neural Networks\",\n",
    "    \"Machine Learning\",\n",
    "    \"Deep Learning\",\n",
    "    \"AI Ethics\",\n",
    "    \"Natural Language Processing\",\n",
    "]\n",
    "\n",
    "print(f\"{ai_terms}\")\n",
    "ai_terms.extend([\"Computer Vision\", \"Robotics\"])\n",
    "ai_terms.pop(2)\n",
    "print(f\"{ai_terms}\")\n"
   ]
  },
  {
   "cell_type": "markdown",
   "id": "534ee98d-7909-4731-a078-3ab14503371d",
   "metadata": {},
   "source": [
    "#### 2.3 Conditional Statements"
   ]
  },
  {
   "cell_type": "code",
   "execution_count": null,
   "id": "62c284a1-6227-43d2-ae29-f68b57e6d974",
   "metadata": {},
   "outputs": [],
   "source": [
    "try:\n",
    "    number = float(input(\"Enter a number: \"))\n",
    "\n",
    "    result = \"positive\" if number > 0 else \"negative\" if number < 0 else \"zero\"\n",
    "    printf(f\"The number {number} is {result}\") "
   ]
  },
  {
   "cell_type": "markdown",
   "id": "80e2cd0d-3251-4db3-8da5-00b759622490",
   "metadata": {},
   "source": [
    "### Task 3: Implementing a Simple AI Algorithm"
   ]
  },
  {
   "cell_type": "code",
   "execution_count": null,
   "id": "582e6242-72fe-4f68-ae3e-55897edf2097",
   "metadata": {},
   "outputs": [],
   "source": []
  }
 ],
 "metadata": {
  "kernelspec": {
   "display_name": "Python 3 (ipykernel)",
   "language": "python",
   "name": "python3"
  },
  "language_info": {
   "codemirror_mode": {
    "name": "ipython",
    "version": 3
   },
   "file_extension": ".py",
   "mimetype": "text/x-python",
   "name": "python",
   "nbconvert_exporter": "python",
   "pygments_lexer": "ipython3",
   "version": "3.12.3"
  }
 },
 "nbformat": 4,
 "nbformat_minor": 5
}
