{
 "cells": [
  {
   "cell_type": "markdown",
   "id": "33c60b6d-e757-405f-a221-4f04a0596e99",
   "metadata": {},
   "source": [
    "### Task 2: Python Basics"
   ]
  },
  {
   "cell_type": "markdown",
   "id": "20bf83cc-7441-43b3-9210-f4c6aec6e8a9",
   "metadata": {},
   "source": [
    "#### 2.1 Hello, AI!"
   ]
  },
  {
   "cell_type": "code",
   "execution_count": null,
   "id": "212d0caa-9a5b-4f42-a439-92fd93d771d9",
   "metadata": {},
   "outputs": [],
   "source": [
    "print(\"Hello, AI\")"
   ]
  },
  {
   "cell_type": "markdown",
   "id": "49971036-c928-475a-a8e9-677f3ba14790",
   "metadata": {},
   "source": [
    "#### 2.2 Basic Data Structure"
   ]
  },
  {
   "cell_type": "code",
   "execution_count": 3,
   "id": "67d9ec13-9965-4a31-9eb2-05e376f25ddd",
   "metadata": {},
   "outputs": [
    {
     "name": "stdout",
     "output_type": "stream",
     "text": [
      "['Neural Networks', 'Machine Learning', 'Deep Learning', 'AI Ethics', 'Natural Language Processing', 'Computer Vision', 'Robotics']\n"
     ]
    }
   ],
   "source": [
    "ai_terms = [\n",
    "    \"Neural Networks\",\n",
    "    \"Machine Learning\",\n",
    "    \"Deep Learning\",\n",
    "    \"AI Ethics\",\n",
    "    \"Natural Language Processing\",\n",
    "]\n",
    "\n",
    "print(f\"{ai_terms}\")\n",
    "ai_terms.extend([\"Computer Vision\", \"Robotics\"])\n",
    "ai_terms.pop(2)\n",
    "print(f\"{ai_terms}\")\n"
   ]
  },
  {
   "cell_type": "markdown",
   "id": "534ee98d-7909-4731-a078-3ab14503371d",
   "metadata": {},
   "source": [
    "#### 2.3 Conditional Statements"
   ]
  },
  {
   "cell_type": "code",
   "execution_count": null,
   "id": "62c284a1-6227-43d2-ae29-f68b57e6d974",
   "metadata": {},
   "outputs": [],
   "source": [
    "try:\n",
    "    number = float(input(\"Enter a number: \"))\n",
    "\n",
    "    result = \"positive\" if number > 0 else \"negative\" if number < 0 else \"zero\"\n",
    "    printf(f\"The number {number} is {result}\") "
   ]
  },
  {
   "cell_type": "markdown",
   "id": "80e2cd0d-3251-4db3-8da5-00b759622490",
   "metadata": {},
   "source": [
    "### Task 3: Implementing a Simple AI Algorithm"
   ]
  },
  {
   "cell_type": "code",
   "execution_count": 22,
   "id": "7b124d1b-1f36-4f8c-a335-b81817ecfb91",
   "metadata": {},
   "outputs": [],
   "source": [
    "# https://www.coursera.org/resources/ai-terms\n",
    "import random\n",
    "\n",
    "class SimpleAI:\n",
    "    def __init__(self):\n",
    "        self.ai_terms = {\n",
    "            \"neutral network\", \"machine learning\", \"deep learning\", \"ai ethics\", \"natural language processing\", \n",
    "            \"computer vision\", \"large language model\", \"llm\" \"artificial intelligence\", \"nlp\"\n",
    "        }\n",
    "    \n",
    "        self.responses = {\n",
    "            (\"hello\", \"hi\", \"hey\", \"greetings\"): [\n",
    "                \"Howdy! How can I help your AI curiousity?\",\n",
    "                \"Hello! I'm here to assist you with AI-related inquiries!\",\n",
    "                \"Hi there! What would you like to know about AI?\"\n",
    "            ],\n",
    "        \n",
    "            (\"artificial intelligence\"): [\n",
    "                \"AI  AI stands for artificial intelligence, which is the simulation of human intelligence processes by machines or computer systems.\",\n",
    "                \"AI aims to mimic and ultimately surpass human capabilities such as communication, learning, and decision-making.\"\n",
    "            ],\n",
    "        \n",
    "            (\"ai ethics\"): [\n",
    "                \"AI ethics refers to the issues that AI stakeholders such as engineers and government officials must consider to ensure that the technology is developed and used responsibly.\"\n",
    "            ],\n",
    "        \n",
    "            (\"computer vision\"): [\n",
    "                \"Computer vision is an interdisciplinary field of science and technology that focuses on how computers can gain understanding from images and videos.\",\n",
    "                 \"For AI engineers, computer vision allows them to automate activities that the human visual system typically performs.\"\n",
    "            ],\n",
    "        \n",
    "            (\"machine learning\", \"ml\"): [\n",
    "                \"Machine learning is a subset of AI in which algorithms mimic human learning while processing data.\",\n",
    "                \"Machine learning focuses on developing algorithms and models that help machines learn from data and predict trends and behaviors, without human assistance.\"\n",
    "            ],\n",
    "        \n",
    "            (\"deep learning\"): [\n",
    "                \"Deep learning is a machine learning technique that layers algorithms and computing units—or neurons—into what is called an artificial neural network (ANN).\",\n",
    "                \"Unlike machine learning, deep learning algorithms can improve incorrect outcomes through repetition without human intervention. These deep neural networks take inspiration from the structure of the human brain.\"\n",
    "            ],\n",
    "        \n",
    "            (\"neural network\"): [\n",
    "                \"A neural network is a deep learning technique designed to resemble the structure of the human brain.\",\n",
    "                \"A neural network requires large data sets to perform calculations and create outputs, which enables features like speech and vision recognition.\"\n",
    "            ],\n",
    "        \n",
    "            (\"natural language processing\", \"nlp\"): [\n",
    "                \"Natural language processing (NLP) is a type of AI that enables computers to understand spoken and written human language. NLP enables features like text and speech recognition on devices.\"\n",
    "            ],\n",
    "        \n",
    "            (\"large language model\", \"llm\"): [\n",
    "                \"A large language model (LLM) is an AI model that has been trained on large amounts of text so that it can understand natural language and generate human-like text.\"\n",
    "            ],\n",
    "    \n",
    "            (\"bye\", \"goodbye\", \"exit\", \"quit\", \"stop\"): [\n",
    "                \"Goodbye! Thankds for chatting with me\",\n",
    "                \"Bye! Have a great day learning AI!\"\n",
    "            ]\n",
    "        }\n",
    "    \n",
    "    def classify_term(self, term: str) -> str:\n",
    "        normalized_term = term.lower().strip()\n",
    "        return (\"AI-related\" if normalized_term in self.ai_terms \n",
    "                else \"AI-related (partial match)\" if any(ai_term in normalized_term or normalized_term in ai_term for ai_term in self.ai_terms) \n",
    "                else \"Not AI-related\") \n",
    "    \n",
    "    def classify_multiple_terms(self, terms_input: str) -> dict:\n",
    "        terms = [term.strip() for term in terms_input.split(\",\") if term.strip()]\n",
    "        return {term: self.classify_term(term) for term in terms}\n",
    "\n",
    "    def find_response(self, user_input: str) -> str:\n",
    "        user_input_lower = user_input.lower().strip()\n",
    "\n",
    "        return next((random.choice(responses)\n",
    "                     for keywords, responses in self.response.items()\n",
    "                     if any(keyword in user_input_lower for keyword in keywords)),\n",
    "                    random.choice([\n",
    "                        \"I'm not sure about that. Can you ask me about AI or machine learning?\",\n",
    "                        \"I didn't quite understand. Try asking about artificial intelligence or related topics.\",\n",
    "                        \"I didn't catch that. I specialize in AI-related topics, what would you like to know?\"\n",
    "                    ]))\n",
    "        \n",
    "    def chat(self):\n",
    "        print(\"SamGPT Started!\")\n",
    "        print(\"Type 'bye', 'goodbye', 'exit', 'quit', 'stop' to end this conversation\")\n",
    "\n",
    "        while True:\n",
    "            try: \n",
    "                user_input = input(\"\\n👤You: \").strip()\n",
    "                response = (self.find_response(user_input) if user_input.lower() not in ['bye', 'goodbye', 'exit', 'quit', 'stop'] else self.find_response(user_input))\n",
    "\n",
    "                print(f\"🤖 SamGPT: {response}\")\n",
    "\n",
    "                if user_input.lower() in ['bye', 'goodbye', 'exit', 'quit', 'stop']:\n",
    "                    break\n",
    "            except KeyboardInterrupt:\n",
    "                print(\"\\n🤖 SamGPT: Goodbye! Thank you for chatting!\")\n",
    "            except Exception as e:\n",
    "                print(f\"🤖 SamGPT: Sorry! I encountered an error {e}\")\n",
    "\n",
    "ai = SimpleAI()\n",
    "                "
   ]
  },
  {
   "cell_type": "markdown",
   "id": "8b7cb058-a2e3-437f-b66a-558eb0f5a81c",
   "metadata": {},
   "source": [
    "#### Task 3.1 Simple Rule-Based AI"
   ]
  },
  {
   "cell_type": "code",
   "execution_count": 23,
   "id": "758d3825-9697-482c-aea8-6aca44f8acbd",
   "metadata": {},
   "outputs": [
    {
     "name": "stdin",
     "output_type": "stream",
     "text": [
      "Enter a term:  ai\n"
     ]
    },
    {
     "ename": "AttributeError",
     "evalue": "'SimpleAI' object has no attribute 'classify_term'",
     "output_type": "error",
     "traceback": [
      "\u001b[1;31m---------------------------------------------------------------------------\u001b[0m",
      "\u001b[1;31mAttributeError\u001b[0m                            Traceback (most recent call last)",
      "Cell \u001b[1;32mIn[23], line 2\u001b[0m\n\u001b[0;32m      1\u001b[0m term \u001b[38;5;241m=\u001b[39m \u001b[38;5;28minput\u001b[39m(\u001b[38;5;124m\"\u001b[39m\u001b[38;5;124mEnter a term: \u001b[39m\u001b[38;5;124m\"\u001b[39m)\n\u001b[1;32m----> 2\u001b[0m \u001b[38;5;28mprint\u001b[39m(ai\u001b[38;5;241m.\u001b[39mclassify_term(term))\n",
      "\u001b[1;31mAttributeError\u001b[0m: 'SimpleAI' object has no attribute 'classify_term'"
     ]
    }
   ],
   "source": [
    "term = input(\"Enter a term: \")\n",
    "print(ai.classify_term(term))"
   ]
  }
 ],
 "metadata": {
  "kernelspec": {
   "display_name": "Python 3 (ipykernel)",
   "language": "python",
   "name": "python3"
  },
  "language_info": {
   "codemirror_mode": {
    "name": "ipython",
    "version": 3
   },
   "file_extension": ".py",
   "mimetype": "text/x-python",
   "name": "python",
   "nbconvert_exporter": "python",
   "pygments_lexer": "ipython3",
   "version": "3.12.3"
  }
 },
 "nbformat": 4,
 "nbformat_minor": 5
}
