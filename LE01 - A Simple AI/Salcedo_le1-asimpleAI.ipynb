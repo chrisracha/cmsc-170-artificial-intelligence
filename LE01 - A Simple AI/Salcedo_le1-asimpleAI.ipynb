{
 "cells": [
  {
   "cell_type": "markdown",
   "id": "33c60b6d-e757-405f-a221-4f04a0596e99",
   "metadata": {},
   "source": [
    "### Task 2: Python Basics"
   ]
  },
  {
   "cell_type": "markdown",
   "id": "20bf83cc-7441-43b3-9210-f4c6aec6e8a9",
   "metadata": {},
   "source": [
    "#### 2.1 Hello, AI!"
   ]
  },
  {
   "cell_type": "code",
   "execution_count": 1,
   "id": "212d0caa-9a5b-4f42-a439-92fd93d771d9",
   "metadata": {},
   "outputs": [
    {
     "name": "stdout",
     "output_type": "stream",
     "text": [
      "Hello, AI\n"
     ]
    }
   ],
   "source": [
    "print(\"Hello, AI\")"
   ]
  },
  {
   "cell_type": "markdown",
   "id": "49971036-c928-475a-a8e9-677f3ba14790",
   "metadata": {},
   "source": [
    "#### 2.2 Basic Data Structure"
   ]
  },
  {
   "cell_type": "code",
   "execution_count": 2,
   "id": "67d9ec13-9965-4a31-9eb2-05e376f25ddd",
   "metadata": {},
   "outputs": [
    {
     "name": "stdout",
     "output_type": "stream",
     "text": [
      "['Neural Networks', 'Machine Learning', 'Deep Learning', 'AI Ethics', 'Natural Language Processing', 'Algorithm', 'Application Programming Interface', 'Big Data', 'Chatbot', 'Cognitive Computing', 'Data Mining', 'Data Science', 'Emergent Behavior', 'Generative AI', 'Guardrails', 'Hallucination', 'Hyperparameter']\n",
      "['Neural Networks', 'Machine Learning', 'AI Ethics', 'Natural Language Processing', 'Algorithm', 'Application Programming Interface', 'Big Data', 'Chatbot', 'Cognitive Computing', 'Data Mining', 'Data Science', 'Emergent Behavior', 'Generative AI', 'Guardrails', 'Hallucination', 'Hyperparameter', 'Computer Vision', 'Robotics']\n"
     ]
    }
   ],
   "source": [
    "# define terms\n",
    "ai_terms = [\n",
    "    \"Neural Networks\",\n",
    "    \"Machine Learning\",\n",
    "    \"Deep Learning\",\n",
    "    \"AI Ethics\",\n",
    "    \"Natural Language Processing\",\n",
    "    \"Algorithm\",\n",
    "    \"Application Programming Interface\",\n",
    "    \"Big Data\",\n",
    "    \"Chatbot\",\n",
    "    \"Cognitive Computing\",\n",
    "    \"Data Mining\",\n",
    "    \"Data Science\",\n",
    "    \"Emergent Behavior\",\n",
    "    \"Generative AI\",\n",
    "    \"Guardrails\",\n",
    "    \"Hallucination\",\n",
    "    \"Hyperparameter\"\n",
    "]\n",
    "\n",
    "# print initial terms\n",
    "print(f\"{ai_terms}\")\n",
    "\n",
    "# append/extend the str array to add additional 2 terms \n",
    "ai_terms.extend([\"Computer Vision\", \"Robotics\"])\n",
    "\n",
    "# remove term with index 2, (3rd term)\n",
    "ai_terms.pop(2)\n",
    "\n",
    "# print final array\n",
    "print(f\"{ai_terms}\")"
   ]
  },
  {
   "cell_type": "markdown",
   "id": "534ee98d-7909-4731-a078-3ab14503371d",
   "metadata": {},
   "source": [
    "#### 2.3 Conditional Statements"
   ]
  },
  {
   "cell_type": "code",
   "execution_count": 3,
   "id": "62c284a1-6227-43d2-ae29-f68b57e6d974",
   "metadata": {},
   "outputs": [
    {
     "name": "stdout",
     "output_type": "stream",
     "text": [
      "Enter a number:  0\n"
     ]
    },
    {
     "name": "stdout",
     "output_type": "stream",
     "text": [
      "The number 0.0 is zero\n"
     ]
    }
   ],
   "source": [
    "try:\n",
    "    # ask for user input\n",
    "    number = float(input(\"Enter a number: \"))\n",
    "\n",
    "    # one-liner pythonic if-else to classify the float\n",
    "    result = \"positive\" if number > 0 else \"negative\" if number < 0 else \"zero\"\n",
    "\n",
    "    # print the result\n",
    "    print(f\"The number {number} is {result}\") \n",
    "except ValueError:\n",
    "    # error if user inputs an invalid number\n",
    "    print(\"Please input a valid number.\")"
   ]
  },
  {
   "cell_type": "markdown",
   "id": "80e2cd0d-3251-4db3-8da5-00b759622490",
   "metadata": {},
   "source": [
    "### Task 3: Implementing a Simple AI Algorithm"
   ]
  },
  {
   "cell_type": "markdown",
   "id": "ad045530-4fd8-48b4-bbc4-dbea51dd4cc7",
   "metadata": {},
   "source": [
    "#### Preliminiraies\n",
    "##### Import libraries"
   ]
  },
  {
   "cell_type": "code",
   "execution_count": 3,
   "id": "783ac160-b3f3-4eb5-84e7-0d1010ccc705",
   "metadata": {},
   "outputs": [],
   "source": [
    "import random\n",
    "# manipulate strings instead of patterns\n",
    "import re\n",
    "\n",
    "def print_banner():\n",
    "    print(r\"\"\"\n",
    "       ███████╗ █████╗ ███╗   ███╗  ██████╗ ██████╗ ████████╗\n",
    "       ██╔════╝██╔══██╗████╗ ████║██╔════╝ ██╔══██╗╚══██╔══╝\n",
    "       ███████╗███████║██╔████╔██║██║  ███╗██████╔╝   ██║   \n",
    "       ╚════██║██╔══██║██║╚██╔╝██║██║   ██║██╔═══╝    ██║   \n",
    "       ███████║██║  ██║██║ ╚═╝ ██║╚██████╔╝██║        ██║   \n",
    "       ╚══════╝╚═╝  ╚═╝╚═╝     ╚═╝ ╚═════╝ ╚═╝        ╚═╝   \n",
    "        \"\"\")\n",
    "def normalize_text(s: str) -> str:\n",
    "    # handle none, lowercase, trim whitespace\n",
    "    s = (s or \"\").lower().strip()\n",
    "    # remove puntuation\n",
    "    s = re.sub(r'[^\\w\\s]', '', s)\n",
    "    # replace multiple spaces/tabs/newlines and whitespace characters with a single space\n",
    "    s = re.sub(r'\\s+', ' ', s)\n",
    "    return s"
   ]
  },
  {
   "cell_type": "markdown",
   "id": "fccb04e9-a1d6-461f-9ba9-df6ff70ceacb",
   "metadata": {},
   "source": [
    "#### Create AI class for the chatbot"
   ]
  },
  {
   "cell_type": "code",
   "execution_count": null,
   "id": "7b124d1b-1f36-4f8c-a335-b81817ecfb91",
   "metadata": {},
   "outputs": [],
   "source": [
    "# terms taken from this coursera article\n",
    "# https://www.coursera.org/resources/ai-terms\n",
    "\n",
    "\n",
    "# define the simple ai class\n",
    "class SimpleAI:\n",
    "\n",
    "    # define terms when the class is initiated\n",
    "    def __init__(self):\n",
    "        self.ai_terms = {\n",
    "            \"neutral network\", \"neural networks\", \"machine learning\", \"deep learning\", \"ai ethics\", \n",
    "            \"natural language processing\", \"computer vision\", \"large language model\", \"llm\",\n",
    "            \"artificial intelligence\", \"nlp\", \"ai\", \"algorithm\", \"ml\", \"application programming interface\", \"api\",\n",
    "            \"big data\", \"chatbot\", \"cognitive computing\", \"data mining\", \"data science\", \"emergent behavior\",\n",
    "            \"generative ai\", \"guardrails\", \"hallucination\", \"hyperparameter\"\n",
    "        }\n",
    "    \n",
    "        self.responses = {\n",
    "            (\"hello\", \"hi\", \"hey\", \"greetings\"): [\n",
    "                \"Howdy! How can I help your AI curiousity?\",\n",
    "                \"Hello! I'm here to assist you with AI-related inquiries!\",\n",
    "                \"Hi there! What would you like to know about AI?\"\n",
    "            ],\n",
    "        \n",
    "            (\"ai ethics\",): [\n",
    "                \"AI ethics refers to the issues that AI stakeholders such as engineers and government officials must consider to ensure that the technology is developed and used responsibly. This means adopting and implementing systems that support a safe, secure, unbiased, and environmentally friendly approach to artificial intelligence.\"\n",
    "            ],\n",
    "        \n",
    "            (\"artificial intelligence\", \"ai\"): [\n",
    "                \"AI stands for artificial intelligence, which is the simulation of human intelligence processes by machines or computer systems.\",\n",
    "                \"AI aims to mimic and ultimately surpass human capabilities such as communication, learning, and decision-making.\"\n",
    "            ],\n",
    "        \n",
    "            (\"computer vision\",): [\n",
    "                \"Computer vision is an interdisciplinary field of science and technology that focuses on how computers can gain understanding from images and videos.\",\n",
    "                 \"For AI engineers, computer vision allows them to automate activities that the human visual system typically performs.\"\n",
    "            ],\n",
    "        \n",
    "            (\"machine learning\", \"ml\"): [\n",
    "                \"Machine learning is a subset of AI in which algorithms mimic human learning while processing data.\",\n",
    "                \"Machine learning focuses on developing algorithms and models that help machines learn from data and predict trends and behaviors, without human assistance.\"\n",
    "            ],\n",
    "        \n",
    "            (\"deep learning\",): [\n",
    "                \"Deep learning is a machine learning technique that layers algorithms and computing units—or neurons—into what is called an artificial neural network (ANN).\",\n",
    "                \"Unlike machine learning, deep learning algorithms can improve incorrect outcomes through repetition without human intervention. These deep neural networks take inspiration from the structure of the human brain.\"\n",
    "            ],\n",
    "        \n",
    "            (\"neural network\",): [\n",
    "                \"A neural network is a deep learning technique designed to resemble the structure of the human brain.\",\n",
    "                \"A neural network requires large data sets to perform calculations and create outputs, which enables features like speech and vision recognition.\"\n",
    "            ],\n",
    "        \n",
    "            (\"natural language processing\", \"nlp\"): [\n",
    "                \"Natural language processing (NLP) is a type of AI that enables computers to understand spoken and written human language. NLP enables features like text and speech recognition on devices.\"\n",
    "            ],\n",
    "        \n",
    "            (\"large language model\", \"llm\"): [\n",
    "                \"A large language model (LLM) is an AI model that has been trained on large amounts of text so that it can understand natural language and generate human-like text.\"\n",
    "            ],\n",
    "        \n",
    "            (\"algorithm\",): [\n",
    "                \"An algorithm is a set of instructions or rules to follow in order to complete a specific task. Algorithms can be particularly useful when you’re working with big data or machine learning.\"\n",
    "            ],\n",
    "        \n",
    "            (\"application programming interface\", \"api\"): [\n",
    "                \"An API, or application programming interface, is a set of protocols that determine how two software applications will interact with each other. APIs tend to be written in programming languages such as C++ or JavaScript.\"\n",
    "            ],\n",
    "        \n",
    "            (\"big data\",): [\n",
    "                \"Big data refers to the large data sets that can be studied to reveal patterns and trends to support business decisions. It’s called “big” data because organizations can now gather massive amounts of complex data using data collection tools and systems.\"\n",
    "            ],\n",
    "        \n",
    "            (\"chatbot\",): [\n",
    "                \"A chatbot is a software application that is designed to imitate human conversation through text or voice commands.\"\n",
    "            ],\n",
    "        \n",
    "            (\"cognitive computing\",): [\n",
    "                \"Cognitive computing is essentially the same as AI. It’s a computerized model that focuses on mimicking human thought processes such as understanding natural language, pattern recognition, and learning.\"\n",
    "            ],\n",
    "        \n",
    "            (\"data mining\",): [\n",
    "                \"Data mining is the process of closely examining data to identify patterns and glean insights. Data mining is a central aspect of data analytics; the insights you find during the mining process will inform your business recommendations.\"\n",
    "            ],\n",
    "        \n",
    "            (\"data science\",): [\n",
    "                \"Data science is an interdisciplinary field of technology that uses algorithms and processes to gather and analyze large amounts of data to uncover patterns and insights that inform business decisions.\"\n",
    "            ],\n",
    "        \n",
    "            (\"emergent behavior\",): [\n",
    "                \"Emergent behavior, also called emergence, is when an AI system shows unpredictable or unintended capabilities that only occur when individual parts interact as a wider whole.\"\n",
    "            ],\n",
    "        \n",
    "            (\"generative ai\",): [\n",
    "                \"Generative AI is a type of technology that uses AI to create content, including text, video, code and images. A generative AI system is trained using large amounts of data, so that it can find patterns for generating new content.\"\n",
    "            ],\n",
    "        \n",
    "            (\"guardrails\",): [\n",
    "                \"Guardrails are mechanisms and frameworks designed to ensure that AI systems operate within ethical, legal, and technical boundaries. They prevent AI from causing harm, making biased decisions, or being misused.\"\n",
    "            ],\n",
    "        \n",
    "            (\"hallucination\",): [\n",
    "                \"Hallucination refers to an incorrect response from an AI system, or false information in an output that is presented as factual information.\"\n",
    "            ],\n",
    "        \n",
    "            (\"hyperparameter\",): [\n",
    "                \"Hyperparameters are parameters whose values control the learning process and determine the values of model parameters that a learning algorithm ends up learning.\"\n",
    "            ],\n",
    "    \n",
    "            (\"bye\", \"goodbye\", \"exit\", \"quit\", \"stop\", \"ok bye\"): [\n",
    "                \"Goodbye! Thanks for chatting with me.\",\n",
    "                \"Bye! Have a great day learning AI!\"\n",
    "            ],\n",
    "\n",
    "            (\"cool\", \"awesome\", \"ok\", \"ah\", \"thank you\", \"thanks\"): [\n",
    "                \"Glad to have helped! Let me know if you want to ask something else.\"\n",
    "            ]\n",
    "        }\n",
    "    \n",
    "    # function to classify a term\n",
    "    def classify_term(self, term: str) -> str:\n",
    "        normalized_term = normalize = normalize_text(term)\n",
    "\n",
    "        return (\"AI-related\" if normalized_term in self.ai_terms # check exact matches\n",
    "                else \"AI-related (partial match)\" if any(ai_term in normalized_term or normalized_term in ai_term for ai_term in self.ai_terms) # check partial matches like \"neural\" only vs \"neural network\"\n",
    "                else \"Not AI-related\") # classify as not ai-related if neither matches\n",
    "    \n",
    "    # function to classify multiple terms\n",
    "    def classify_multiple_terms(self, terms_input: str) -> dict: # recieves a string and return a dictionary\n",
    "        # this turns the string input into an array of terms\n",
    "        # if term.strip() part only keeps non-empty terms after stripping\n",
    "        terms = [term.strip() for term in terms_input.split(\",\") if term.strip()]\n",
    "        # pass each term to the classify term function\n",
    "        return {term: self.classify_term(term) for term in terms}\n",
    "\n",
    "    # function to find response \n",
    "    def find_response(self, user_input: str) -> str:\n",
    "        # check for \"what is/are\" patterns first (before normalization to preserve commas)\n",
    "        what_pattern = re.compile(r\"what(?:'s|s| is| are)\\s+(.+)\", re.IGNORECASE)\n",
    "        match = what_pattern.match(user_input.strip())\n",
    "        if match:\n",
    "            query = match.group(1).strip()\n",
    "            # split by comma, \"and\", &\n",
    "            parts = re.split(r',|\\s+and\\s+|&', query)\n",
    "            terms_raw = []\n",
    "            for part in parts:\n",
    "                part = part.strip()\n",
    "                if part:\n",
    "                    terms_raw.append(part)\n",
    "            \n",
    "            # for each part, check if it contains multiple ai terms that should be split further\n",
    "            final_terms = []\n",
    "            for term in terms_raw:\n",
    "                # Check if this term contains multiple known AI terms\n",
    "                normalized_term = normalize_text(term)\n",
    "                \n",
    "                # list of AI terms to look for (in order of preference for splitting)\n",
    "                ai_keywords = [\n",
    "                    'artificial intelligence', 'machine learning', 'deep learning', 'neural network',\n",
    "                    'natural language processing', 'computer vision', 'big data', 'algorithm',\n",
    "                    'ai', 'ml', 'nlp', 'api', 'llm'\n",
    "                ]\n",
    "                \n",
    "                # try to find multiple keywords in this term\n",
    "                found_keywords = []\n",
    "                for keyword in ai_keywords:\n",
    "                    if re.search(r'\\b' + re.escape(keyword) + r'\\b', normalized_term):\n",
    "                        found_keywords.append(keyword)\n",
    "                \n",
    "                # if multiple keywords found ,add them separately\n",
    "                if len(found_keywords) > 1:\n",
    "                    final_terms.extend(found_keywords)\n",
    "                else:\n",
    "                    final_terms.append(normalized_term)\n",
    "            \n",
    "            # use final_terms for matching\n",
    "            terms_in_query = final_terms\n",
    "            \n",
    "            definitions = []\n",
    "            for term in terms_in_query:\n",
    "                found_definition = False\n",
    "                # skip greeting/goodbye keywords when looking for definitions\n",
    "                for keywords, responses in self.responses.items():\n",
    "                    # skip greeting/goodbye entries\n",
    "                    if any(word in keywords for word in [\"hello\", \"hi\", \"hey\", \"greetings\", \"bye\", \"goodbye\", \"exit\", \"quit\", \"stop\", \"ok bye\", \"cool\", \"awesome\", \"ok\", \"ah\", \"thank you\", \"thanks\"]):\n",
    "                        continue\n",
    "                    for keyword in keywords:\n",
    "                        if re.search(r'\\b' + re.escape(keyword) + r'\\b', term):\n",
    "                            definitions.append(random.choice(responses))\n",
    "                            found_definition = True\n",
    "                            break\n",
    "                    if found_definition:\n",
    "                        break\n",
    "            \n",
    "            if definitions:\n",
    "                return \" \".join(definitions)\n",
    "            else:\n",
    "                classification = self.classify_term(query)\n",
    "                if classification.startswith(\"AI-related\"):\n",
    "                    return f\"I have information about '{query}' as an AI-related topic, but no specific definition. Try rephrasing!\"\n",
    "                else:\n",
    "                    return \"I'm not sure about that. Can you ask me about AI or machine learning?\"\n",
    "\n",
    "        # normalize input for non-\"what\" questions\n",
    "        user_input_normalized = normalize_text(user_input)\n",
    "        \n",
    "        # handle greetings and goodbyes for non-\"what\" questions\n",
    "        for keywords, responses in self.responses.items():\n",
    "            if any(word in keywords for word in [\"hello\", \"hi\", \"hey\", \"greetings\", \"bye\", \"goodbye\", \"exit\", \"quit\", \"stop\", \"ok bye\", \"cool\", \"awesome\", \"ok\", \"ah\", \"thank you\", \"thanks\"]):\n",
    "                for keyword in keywords:\n",
    "                    if re.search(r'\\b' + re.escape(keyword) + r'\\b', user_input_normalized):\n",
    "                        return random.choice(responses)\n",
    "\n",
    "        # fallback for single term not in a \"what is\" question\n",
    "        classification = self.classify_term(user_input_normalized)\n",
    "        if classification.startswith(\"AI-related\"):\n",
    "             return f\"That is an AI-related term! Try asking 'What's {user_input.strip()}?' for more info.\"\n",
    "\n",
    "        # Default fallback responses\n",
    "        return random.choice([\n",
    "            \"I'm not sure about that. Can you ask me about AI or machine learning?\",\n",
    "            \"I didn't quite understand. Try asking about artificial intelligence or related topics.\",\n",
    "            \"I didn't catch that. I specialize in AI-related topics, what would you like to know?\",\n",
    "        ])\n",
    "    \n",
    "    # function of the ai chatbot, itself\n",
    "    def chat(self):\n",
    "        # prepare exit words and initial prints\n",
    "        exit_words = [\"bye\", \"goodbye\", \"exit\", \"quit\", \"stop\"]\n",
    "        print_banner()\n",
    "        print(f\"Type {', '.join(exit_words)} to end this conversation\")\n",
    "        \n",
    "        # runs until chat is terminated\n",
    "        while True:\n",
    "            try: \n",
    "                # asks for user input and strips to remove leading and trailing empty spaces\n",
    "                user_input = input(\"\\n👤You: \").strip()\n",
    "                response = (self.find_response(user_input) if user_input.lower() not in ['bye', 'goodbye', 'exit', 'quit', 'stop'] else self.find_response(user_input))\n",
    "\n",
    "                print(f\"🤖 SamGPT: {response}\")\n",
    "\n",
    "                # if user enters a term in exit_words, the program is terminated\n",
    "                if user_input.lower() in exit_words:\n",
    "                    break\n",
    "            except KeyboardInterrupt:\n",
    "                print(\"\\n🤖 SamGPT: Goodbye! Thank you for chatting!\")\n",
    "            except Exception as e:\n",
    "                print(f\"🤖 SamGPT: Sorry! I encountered an error: {e}\")\n",
    "\n",
    "# intiialize an ai object from the ai class defined\n",
    "ai = SimpleAI()"
   ]
  },
  {
   "cell_type": "markdown",
   "id": "8b7cb058-a2e3-437f-b66a-558eb0f5a81c",
   "metadata": {},
   "source": [
    "#### Task 3.1 Simple Rule-Based AI"
   ]
  },
  {
   "cell_type": "code",
   "execution_count": null,
   "id": "758d3825-9697-482c-aea8-6aca44f8acbd",
   "metadata": {},
   "outputs": [],
   "source": [
    "# ask for user input\n",
    "term = input(\"Enter a term: \")\n",
    "\n",
    "# pass input to classify term function and print result\n",
    "print(ai.classify_term(term))"
   ]
  },
  {
   "cell_type": "markdown",
   "id": "441f235a-29e4-42c5-a413-916558fe16a1",
   "metadata": {},
   "source": [
    "#### Task 3.2 Simple Rule-Based Chatbot - Challenge #1\n",
    "##### Multiple Terms Classification"
   ]
  },
  {
   "cell_type": "code",
   "execution_count": null,
   "id": "9932a4e5-c451-490b-b8a8-531779c422fc",
   "metadata": {},
   "outputs": [],
   "source": [
    "# ask for user input\n",
    "terms = input(\"Enter term separated by commas: \")\n",
    "\n",
    "# pass input to classify multiple term function and print it\n",
    "print(ai.classify_multiple_terms(terms))"
   ]
  },
  {
   "cell_type": "markdown",
   "id": "ea9d9972-8479-42f2-a4d1-38f9dac0d2c7",
   "metadata": {},
   "source": [
    "#### Task 3.3 Simple Rule-Based Chatbot - Challenge #2\n",
    "##### Functioning Chatbot"
   ]
  },
  {
   "cell_type": "code",
   "execution_count": 5,
   "id": "f662fb81-43ad-4ebc-bb7c-3ccd5655a2f7",
   "metadata": {},
   "outputs": [
    {
     "name": "stdout",
     "output_type": "stream",
     "text": [
      "\n",
      "       ███████╗ █████╗ ███╗   ███╗  ██████╗ ██████╗ ████████╗\n",
      "       ██╔════╝██╔══██╗████╗ ████║██╔════╝ ██╔══██╗╚══██╔══╝\n",
      "       ███████╗███████║██╔████╔██║██║  ███╗██████╔╝   ██║   \n",
      "       ╚════██║██╔══██║██║╚██╔╝██║██║   ██║██╔═══╝    ██║   \n",
      "       ███████║██║  ██║██║ ╚═╝ ██║╚██████╔╝██║        ██║   \n",
      "       ╚══════╝╚═╝  ╚═╝╚═╝     ╚═╝ ╚═════╝ ╚═╝        ╚═╝   \n",
      "        \n",
      "Type bye, goodbye, exit, quit, stop to end this conversation\n"
     ]
    },
    {
     "name": "stdout",
     "output_type": "stream",
     "text": [
      "\n",
      "👤You:  what's ai, deep learning, machine learning\n"
     ]
    },
    {
     "name": "stdout",
     "output_type": "stream",
     "text": [
      "🤖 SamGPT: AI stands for artificial intelligence, which is the simulation of human intelligence processes by machines or computer systems. Unlike machine learning, deep learning algorithms can improve incorrect outcomes through repetition without human intervention. These deep neural networks take inspiration from the structure of the human brain. Machine learning is a subset of AI in which algorithms mimic human learning while processing data.\n"
     ]
    },
    {
     "name": "stdout",
     "output_type": "stream",
     "text": [
      "\n",
      "👤You:  what's computer vision\n"
     ]
    },
    {
     "name": "stdout",
     "output_type": "stream",
     "text": [
      "🤖 SamGPT: Computer vision is an interdisciplinary field of science and technology that focuses on how computers can gain understanding from images and videos.\n"
     ]
    },
    {
     "name": "stdout",
     "output_type": "stream",
     "text": [
      "\n",
      "👤You:  ok\n"
     ]
    },
    {
     "name": "stdout",
     "output_type": "stream",
     "text": [
      "🤖 SamGPT: Glad to have helped! Let me know if you want to ask something else.\n"
     ]
    },
    {
     "name": "stdout",
     "output_type": "stream",
     "text": [
      "\n",
      "👤You:  cool\n"
     ]
    },
    {
     "name": "stdout",
     "output_type": "stream",
     "text": [
      "🤖 SamGPT: Glad to have helped! Let me know if you want to ask something else.\n"
     ]
    },
    {
     "name": "stdout",
     "output_type": "stream",
     "text": [
      "\n",
      "👤You:  stop\n"
     ]
    },
    {
     "name": "stdout",
     "output_type": "stream",
     "text": [
      "🤖 SamGPT: Goodbye! Thanks for chatting with me.\n"
     ]
    },
    {
     "name": "stdout",
     "output_type": "stream",
     "text": [
      "🤖 SamGPT: Howdy! How can I help your AI curiousity?\n"
     ]
    },
    {
     "name": "stdout",
     "output_type": "stream",
     "text": [
      "\n",
      "👤You:  what is ai\n"
     ]
    },
    {
     "name": "stdout",
     "output_type": "stream",
     "text": [
      "🤖 SamGPT: AI stands for artificial intelligence, which is the simulation of human intelligence processes by machines or computer systems.\n"
     ]
    },
    {
     "name": "stdout",
     "output_type": "stream",
     "text": [
      "\n",
      "👤You:  what is ai and machine learning\n"
     ]
    },
    {
     "name": "stdout",
     "output_type": "stream",
     "text": [
      "🤖 SamGPT: AI aims to mimic and ultimately surpass human capabilities such as communication, learning, and decision-making. Machine learning is a subset of AI in which algorithms mimic human learning while processing data.\n"
     ]
    },
    {
     "name": "stdout",
     "output_type": "stream",
     "text": [
      "\n",
      "👤You:  ai, machine learning, computer vision, and deep learning\n"
     ]
    },
    {
     "name": "stdout",
     "output_type": "stream",
     "text": [
      "🤖 SamGPT: That is an AI-related term! Try asking 'what's ai, machine learning, computer vision, and deep learning' for more info.\n"
     ]
    },
    {
     "name": "stdout",
     "output_type": "stream",
     "text": [
      "\n",
      "👤You:  what's ai, machine learning, computer vision, and deep learning\n"
     ]
    },
    {
     "name": "stdout",
     "output_type": "stream",
     "text": [
      "🤖 SamGPT: That is an AI-related term! Try asking 'what's what's ai, machine learning, computer vision, and deep learning' for more info.\n"
     ]
    },
    {
     "name": "stdout",
     "output_type": "stream",
     "text": [
      "🤖 SamGPT: AI stands for artificial intelligence, which is the simulation of human intelligence processes by machines or computer systems. Machine learning is a subset of AI in which algorithms mimic human learning while processing data.\n"
     ]
    },
    {
     "name": "stdout",
     "output_type": "stream",
     "text": [
      "\n",
      "👤You:  what ai deep learning and machine learnig\n"
     ]
    },
    {
     "name": "stdout",
     "output_type": "stream",
     "text": [
      "🤖 SamGPT: That is an AI-related term! Try asking 'what's what ai deep learning and machine learnig' for more info.\n"
     ]
    },
    {
     "name": "stdout",
     "output_type": "stream",
     "text": [
      "\n",
      "👤You:  what's ai deep learning and machine learning\n"
     ]
    },
    {
     "name": "stdout",
     "output_type": "stream",
     "text": [
      "🤖 SamGPT: AI stands for artificial intelligence, which is the simulation of human intelligence processes by machines or computer systems. Machine learning focuses on developing algorithms and models that help machines learn from data and predict trends and behaviors, without human assistance.\n"
     ]
    },
    {
     "name": "stdout",
     "output_type": "stream",
     "text": [
      "🤖 SamGPT: Hello! I'm here to assist you with AI-related inquiries!\n"
     ]
    },
    {
     "name": "stdout",
     "output_type": "stream",
     "text": [
      "\n",
      "👤You:  hru\n"
     ]
    },
    {
     "name": "stdout",
     "output_type": "stream",
     "text": [
      "🤖 SamGPT: I'm not sure about that. Can you ask me about AI or machine learning?\n"
     ]
    },
    {
     "name": "stdout",
     "output_type": "stream",
     "text": [
      "\n",
      "👤You:  ai\n"
     ]
    },
    {
     "name": "stdout",
     "output_type": "stream",
     "text": [
      "🤖 SamGPT: That is an AI-related term! Try asking 'what's ai' for more info.\n"
     ]
    },
    {
     "name": "stdout",
     "output_type": "stream",
     "text": [
      "\n",
      "👤You:  what's ai\n"
     ]
    },
    {
     "name": "stdout",
     "output_type": "stream",
     "text": [
      "🤖 SamGPT: That is an AI-related term! Try asking 'what's what's ai' for more info.\n"
     ]
    },
    {
     "name": "stdout",
     "output_type": "stream",
     "text": [
      "\n",
      "👤You:  what is ai\n"
     ]
    },
    {
     "name": "stdout",
     "output_type": "stream",
     "text": [
      "🤖 SamGPT: AI aims to mimic and ultimately surpass human capabilities such as communication, learning, and decision-making.\n"
     ]
    },
    {
     "name": "stdout",
     "output_type": "stream",
     "text": [
      "\n",
      "👤You:  what is machine learning and deep learning\n"
     ]
    },
    {
     "name": "stdout",
     "output_type": "stream",
     "text": [
      "🤖 SamGPT: Machine learning is a subset of AI in which algorithms mimic human learning while processing data. Deep learning is a machine learning technique that layers algorithms and computing units—or neurons—into what is called an artificial neural network (ANN).\n"
     ]
    },
    {
     "name": "stdout",
     "output_type": "stream",
     "text": [
      "\n",
      "👤You:  what's deep learning\n"
     ]
    },
    {
     "name": "stdout",
     "output_type": "stream",
     "text": [
      "🤖 SamGPT: That is an AI-related term! Try asking 'what's what's deep learning' for more info.\n"
     ]
    },
    {
     "name": "stdout",
     "output_type": "stream",
     "text": [
      "🤖 SamGPT: Hello! I'm here to assist you with AI-related inquiries!\n"
     ]
    },
    {
     "name": "stdout",
     "output_type": "stream",
     "text": [
      "\n",
      "👤You:  what is a\n"
     ]
    },
    {
     "name": "stdout",
     "output_type": "stream",
     "text": [
      "🤖 SamGPT: That term is AI-related. Try asking 'what's a' for more info.\n"
     ]
    },
    {
     "name": "stdout",
     "output_type": "stream",
     "text": [
      "\n",
      "👤You:  what's a\n"
     ]
    },
    {
     "name": "stdout",
     "output_type": "stream",
     "text": [
      "🤖 SamGPT: I didn't catch that. I specialize in AI-related topics, what would you like to know?\n"
     ]
    },
    {
     "name": "stdout",
     "output_type": "stream",
     "text": [
      "\n",
      "👤You:  what is ai\n"
     ]
    },
    {
     "name": "stdout",
     "output_type": "stream",
     "text": [
      "🤖 SamGPT: AI aims to mimic and ultimately surpass human capabilities such as communication, learning, and decision-making.\n"
     ]
    },
    {
     "name": "stdout",
     "output_type": "stream",
     "text": [
      "\n",
      "👤You:  what is machine learning\n"
     ]
    },
    {
     "name": "stdout",
     "output_type": "stream",
     "text": [
      "🤖 SamGPT: Machine learning is a subset of AI in which algorithms mimic human learning while processing data.\n"
     ]
    },
    {
     "name": "stdout",
     "output_type": "stream",
     "text": [
      "\n",
      "👤You:  machine learning\n"
     ]
    },
    {
     "name": "stdout",
     "output_type": "stream",
     "text": [
      "🤖 SamGPT: Machine learning is a subset of AI in which algorithms mimic human learning while processing data.\n"
     ]
    },
    {
     "name": "stdout",
     "output_type": "stream",
     "text": [
      "\n",
      "👤You:  machine learning and ai\n"
     ]
    },
    {
     "name": "stdout",
     "output_type": "stream",
     "text": [
      "🤖 SamGPT: AI stands for artificial intelligence, which is the simulation of human intelligence processes by machines or computer systems.\n"
     ]
    }
   ],
   "source": [
    "# run the AI chat function\n",
    "\n",
    "ai.chat()"
   ]
  }
 ],
 "metadata": {
  "kernelspec": {
   "display_name": "Python 3 (ipykernel)",
   "language": "python",
   "name": "python3"
  },
  "language_info": {
   "codemirror_mode": {
    "name": "ipython",
    "version": 3
   },
   "file_extension": ".py",
   "mimetype": "text/x-python",
   "name": "python",
   "nbconvert_exporter": "python",
   "pygments_lexer": "ipython3",
   "version": "3.12.3"
  }
 },
 "nbformat": 4,
 "nbformat_minor": 5
}
